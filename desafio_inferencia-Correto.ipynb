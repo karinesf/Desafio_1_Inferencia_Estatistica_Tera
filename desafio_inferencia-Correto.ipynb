{
 "cells": [
  {
   "cell_type": "markdown",
   "id": "db595177",
   "metadata": {},
   "source": [
    "# Desafio 1 - Inferência estatística"
   ]
  },
  {
   "cell_type": "code",
   "execution_count": 73,
   "id": "f61a900c",
   "metadata": {},
   "outputs": [],
   "source": [
    "## Importando as bibliotecas necessárias\n",
    "import pandas as pd\n",
    "import numpy as np\n",
    "import matplotlib.pyplot as plt\n",
    "import seaborn as sns"
   ]
  },
  {
   "cell_type": "markdown",
   "id": "877f4c6d",
   "metadata": {},
   "source": [
    "## Tratamento dos dados"
   ]
  },
  {
   "cell_type": "code",
   "execution_count": 74,
   "id": "4018532e",
   "metadata": {},
   "outputs": [],
   "source": [
    "## lendo os datasets\n",
    "df_demo = pd.read_csv(\"DEMO_PHQ.csv\", encoding=\"UTF-8\", sep=\",\")\n",
    "df_pag = pd.read_csv(\"PAG_HEI.csv\", encoding=\"UTF-8\", sep=\",\")"
   ]
  },
  {
   "cell_type": "code",
   "execution_count": 75,
   "id": "e2696415",
   "metadata": {},
   "outputs": [
    {
     "data": {
      "text/html": [
       "<div>\n",
       "<style scoped>\n",
       "    .dataframe tbody tr th:only-of-type {\n",
       "        vertical-align: middle;\n",
       "    }\n",
       "\n",
       "    .dataframe tbody tr th {\n",
       "        vertical-align: top;\n",
       "    }\n",
       "\n",
       "    .dataframe thead th {\n",
       "        text-align: right;\n",
       "    }\n",
       "</style>\n",
       "<table border=\"1\" class=\"dataframe\">\n",
       "  <thead>\n",
       "    <tr style=\"text-align: right;\">\n",
       "      <th></th>\n",
       "      <th>SEQN</th>\n",
       "      <th>DPQ010</th>\n",
       "      <th>DPQ020</th>\n",
       "      <th>DPQ030</th>\n",
       "      <th>DPQ040</th>\n",
       "      <th>DPQ050</th>\n",
       "      <th>DPQ060</th>\n",
       "      <th>DPQ070</th>\n",
       "      <th>DPQ080</th>\n",
       "      <th>DPQ090</th>\n",
       "      <th>RIAGENDR</th>\n",
       "      <th>RIDAGEYR</th>\n",
       "      <th>RIDRETH1</th>\n",
       "      <th>DMDEDUC</th>\n",
       "      <th>INDFMINC</th>\n",
       "    </tr>\n",
       "  </thead>\n",
       "  <tbody>\n",
       "    <tr>\n",
       "      <th>0</th>\n",
       "      <td>31130</td>\n",
       "      <td>NaN</td>\n",
       "      <td>NaN</td>\n",
       "      <td>NaN</td>\n",
       "      <td>NaN</td>\n",
       "      <td>NaN</td>\n",
       "      <td>NaN</td>\n",
       "      <td>NaN</td>\n",
       "      <td>NaN</td>\n",
       "      <td>NaN</td>\n",
       "      <td>2</td>\n",
       "      <td>85</td>\n",
       "      <td>3</td>\n",
       "      <td>4</td>\n",
       "      <td>4.0</td>\n",
       "    </tr>\n",
       "    <tr>\n",
       "      <th>1</th>\n",
       "      <td>31131</td>\n",
       "      <td>0.0</td>\n",
       "      <td>0.0</td>\n",
       "      <td>0.0</td>\n",
       "      <td>0.0</td>\n",
       "      <td>0.0</td>\n",
       "      <td>0.0</td>\n",
       "      <td>0.0</td>\n",
       "      <td>0.0</td>\n",
       "      <td>0.0</td>\n",
       "      <td>2</td>\n",
       "      <td>44</td>\n",
       "      <td>4</td>\n",
       "      <td>4</td>\n",
       "      <td>11.0</td>\n",
       "    </tr>\n",
       "    <tr>\n",
       "      <th>2</th>\n",
       "      <td>31132</td>\n",
       "      <td>0.0</td>\n",
       "      <td>0.0</td>\n",
       "      <td>0.0</td>\n",
       "      <td>0.0</td>\n",
       "      <td>0.0</td>\n",
       "      <td>0.0</td>\n",
       "      <td>0.0</td>\n",
       "      <td>0.0</td>\n",
       "      <td>0.0</td>\n",
       "      <td>1</td>\n",
       "      <td>70</td>\n",
       "      <td>3</td>\n",
       "      <td>5</td>\n",
       "      <td>11.0</td>\n",
       "    </tr>\n",
       "    <tr>\n",
       "      <th>3</th>\n",
       "      <td>31134</td>\n",
       "      <td>0.0</td>\n",
       "      <td>0.0</td>\n",
       "      <td>0.0</td>\n",
       "      <td>0.0</td>\n",
       "      <td>0.0</td>\n",
       "      <td>0.0</td>\n",
       "      <td>0.0</td>\n",
       "      <td>0.0</td>\n",
       "      <td>0.0</td>\n",
       "      <td>1</td>\n",
       "      <td>73</td>\n",
       "      <td>3</td>\n",
       "      <td>3</td>\n",
       "      <td>12.0</td>\n",
       "    </tr>\n",
       "    <tr>\n",
       "      <th>4</th>\n",
       "      <td>31139</td>\n",
       "      <td>0.0</td>\n",
       "      <td>0.0</td>\n",
       "      <td>0.0</td>\n",
       "      <td>0.0</td>\n",
       "      <td>3.0</td>\n",
       "      <td>1.0</td>\n",
       "      <td>0.0</td>\n",
       "      <td>0.0</td>\n",
       "      <td>0.0</td>\n",
       "      <td>2</td>\n",
       "      <td>18</td>\n",
       "      <td>2</td>\n",
       "      <td>3</td>\n",
       "      <td>11.0</td>\n",
       "    </tr>\n",
       "  </tbody>\n",
       "</table>\n",
       "</div>"
      ],
      "text/plain": [
       "    SEQN  DPQ010  DPQ020  DPQ030  DPQ040  DPQ050  DPQ060  DPQ070  DPQ080  \\\n",
       "0  31130     NaN     NaN     NaN     NaN     NaN     NaN     NaN     NaN   \n",
       "1  31131     0.0     0.0     0.0     0.0     0.0     0.0     0.0     0.0   \n",
       "2  31132     0.0     0.0     0.0     0.0     0.0     0.0     0.0     0.0   \n",
       "3  31134     0.0     0.0     0.0     0.0     0.0     0.0     0.0     0.0   \n",
       "4  31139     0.0     0.0     0.0     0.0     3.0     1.0     0.0     0.0   \n",
       "\n",
       "   DPQ090  RIAGENDR  RIDAGEYR  RIDRETH1  DMDEDUC  INDFMINC  \n",
       "0     NaN         2        85         3        4       4.0  \n",
       "1     0.0         2        44         4        4      11.0  \n",
       "2     0.0         1        70         3        5      11.0  \n",
       "3     0.0         1        73         3        3      12.0  \n",
       "4     0.0         2        18         2        3      11.0  "
      ]
     },
     "execution_count": 75,
     "metadata": {},
     "output_type": "execute_result"
    }
   ],
   "source": [
    "df_demo.head()"
   ]
  },
  {
   "cell_type": "code",
   "execution_count": 76,
   "id": "574988b7",
   "metadata": {},
   "outputs": [
    {
     "data": {
      "text/plain": [
       "(5334, 15)"
      ]
     },
     "execution_count": 76,
     "metadata": {},
     "output_type": "execute_result"
    }
   ],
   "source": [
    "df_demo.shape"
   ]
  },
  {
   "cell_type": "code",
   "execution_count": 77,
   "id": "02cb9f7f",
   "metadata": {},
   "outputs": [
    {
     "name": "stdout",
     "output_type": "stream",
     "text": [
      "<class 'pandas.core.frame.DataFrame'>\n",
      "RangeIndex: 5334 entries, 0 to 5333\n",
      "Data columns (total 15 columns):\n",
      " #   Column    Non-Null Count  Dtype  \n",
      "---  ------    --------------  -----  \n",
      " 0   SEQN      5334 non-null   int64  \n",
      " 1   DPQ010    4836 non-null   float64\n",
      " 2   DPQ020    4836 non-null   float64\n",
      " 3   DPQ030    4836 non-null   float64\n",
      " 4   DPQ040    4836 non-null   float64\n",
      " 5   DPQ050    4836 non-null   float64\n",
      " 6   DPQ060    4836 non-null   float64\n",
      " 7   DPQ070    4836 non-null   float64\n",
      " 8   DPQ080    4836 non-null   float64\n",
      " 9   DPQ090    4836 non-null   float64\n",
      " 10  RIAGENDR  5334 non-null   int64  \n",
      " 11  RIDAGEYR  5334 non-null   int64  \n",
      " 12  RIDRETH1  5334 non-null   int64  \n",
      " 13  DMDEDUC   5334 non-null   int64  \n",
      " 14  INDFMINC  5287 non-null   float64\n",
      "dtypes: float64(10), int64(5)\n",
      "memory usage: 625.2 KB\n"
     ]
    }
   ],
   "source": [
    "df_demo.info()"
   ]
  },
  {
   "cell_type": "code",
   "execution_count": 78,
   "id": "2ccbbaf1",
   "metadata": {},
   "outputs": [
    {
     "data": {
      "text/plain": [
       "SEQN          0\n",
       "DPQ010      498\n",
       "DPQ020      498\n",
       "DPQ030      498\n",
       "DPQ040      498\n",
       "DPQ050      498\n",
       "DPQ060      498\n",
       "DPQ070      498\n",
       "DPQ080      498\n",
       "DPQ090      498\n",
       "RIAGENDR      0\n",
       "RIDAGEYR      0\n",
       "RIDRETH1      0\n",
       "DMDEDUC       0\n",
       "INDFMINC     47\n",
       "dtype: int64"
      ]
     },
     "execution_count": 78,
     "metadata": {},
     "output_type": "execute_result"
    }
   ],
   "source": [
    "df_demo.isnull().sum()"
   ]
  },
  {
   "cell_type": "code",
   "execution_count": 79,
   "id": "c72d8bac",
   "metadata": {},
   "outputs": [
    {
     "data": {
      "text/html": [
       "<div>\n",
       "<style scoped>\n",
       "    .dataframe tbody tr th:only-of-type {\n",
       "        vertical-align: middle;\n",
       "    }\n",
       "\n",
       "    .dataframe tbody tr th {\n",
       "        vertical-align: top;\n",
       "    }\n",
       "\n",
       "    .dataframe thead th {\n",
       "        text-align: right;\n",
       "    }\n",
       "</style>\n",
       "<table border=\"1\" class=\"dataframe\">\n",
       "  <thead>\n",
       "    <tr style=\"text-align: right;\">\n",
       "      <th></th>\n",
       "      <th>SEQN</th>\n",
       "      <th>PAG_MINW</th>\n",
       "      <th>ADHERENCE</th>\n",
       "      <th>HEI2015C1_TOTALVEG</th>\n",
       "      <th>HEI2015C2_GREEN_AND_BEAN</th>\n",
       "      <th>HEI2015C3_TOTALFRUIT</th>\n",
       "      <th>HEI2015C4_WHOLEFRUIT</th>\n",
       "      <th>HEI2015C5_WHOLEGRAIN</th>\n",
       "      <th>HEI2015C6_TOTALDAIRY</th>\n",
       "      <th>HEI2015C7_TOTPROT</th>\n",
       "      <th>HEI2015C8_SEAPLANT_PROT</th>\n",
       "      <th>HEI2015C9_FATTYACID</th>\n",
       "      <th>HEI2015C10_SODIUM</th>\n",
       "      <th>HEI2015C11_REFINEDGRAIN</th>\n",
       "      <th>HEI2015C12_SFAT</th>\n",
       "      <th>HEI2015C13_ADDSUG</th>\n",
       "      <th>HEI2015_TOTAL_SCORE</th>\n",
       "    </tr>\n",
       "  </thead>\n",
       "  <tbody>\n",
       "    <tr>\n",
       "      <th>0</th>\n",
       "      <td>31128</td>\n",
       "      <td>NaN</td>\n",
       "      <td>NaN</td>\n",
       "      <td>3.083350</td>\n",
       "      <td>0.0</td>\n",
       "      <td>3.927008</td>\n",
       "      <td>5.000000</td>\n",
       "      <td>0.000000</td>\n",
       "      <td>5.000000</td>\n",
       "      <td>4.251329</td>\n",
       "      <td>0.000000</td>\n",
       "      <td>2.487572</td>\n",
       "      <td>6.911882</td>\n",
       "      <td>10.000000</td>\n",
       "      <td>0.818029</td>\n",
       "      <td>6.408092</td>\n",
       "      <td>47.887262</td>\n",
       "    </tr>\n",
       "    <tr>\n",
       "      <th>1</th>\n",
       "      <td>31129</td>\n",
       "      <td>285.450346</td>\n",
       "      <td>2.0</td>\n",
       "      <td>1.697761</td>\n",
       "      <td>0.0</td>\n",
       "      <td>3.731602</td>\n",
       "      <td>4.929186</td>\n",
       "      <td>0.527631</td>\n",
       "      <td>3.887809</td>\n",
       "      <td>4.693141</td>\n",
       "      <td>0.928562</td>\n",
       "      <td>3.740758</td>\n",
       "      <td>6.146441</td>\n",
       "      <td>7.274979</td>\n",
       "      <td>8.006457</td>\n",
       "      <td>0.000000</td>\n",
       "      <td>45.564326</td>\n",
       "    </tr>\n",
       "    <tr>\n",
       "      <th>2</th>\n",
       "      <td>31130</td>\n",
       "      <td>0.000000</td>\n",
       "      <td>1.0</td>\n",
       "      <td>NaN</td>\n",
       "      <td>NaN</td>\n",
       "      <td>NaN</td>\n",
       "      <td>NaN</td>\n",
       "      <td>NaN</td>\n",
       "      <td>NaN</td>\n",
       "      <td>NaN</td>\n",
       "      <td>NaN</td>\n",
       "      <td>NaN</td>\n",
       "      <td>NaN</td>\n",
       "      <td>NaN</td>\n",
       "      <td>NaN</td>\n",
       "      <td>NaN</td>\n",
       "      <td>NaN</td>\n",
       "    </tr>\n",
       "    <tr>\n",
       "      <th>3</th>\n",
       "      <td>31131</td>\n",
       "      <td>264.711316</td>\n",
       "      <td>2.0</td>\n",
       "      <td>3.115103</td>\n",
       "      <td>0.0</td>\n",
       "      <td>5.000000</td>\n",
       "      <td>1.320674</td>\n",
       "      <td>0.000000</td>\n",
       "      <td>3.141062</td>\n",
       "      <td>4.071959</td>\n",
       "      <td>2.052399</td>\n",
       "      <td>0.684985</td>\n",
       "      <td>2.297100</td>\n",
       "      <td>9.512964</td>\n",
       "      <td>0.438428</td>\n",
       "      <td>3.919226</td>\n",
       "      <td>35.553899</td>\n",
       "    </tr>\n",
       "    <tr>\n",
       "      <th>4</th>\n",
       "      <td>31132</td>\n",
       "      <td>1353.348730</td>\n",
       "      <td>3.0</td>\n",
       "      <td>3.509081</td>\n",
       "      <td>0.0</td>\n",
       "      <td>5.000000</td>\n",
       "      <td>5.000000</td>\n",
       "      <td>5.000000</td>\n",
       "      <td>4.448512</td>\n",
       "      <td>5.000000</td>\n",
       "      <td>0.000000</td>\n",
       "      <td>2.050769</td>\n",
       "      <td>7.369489</td>\n",
       "      <td>8.887880</td>\n",
       "      <td>8.186877</td>\n",
       "      <td>9.099088</td>\n",
       "      <td>63.551696</td>\n",
       "    </tr>\n",
       "  </tbody>\n",
       "</table>\n",
       "</div>"
      ],
      "text/plain": [
       "    SEQN     PAG_MINW  ADHERENCE  HEI2015C1_TOTALVEG  \\\n",
       "0  31128          NaN        NaN            3.083350   \n",
       "1  31129   285.450346        2.0            1.697761   \n",
       "2  31130     0.000000        1.0                 NaN   \n",
       "3  31131   264.711316        2.0            3.115103   \n",
       "4  31132  1353.348730        3.0            3.509081   \n",
       "\n",
       "   HEI2015C2_GREEN_AND_BEAN  HEI2015C3_TOTALFRUIT  HEI2015C4_WHOLEFRUIT  \\\n",
       "0                       0.0              3.927008              5.000000   \n",
       "1                       0.0              3.731602              4.929186   \n",
       "2                       NaN                   NaN                   NaN   \n",
       "3                       0.0              5.000000              1.320674   \n",
       "4                       0.0              5.000000              5.000000   \n",
       "\n",
       "   HEI2015C5_WHOLEGRAIN  HEI2015C6_TOTALDAIRY  HEI2015C7_TOTPROT  \\\n",
       "0              0.000000              5.000000           4.251329   \n",
       "1              0.527631              3.887809           4.693141   \n",
       "2                   NaN                   NaN                NaN   \n",
       "3              0.000000              3.141062           4.071959   \n",
       "4              5.000000              4.448512           5.000000   \n",
       "\n",
       "   HEI2015C8_SEAPLANT_PROT  HEI2015C9_FATTYACID  HEI2015C10_SODIUM  \\\n",
       "0                 0.000000             2.487572           6.911882   \n",
       "1                 0.928562             3.740758           6.146441   \n",
       "2                      NaN                  NaN                NaN   \n",
       "3                 2.052399             0.684985           2.297100   \n",
       "4                 0.000000             2.050769           7.369489   \n",
       "\n",
       "   HEI2015C11_REFINEDGRAIN  HEI2015C12_SFAT  HEI2015C13_ADDSUG  \\\n",
       "0                10.000000         0.818029           6.408092   \n",
       "1                 7.274979         8.006457           0.000000   \n",
       "2                      NaN              NaN                NaN   \n",
       "3                 9.512964         0.438428           3.919226   \n",
       "4                 8.887880         8.186877           9.099088   \n",
       "\n",
       "   HEI2015_TOTAL_SCORE  \n",
       "0            47.887262  \n",
       "1            45.564326  \n",
       "2                  NaN  \n",
       "3            35.553899  \n",
       "4            63.551696  "
      ]
     },
     "execution_count": 79,
     "metadata": {},
     "output_type": "execute_result"
    }
   ],
   "source": [
    "df_pag.head()"
   ]
  },
  {
   "cell_type": "code",
   "execution_count": 80,
   "id": "879d0dbc",
   "metadata": {},
   "outputs": [
    {
     "data": {
      "text/plain": [
       "(9424, 17)"
      ]
     },
     "execution_count": 80,
     "metadata": {},
     "output_type": "execute_result"
    }
   ],
   "source": [
    "df_pag.shape"
   ]
  },
  {
   "cell_type": "code",
   "execution_count": 81,
   "id": "0540e100",
   "metadata": {},
   "outputs": [
    {
     "name": "stdout",
     "output_type": "stream",
     "text": [
      "<class 'pandas.core.frame.DataFrame'>\n",
      "RangeIndex: 9424 entries, 0 to 9423\n",
      "Data columns (total 17 columns):\n",
      " #   Column                    Non-Null Count  Dtype  \n",
      "---  ------                    --------------  -----  \n",
      " 0   SEQN                      9424 non-null   int64  \n",
      " 1   PAG_MINW                  7150 non-null   float64\n",
      " 2   ADHERENCE                 7150 non-null   float64\n",
      " 3   HEI2015C1_TOTALVEG        8549 non-null   float64\n",
      " 4   HEI2015C2_GREEN_AND_BEAN  8549 non-null   float64\n",
      " 5   HEI2015C3_TOTALFRUIT      8549 non-null   float64\n",
      " 6   HEI2015C4_WHOLEFRUIT      8549 non-null   float64\n",
      " 7   HEI2015C5_WHOLEGRAIN      8549 non-null   float64\n",
      " 8   HEI2015C6_TOTALDAIRY      8549 non-null   float64\n",
      " 9   HEI2015C7_TOTPROT         8549 non-null   float64\n",
      " 10  HEI2015C8_SEAPLANT_PROT   8549 non-null   float64\n",
      " 11  HEI2015C9_FATTYACID       8549 non-null   float64\n",
      " 12  HEI2015C10_SODIUM         8549 non-null   float64\n",
      " 13  HEI2015C11_REFINEDGRAIN   8549 non-null   float64\n",
      " 14  HEI2015C12_SFAT           8549 non-null   float64\n",
      " 15  HEI2015C13_ADDSUG         8549 non-null   float64\n",
      " 16  HEI2015_TOTAL_SCORE       8549 non-null   float64\n",
      "dtypes: float64(16), int64(1)\n",
      "memory usage: 1.2 MB\n"
     ]
    }
   ],
   "source": [
    "df_pag.info()"
   ]
  },
  {
   "cell_type": "code",
   "execution_count": 82,
   "id": "f828aaf9",
   "metadata": {},
   "outputs": [
    {
     "data": {
      "text/plain": [
       "SEQN                           0\n",
       "PAG_MINW                    2274\n",
       "ADHERENCE                   2274\n",
       "HEI2015C1_TOTALVEG           875\n",
       "HEI2015C2_GREEN_AND_BEAN     875\n",
       "HEI2015C3_TOTALFRUIT         875\n",
       "HEI2015C4_WHOLEFRUIT         875\n",
       "HEI2015C5_WHOLEGRAIN         875\n",
       "HEI2015C6_TOTALDAIRY         875\n",
       "HEI2015C7_TOTPROT            875\n",
       "HEI2015C8_SEAPLANT_PROT      875\n",
       "HEI2015C9_FATTYACID          875\n",
       "HEI2015C10_SODIUM            875\n",
       "HEI2015C11_REFINEDGRAIN      875\n",
       "HEI2015C12_SFAT              875\n",
       "HEI2015C13_ADDSUG            875\n",
       "HEI2015_TOTAL_SCORE          875\n",
       "dtype: int64"
      ]
     },
     "execution_count": 82,
     "metadata": {},
     "output_type": "execute_result"
    }
   ],
   "source": [
    "df_pag.isnull().sum()"
   ]
  },
  {
   "cell_type": "code",
   "execution_count": 83,
   "id": "c33cfd1d",
   "metadata": {},
   "outputs": [],
   "source": [
    "# Juntando os dois datasets por meio da coluna SEQN\n",
    "df_full = pd.merge(df_demo, df_pag, how = \"inner\", on = \"SEQN\")"
   ]
  },
  {
   "cell_type": "code",
   "execution_count": 84,
   "id": "835f1573",
   "metadata": {},
   "outputs": [
    {
     "data": {
      "text/html": [
       "<div>\n",
       "<style scoped>\n",
       "    .dataframe tbody tr th:only-of-type {\n",
       "        vertical-align: middle;\n",
       "    }\n",
       "\n",
       "    .dataframe tbody tr th {\n",
       "        vertical-align: top;\n",
       "    }\n",
       "\n",
       "    .dataframe thead th {\n",
       "        text-align: right;\n",
       "    }\n",
       "</style>\n",
       "<table border=\"1\" class=\"dataframe\">\n",
       "  <thead>\n",
       "    <tr style=\"text-align: right;\">\n",
       "      <th></th>\n",
       "      <th>SEQN</th>\n",
       "      <th>DPQ010</th>\n",
       "      <th>DPQ020</th>\n",
       "      <th>DPQ030</th>\n",
       "      <th>DPQ040</th>\n",
       "      <th>DPQ050</th>\n",
       "      <th>DPQ060</th>\n",
       "      <th>DPQ070</th>\n",
       "      <th>DPQ080</th>\n",
       "      <th>DPQ090</th>\n",
       "      <th>...</th>\n",
       "      <th>HEI2015C5_WHOLEGRAIN</th>\n",
       "      <th>HEI2015C6_TOTALDAIRY</th>\n",
       "      <th>HEI2015C7_TOTPROT</th>\n",
       "      <th>HEI2015C8_SEAPLANT_PROT</th>\n",
       "      <th>HEI2015C9_FATTYACID</th>\n",
       "      <th>HEI2015C10_SODIUM</th>\n",
       "      <th>HEI2015C11_REFINEDGRAIN</th>\n",
       "      <th>HEI2015C12_SFAT</th>\n",
       "      <th>HEI2015C13_ADDSUG</th>\n",
       "      <th>HEI2015_TOTAL_SCORE</th>\n",
       "    </tr>\n",
       "  </thead>\n",
       "  <tbody>\n",
       "    <tr>\n",
       "      <th>0</th>\n",
       "      <td>31130</td>\n",
       "      <td>NaN</td>\n",
       "      <td>NaN</td>\n",
       "      <td>NaN</td>\n",
       "      <td>NaN</td>\n",
       "      <td>NaN</td>\n",
       "      <td>NaN</td>\n",
       "      <td>NaN</td>\n",
       "      <td>NaN</td>\n",
       "      <td>NaN</td>\n",
       "      <td>...</td>\n",
       "      <td>NaN</td>\n",
       "      <td>NaN</td>\n",
       "      <td>NaN</td>\n",
       "      <td>NaN</td>\n",
       "      <td>NaN</td>\n",
       "      <td>NaN</td>\n",
       "      <td>NaN</td>\n",
       "      <td>NaN</td>\n",
       "      <td>NaN</td>\n",
       "      <td>NaN</td>\n",
       "    </tr>\n",
       "    <tr>\n",
       "      <th>1</th>\n",
       "      <td>31131</td>\n",
       "      <td>0.0</td>\n",
       "      <td>0.0</td>\n",
       "      <td>0.0</td>\n",
       "      <td>0.0</td>\n",
       "      <td>0.0</td>\n",
       "      <td>0.0</td>\n",
       "      <td>0.0</td>\n",
       "      <td>0.0</td>\n",
       "      <td>0.0</td>\n",
       "      <td>...</td>\n",
       "      <td>0.000000</td>\n",
       "      <td>3.141062</td>\n",
       "      <td>4.071959</td>\n",
       "      <td>2.052399</td>\n",
       "      <td>0.684985</td>\n",
       "      <td>2.297100</td>\n",
       "      <td>9.512964</td>\n",
       "      <td>0.438428</td>\n",
       "      <td>3.919226</td>\n",
       "      <td>35.553899</td>\n",
       "    </tr>\n",
       "    <tr>\n",
       "      <th>2</th>\n",
       "      <td>31132</td>\n",
       "      <td>0.0</td>\n",
       "      <td>0.0</td>\n",
       "      <td>0.0</td>\n",
       "      <td>0.0</td>\n",
       "      <td>0.0</td>\n",
       "      <td>0.0</td>\n",
       "      <td>0.0</td>\n",
       "      <td>0.0</td>\n",
       "      <td>0.0</td>\n",
       "      <td>...</td>\n",
       "      <td>5.000000</td>\n",
       "      <td>4.448512</td>\n",
       "      <td>5.000000</td>\n",
       "      <td>0.000000</td>\n",
       "      <td>2.050769</td>\n",
       "      <td>7.369489</td>\n",
       "      <td>8.887880</td>\n",
       "      <td>8.186877</td>\n",
       "      <td>9.099088</td>\n",
       "      <td>63.551696</td>\n",
       "    </tr>\n",
       "    <tr>\n",
       "      <th>3</th>\n",
       "      <td>31134</td>\n",
       "      <td>0.0</td>\n",
       "      <td>0.0</td>\n",
       "      <td>0.0</td>\n",
       "      <td>0.0</td>\n",
       "      <td>0.0</td>\n",
       "      <td>0.0</td>\n",
       "      <td>0.0</td>\n",
       "      <td>0.0</td>\n",
       "      <td>0.0</td>\n",
       "      <td>...</td>\n",
       "      <td>2.217331</td>\n",
       "      <td>2.313900</td>\n",
       "      <td>5.000000</td>\n",
       "      <td>1.268648</td>\n",
       "      <td>2.958985</td>\n",
       "      <td>0.000000</td>\n",
       "      <td>5.627488</td>\n",
       "      <td>5.863078</td>\n",
       "      <td>5.878686</td>\n",
       "      <td>42.886826</td>\n",
       "    </tr>\n",
       "    <tr>\n",
       "      <th>4</th>\n",
       "      <td>31139</td>\n",
       "      <td>0.0</td>\n",
       "      <td>0.0</td>\n",
       "      <td>0.0</td>\n",
       "      <td>0.0</td>\n",
       "      <td>3.0</td>\n",
       "      <td>1.0</td>\n",
       "      <td>0.0</td>\n",
       "      <td>0.0</td>\n",
       "      <td>0.0</td>\n",
       "      <td>...</td>\n",
       "      <td>0.211544</td>\n",
       "      <td>0.000000</td>\n",
       "      <td>4.088849</td>\n",
       "      <td>4.221442</td>\n",
       "      <td>10.000000</td>\n",
       "      <td>2.845774</td>\n",
       "      <td>0.000000</td>\n",
       "      <td>10.000000</td>\n",
       "      <td>9.658507</td>\n",
       "      <td>47.074393</td>\n",
       "    </tr>\n",
       "  </tbody>\n",
       "</table>\n",
       "<p>5 rows × 31 columns</p>\n",
       "</div>"
      ],
      "text/plain": [
       "    SEQN  DPQ010  DPQ020  DPQ030  DPQ040  DPQ050  DPQ060  DPQ070  DPQ080  \\\n",
       "0  31130     NaN     NaN     NaN     NaN     NaN     NaN     NaN     NaN   \n",
       "1  31131     0.0     0.0     0.0     0.0     0.0     0.0     0.0     0.0   \n",
       "2  31132     0.0     0.0     0.0     0.0     0.0     0.0     0.0     0.0   \n",
       "3  31134     0.0     0.0     0.0     0.0     0.0     0.0     0.0     0.0   \n",
       "4  31139     0.0     0.0     0.0     0.0     3.0     1.0     0.0     0.0   \n",
       "\n",
       "   DPQ090  ...  HEI2015C5_WHOLEGRAIN  HEI2015C6_TOTALDAIRY  HEI2015C7_TOTPROT  \\\n",
       "0     NaN  ...                   NaN                   NaN                NaN   \n",
       "1     0.0  ...              0.000000              3.141062           4.071959   \n",
       "2     0.0  ...              5.000000              4.448512           5.000000   \n",
       "3     0.0  ...              2.217331              2.313900           5.000000   \n",
       "4     0.0  ...              0.211544              0.000000           4.088849   \n",
       "\n",
       "   HEI2015C8_SEAPLANT_PROT  HEI2015C9_FATTYACID  HEI2015C10_SODIUM  \\\n",
       "0                      NaN                  NaN                NaN   \n",
       "1                 2.052399             0.684985           2.297100   \n",
       "2                 0.000000             2.050769           7.369489   \n",
       "3                 1.268648             2.958985           0.000000   \n",
       "4                 4.221442            10.000000           2.845774   \n",
       "\n",
       "   HEI2015C11_REFINEDGRAIN  HEI2015C12_SFAT  HEI2015C13_ADDSUG  \\\n",
       "0                      NaN              NaN                NaN   \n",
       "1                 9.512964         0.438428           3.919226   \n",
       "2                 8.887880         8.186877           9.099088   \n",
       "3                 5.627488         5.863078           5.878686   \n",
       "4                 0.000000        10.000000           9.658507   \n",
       "\n",
       "   HEI2015_TOTAL_SCORE  \n",
       "0                  NaN  \n",
       "1            35.553899  \n",
       "2            63.551696  \n",
       "3            42.886826  \n",
       "4            47.074393  \n",
       "\n",
       "[5 rows x 31 columns]"
      ]
     },
     "execution_count": 84,
     "metadata": {},
     "output_type": "execute_result"
    }
   ],
   "source": [
    "df_full.head()"
   ]
  },
  {
   "cell_type": "code",
   "execution_count": 85,
   "id": "2fa57a0a",
   "metadata": {},
   "outputs": [
    {
     "data": {
      "text/plain": [
       "(5334, 31)"
      ]
     },
     "execution_count": 85,
     "metadata": {},
     "output_type": "execute_result"
    }
   ],
   "source": [
    "df_full.shape"
   ]
  },
  {
   "cell_type": "code",
   "execution_count": 86,
   "id": "da190f1c",
   "metadata": {},
   "outputs": [
    {
     "name": "stdout",
     "output_type": "stream",
     "text": [
      "<class 'pandas.core.frame.DataFrame'>\n",
      "Int64Index: 5334 entries, 0 to 5333\n",
      "Data columns (total 31 columns):\n",
      " #   Column                    Non-Null Count  Dtype  \n",
      "---  ------                    --------------  -----  \n",
      " 0   SEQN                      5334 non-null   int64  \n",
      " 1   DPQ010                    4836 non-null   float64\n",
      " 2   DPQ020                    4836 non-null   float64\n",
      " 3   DPQ030                    4836 non-null   float64\n",
      " 4   DPQ040                    4836 non-null   float64\n",
      " 5   DPQ050                    4836 non-null   float64\n",
      " 6   DPQ060                    4836 non-null   float64\n",
      " 7   DPQ070                    4836 non-null   float64\n",
      " 8   DPQ080                    4836 non-null   float64\n",
      " 9   DPQ090                    4836 non-null   float64\n",
      " 10  RIAGENDR                  5334 non-null   int64  \n",
      " 11  RIDAGEYR                  5334 non-null   int64  \n",
      " 12  RIDRETH1                  5334 non-null   int64  \n",
      " 13  DMDEDUC                   5334 non-null   int64  \n",
      " 14  INDFMINC                  5287 non-null   float64\n",
      " 15  PAG_MINW                  5334 non-null   float64\n",
      " 16  ADHERENCE                 5334 non-null   float64\n",
      " 17  HEI2015C1_TOTALVEG        5060 non-null   float64\n",
      " 18  HEI2015C2_GREEN_AND_BEAN  5060 non-null   float64\n",
      " 19  HEI2015C3_TOTALFRUIT      5060 non-null   float64\n",
      " 20  HEI2015C4_WHOLEFRUIT      5060 non-null   float64\n",
      " 21  HEI2015C5_WHOLEGRAIN      5060 non-null   float64\n",
      " 22  HEI2015C6_TOTALDAIRY      5060 non-null   float64\n",
      " 23  HEI2015C7_TOTPROT         5060 non-null   float64\n",
      " 24  HEI2015C8_SEAPLANT_PROT   5060 non-null   float64\n",
      " 25  HEI2015C9_FATTYACID       5060 non-null   float64\n",
      " 26  HEI2015C10_SODIUM         5060 non-null   float64\n",
      " 27  HEI2015C11_REFINEDGRAIN   5060 non-null   float64\n",
      " 28  HEI2015C12_SFAT           5060 non-null   float64\n",
      " 29  HEI2015C13_ADDSUG         5060 non-null   float64\n",
      " 30  HEI2015_TOTAL_SCORE       5060 non-null   float64\n",
      "dtypes: float64(26), int64(5)\n",
      "memory usage: 1.3 MB\n"
     ]
    }
   ],
   "source": [
    "df_full.info()"
   ]
  },
  {
   "cell_type": "code",
   "execution_count": 87,
   "id": "5b9e0b02",
   "metadata": {},
   "outputs": [
    {
     "data": {
      "text/plain": [
       "SEQN                          0\n",
       "DPQ010                      498\n",
       "DPQ020                      498\n",
       "DPQ030                      498\n",
       "DPQ040                      498\n",
       "DPQ050                      498\n",
       "DPQ060                      498\n",
       "DPQ070                      498\n",
       "DPQ080                      498\n",
       "DPQ090                      498\n",
       "RIAGENDR                      0\n",
       "RIDAGEYR                      0\n",
       "RIDRETH1                      0\n",
       "DMDEDUC                       0\n",
       "INDFMINC                     47\n",
       "PAG_MINW                      0\n",
       "ADHERENCE                     0\n",
       "HEI2015C1_TOTALVEG          274\n",
       "HEI2015C2_GREEN_AND_BEAN    274\n",
       "HEI2015C3_TOTALFRUIT        274\n",
       "HEI2015C4_WHOLEFRUIT        274\n",
       "HEI2015C5_WHOLEGRAIN        274\n",
       "HEI2015C6_TOTALDAIRY        274\n",
       "HEI2015C7_TOTPROT           274\n",
       "HEI2015C8_SEAPLANT_PROT     274\n",
       "HEI2015C9_FATTYACID         274\n",
       "HEI2015C10_SODIUM           274\n",
       "HEI2015C11_REFINEDGRAIN     274\n",
       "HEI2015C12_SFAT             274\n",
       "HEI2015C13_ADDSUG           274\n",
       "HEI2015_TOTAL_SCORE         274\n",
       "dtype: int64"
      ]
     },
     "execution_count": 87,
     "metadata": {},
     "output_type": "execute_result"
    }
   ],
   "source": [
    "df_full.isnull().sum()"
   ]
  },
  {
   "cell_type": "code",
   "execution_count": 88,
   "id": "9f1053cc",
   "metadata": {},
   "outputs": [
    {
     "data": {
      "text/plain": [
       "SEQN                        0.00\n",
       "DPQ010                      9.34\n",
       "DPQ020                      9.34\n",
       "DPQ030                      9.34\n",
       "DPQ040                      9.34\n",
       "DPQ050                      9.34\n",
       "DPQ060                      9.34\n",
       "DPQ070                      9.34\n",
       "DPQ080                      9.34\n",
       "DPQ090                      9.34\n",
       "RIAGENDR                    0.00\n",
       "RIDAGEYR                    0.00\n",
       "RIDRETH1                    0.00\n",
       "DMDEDUC                     0.00\n",
       "INDFMINC                    0.88\n",
       "PAG_MINW                    0.00\n",
       "ADHERENCE                   0.00\n",
       "HEI2015C1_TOTALVEG          5.14\n",
       "HEI2015C2_GREEN_AND_BEAN    5.14\n",
       "HEI2015C3_TOTALFRUIT        5.14\n",
       "HEI2015C4_WHOLEFRUIT        5.14\n",
       "HEI2015C5_WHOLEGRAIN        5.14\n",
       "HEI2015C6_TOTALDAIRY        5.14\n",
       "HEI2015C7_TOTPROT           5.14\n",
       "HEI2015C8_SEAPLANT_PROT     5.14\n",
       "HEI2015C9_FATTYACID         5.14\n",
       "HEI2015C10_SODIUM           5.14\n",
       "HEI2015C11_REFINEDGRAIN     5.14\n",
       "HEI2015C12_SFAT             5.14\n",
       "HEI2015C13_ADDSUG           5.14\n",
       "HEI2015_TOTAL_SCORE         5.14\n",
       "dtype: float64"
      ]
     },
     "execution_count": 88,
     "metadata": {},
     "output_type": "execute_result"
    }
   ],
   "source": [
    "#Avaliando o percentual de casos faltantes (missing):\n",
    "df_full.isnull().mean().round(4)*100"
   ]
  },
  {
   "cell_type": "markdown",
   "id": "f922903e",
   "metadata": {},
   "source": [
    "## EDA: Análise univariada"
   ]
  },
  {
   "cell_type": "code",
   "execution_count": 89,
   "id": "f8153628",
   "metadata": {},
   "outputs": [
    {
     "data": {
      "text/plain": [
       "RIAGENDR\n",
       "1           2561\n",
       "2           2773\n",
       "dtype: int64"
      ]
     },
     "execution_count": 89,
     "metadata": {},
     "output_type": "execute_result"
    }
   ],
   "source": [
    "#Gênero\n",
    "# 1 = Masculino\n",
    "# 2 = Feminino\n",
    "\n",
    "df_full[[\"RIAGENDR\"]].value_counts(sort = False)"
   ]
  },
  {
   "cell_type": "code",
   "execution_count": 90,
   "id": "33927143",
   "metadata": {},
   "outputs": [
    {
     "data": {
      "text/plain": [
       "RIDAGEYR\n",
       "18          301\n",
       "19          260\n",
       "20           95\n",
       "21           99\n",
       "22          105\n",
       "           ... \n",
       "81           55\n",
       "82           41\n",
       "83           39\n",
       "84           33\n",
       "85          148\n",
       "Length: 68, dtype: int64"
      ]
     },
     "execution_count": 90,
     "metadata": {},
     "output_type": "execute_result"
    }
   ],
   "source": [
    "#Idade em anos\n",
    "df_full[[\"RIDAGEYR\"]].value_counts(sort = False)"
   ]
  },
  {
   "cell_type": "code",
   "execution_count": 91,
   "id": "0b799eef",
   "metadata": {},
   "outputs": [
    {
     "data": {
      "text/plain": [
       "RIDRETH1\n",
       "1           1133\n",
       "2            164\n",
       "3           2516\n",
       "4           1300\n",
       "5            221\n",
       "dtype: int64"
      ]
     },
     "execution_count": 91,
     "metadata": {},
     "output_type": "execute_result"
    }
   ],
   "source": [
    "#Raça/Etnia\n",
    "# RIDRETH1 com códigos errados no desafio\n",
    "# 1 Mexican American\n",
    "# 2 Other Hispanic\n",
    "# 3 Non-Hispanic White\n",
    "# 4 Non-Hispanic Black\n",
    "# 5 Other Race - Including Multi-Racial\n",
    "\n",
    "df_full[[\"RIDRETH1\"]].value_counts(sort = False)"
   ]
  },
  {
   "cell_type": "code",
   "execution_count": 92,
   "id": "6646320f",
   "metadata": {},
   "outputs": [
    {
     "data": {
      "text/plain": [
       "DMDEDUC\n",
       "1           618\n",
       "2           936\n",
       "3          1335\n",
       "4          1498\n",
       "5           939\n",
       "7             4\n",
       "9             4\n",
       "dtype: int64"
      ]
     },
     "execution_count": 92,
     "metadata": {},
     "output_type": "execute_result"
    }
   ],
   "source": [
    "#Escolaridade\n",
    "# 1 = Menor que 9o ano\n",
    "# 2 = 9-12o ano\n",
    "# 3 = Ensino médio\n",
    "# 4 = Ensino superior incompleto\n",
    "# 5 = Superior completo ou maior\n",
    "# 7 = Se recusou a responder\n",
    "# 9 = Não sabe\n",
    "\n",
    "df_full[[\"DMDEDUC\"]].value_counts(sort = False)"
   ]
  },
  {
   "cell_type": "code",
   "execution_count": 93,
   "id": "14f855d0",
   "metadata": {},
   "outputs": [
    {
     "data": {
      "text/plain": [
       "INDFMINC\n",
       "1.0          190\n",
       "2.0          281\n",
       "3.0          440\n",
       "4.0          412\n",
       "5.0          426\n",
       "6.0          678\n",
       "7.0          535\n",
       "8.0          485\n",
       "9.0          297\n",
       "10.0         278\n",
       "11.0        1044\n",
       "12.0          78\n",
       "13.0          30\n",
       "77.0          36\n",
       "99.0          77\n",
       "dtype: int64"
      ]
     },
     "execution_count": 93,
     "metadata": {},
     "output_type": "execute_result"
    }
   ],
   "source": [
    "#Renda anual familiar (US$)\n",
    "# 1 = 0-4999\n",
    "# 2 - 5000-9999\n",
    "# 3 = 10000-14999\n",
    "# 4 = 15000-19999\n",
    "# 5 = 20000-24999\n",
    "# 6 = 25000-34999\n",
    "# 7 = 35000-44999\n",
    "# 8 = 45000-54999\n",
    "# 9 = 55000-64999\n",
    "# 10 = 65000-74999\n",
    "# 11 = Maior ou igual a 75000\n",
    "# 12 = Maior que 20000\n",
    "# 13 = Menor que 20000\n",
    "# 77 = Se recusou a responder\n",
    "# 99 = Não sabe\n",
    "\n",
    "df_full[[\"INDFMINC\"]].value_counts(sort = False)"
   ]
  },
  {
   "cell_type": "code",
   "execution_count": 94,
   "id": "4d2da452",
   "metadata": {},
   "outputs": [
    {
     "data": {
      "text/plain": [
       "ADHERENCE\n",
       "1.0          2304\n",
       "2.0           834\n",
       "3.0          2196\n",
       "dtype: int64"
      ]
     },
     "execution_count": 94,
     "metadata": {},
     "output_type": "execute_result"
    }
   ],
   "source": [
    "#Grupo de aderência ao Physical Activity Guideline(PAG)\n",
    "# 1 = Baixo (< 150 min/semana)\n",
    "# 2 = Adequado (150-300 min/semana)\n",
    "# 3 = Acima (> 300 min/semana)\n",
    "\n",
    "df_full[[\"ADHERENCE\"]].value_counts(sort = False)"
   ]
  },
  {
   "cell_type": "code",
   "execution_count": 95,
   "id": "9ffcf5b9",
   "metadata": {},
   "outputs": [
    {
     "data": {
      "text/plain": [
       "HEI2015_TOTAL_SCORE\n",
       "16.059212              1\n",
       "16.491305              1\n",
       "17.005719              1\n",
       "18.495379              1\n",
       "18.808762              1\n",
       "                      ..\n",
       "85.848198              1\n",
       "86.109332              1\n",
       "86.299717              1\n",
       "87.169137              1\n",
       "89.529383              1\n",
       "Length: 5058, dtype: int64"
      ]
     },
     "execution_count": 95,
     "metadata": {},
     "output_type": "execute_result"
    }
   ],
   "source": [
    "#Healthy Eating Index - Escore total\n",
    "#VALORES DE 0 - 100\n",
    "\n",
    "df_full[[\"HEI2015_TOTAL_SCORE\"]].value_counts(sort = False)"
   ]
  },
  {
   "cell_type": "code",
   "execution_count": 96,
   "id": "f4c5f821",
   "metadata": {},
   "outputs": [],
   "source": [
    "# Criando um novo df para fazer as manipulações a partir de agora.\n",
    "df_full2 = df_full"
   ]
  },
  {
   "cell_type": "code",
   "execution_count": 97,
   "id": "49b33073",
   "metadata": {},
   "outputs": [],
   "source": [
    "#Transformando valores das colunas desejadas em NAN\n",
    "df_full2.loc[((df_full2.DPQ010 == 7) | (df_full2.DPQ010 == 9)), [\"DPQ010\"]] = np.nan\n",
    "df_full2.loc[((df_full2.DPQ020 == 7) | (df_full2.DPQ020 == 9)), [\"DPQ020\"]] = np.nan\n",
    "df_full2.loc[((df_full2.DPQ030 == 7) | (df_full2.DPQ030 == 9)), [\"DPQ030\"]] = np.nan\n",
    "df_full2.loc[((df_full2.DPQ040 == 7) | (df_full2.DPQ040 == 9)), [\"DPQ040\"]] = np.nan\n",
    "df_full2.loc[((df_full2.DPQ050 == 7) | (df_full2.DPQ050 == 9)), [\"DPQ050\"]] = np.nan\n",
    "df_full2.loc[((df_full2.DPQ060 == 7) | (df_full2.DPQ060 == 9)), [\"DPQ060\"]] = np.nan\n",
    "df_full2.loc[((df_full2.DPQ070 == 7) | (df_full2.DPQ070 == 9)), [\"DPQ070\"]] = np.nan\n",
    "df_full2.loc[((df_full2.DPQ080 == 7) | (df_full2.DPQ080 == 9)), [\"DPQ080\"]] = np.nan\n",
    "df_full2.loc[((df_full2.DPQ090 == 7) | (df_full2.DPQ090 == 9)), [\"DPQ090\"]] = np.nan\n",
    "df_full2.loc[((df_full2.DMDEDUC == 7) | (df_full2.DMDEDUC == 9)), [\"DMDEDUC\"]] = np.nan\n",
    "df_full2.loc[((df_full2.INDFMINC== 77) | (df_full2.INDFMINC == 99)), [\"INDFMINC\"]] = np.nan"
   ]
  },
  {
   "cell_type": "code",
   "execution_count": 98,
   "id": "16b9d7cb",
   "metadata": {},
   "outputs": [
    {
     "data": {
      "text/plain": [
       "RIDRETH1\n",
       "1           1133\n",
       "2           2516\n",
       "3           1464\n",
       "4            221\n",
       "dtype: int64"
      ]
     },
     "execution_count": 98,
     "metadata": {},
     "output_type": "execute_result"
    }
   ],
   "source": [
    "#Raça/Etnia\n",
    "# optarei por juntar os valores da categoria 2 e da 5, pois os dois se referem a outras etnias.\n",
    "\n",
    "# Reagrupando Raça/Etnia\n",
    "# 1 - 1 - Mexican American \n",
    "# 2 - 3 - Non-Hispanic White \n",
    "# 3 - 4 - Non-Hispanic Black \n",
    "# 4 - 5 - Other Race - Including Multi-Racial + 2 - Other Hispanic\n",
    "\n",
    "def grupo_etnia(x):     \n",
    "    \n",
    "    if x == 1:\n",
    "        x = 1\n",
    "    if x == 2:\n",
    "        x = 4\n",
    "    if x == 3:\n",
    "        x = 2\n",
    "    if x == 4:\n",
    "        x = 3\n",
    "    if x == 5:\n",
    "        x = 4\n",
    "    return x\n",
    "        \n",
    "df_full2[\"RIDRETH1\"] = df_full2[\"RIDRETH1\"].apply(lambda x: grupo_etnia(x)) \n",
    "\n",
    "\n",
    "df_full[[\"RIDRETH1\"]].value_counts(sort = False)"
   ]
  },
  {
   "cell_type": "code",
   "execution_count": 99,
   "id": "3f62c1df",
   "metadata": {},
   "outputs": [],
   "source": [
    "#Renda anual familiar (US$)\n",
    "# Opitarei por realocar os valores das categorias 12 e 13, visto que os valores já estão contidos em outras categorias,\n",
    "# tornando as duas redundantes. Considero que dá forma que está apresentado, ficou um pouco confuso.\n",
    "\n",
    "# Reagrupando Renda anual familiar (US$):\n",
    "# 1 = 0-4999 \n",
    "# 2 = 5000-9999\n",
    "# 3 = 10000-14999\n",
    "# 4 = 15000-19999 + 13 = Menor que 20000\n",
    "# 5 = 20000-24999 + 12 = Maior que 20000\n",
    "# 6 = 25000-34999\n",
    "# 7 = 35000-44999\n",
    "# 8 = 45000-54999\n",
    "# 9 = 55000-64999\n",
    "# 10 = 65000-74999\n",
    "# 11 = Maior ou igual a 75000\n",
    "# 77 = Se recusou a responder\n",
    "# 99 = Não sabe\n",
    "\n",
    "def grupo_renda(x):     \n",
    "    \n",
    "    if x == 1:\n",
    "        x = 1\n",
    "    if x == 2:\n",
    "        x = 2\n",
    "    if x == 3:\n",
    "        x = 3\n",
    "    if x == 4:\n",
    "        x = 4\n",
    "    if x == 5:\n",
    "        x = 5\n",
    "    if x == 6:\n",
    "        x = 6\n",
    "    if x == 7:\n",
    "        x = 7\n",
    "    if x == 8:\n",
    "        x = 8\n",
    "    if x == 9:\n",
    "        x = 9\n",
    "    if x == 10:\n",
    "        x = 10\n",
    "    if x == 12:\n",
    "        x = 5\n",
    "    if x == 13:\n",
    "        x = 4\n",
    "    return x\n",
    "        \n",
    "df_full2[\"INDFMINC\"] = df_full2[\"INDFMINC\"].apply(lambda x: grupo_renda(x)) "
   ]
  },
  {
   "cell_type": "code",
   "execution_count": 100,
   "id": "9a078910",
   "metadata": {},
   "outputs": [
    {
     "data": {
      "text/plain": [
       "INDFMINC\n",
       "1.0          190\n",
       "2.0          281\n",
       "3.0          440\n",
       "4.0          442\n",
       "5.0          504\n",
       "6.0          678\n",
       "7.0          535\n",
       "8.0          485\n",
       "9.0          297\n",
       "10.0         278\n",
       "11.0        1044\n",
       "dtype: int64"
      ]
     },
     "execution_count": 100,
     "metadata": {},
     "output_type": "execute_result"
    }
   ],
   "source": [
    "#Renda reagrupada\n",
    "df_full2[[\"INDFMINC\"]].value_counts(sort = False)"
   ]
  },
  {
   "cell_type": "code",
   "execution_count": 101,
   "id": "308e02cf",
   "metadata": {},
   "outputs": [
    {
     "data": {
      "text/html": [
       "<div>\n",
       "<style scoped>\n",
       "    .dataframe tbody tr th:only-of-type {\n",
       "        vertical-align: middle;\n",
       "    }\n",
       "\n",
       "    .dataframe tbody tr th {\n",
       "        vertical-align: top;\n",
       "    }\n",
       "\n",
       "    .dataframe thead th {\n",
       "        text-align: right;\n",
       "    }\n",
       "</style>\n",
       "<table border=\"1\" class=\"dataframe\">\n",
       "  <thead>\n",
       "    <tr style=\"text-align: right;\">\n",
       "      <th></th>\n",
       "      <th>DPQ010</th>\n",
       "      <th>DPQ020</th>\n",
       "      <th>DPQ030</th>\n",
       "      <th>DPQ040</th>\n",
       "      <th>DPQ050</th>\n",
       "      <th>DPQ060</th>\n",
       "      <th>DPQ070</th>\n",
       "      <th>DPQ080</th>\n",
       "      <th>DPQ090</th>\n",
       "      <th>phq9</th>\n",
       "    </tr>\n",
       "  </thead>\n",
       "  <tbody>\n",
       "    <tr>\n",
       "      <th>0</th>\n",
       "      <td>NaN</td>\n",
       "      <td>NaN</td>\n",
       "      <td>NaN</td>\n",
       "      <td>NaN</td>\n",
       "      <td>NaN</td>\n",
       "      <td>NaN</td>\n",
       "      <td>NaN</td>\n",
       "      <td>NaN</td>\n",
       "      <td>NaN</td>\n",
       "      <td>NaN</td>\n",
       "    </tr>\n",
       "    <tr>\n",
       "      <th>1</th>\n",
       "      <td>0.0</td>\n",
       "      <td>0.0</td>\n",
       "      <td>0.0</td>\n",
       "      <td>0.0</td>\n",
       "      <td>0.0</td>\n",
       "      <td>0.0</td>\n",
       "      <td>0.0</td>\n",
       "      <td>0.0</td>\n",
       "      <td>0.0</td>\n",
       "      <td>0.0</td>\n",
       "    </tr>\n",
       "    <tr>\n",
       "      <th>2</th>\n",
       "      <td>0.0</td>\n",
       "      <td>0.0</td>\n",
       "      <td>0.0</td>\n",
       "      <td>0.0</td>\n",
       "      <td>0.0</td>\n",
       "      <td>0.0</td>\n",
       "      <td>0.0</td>\n",
       "      <td>0.0</td>\n",
       "      <td>0.0</td>\n",
       "      <td>0.0</td>\n",
       "    </tr>\n",
       "    <tr>\n",
       "      <th>3</th>\n",
       "      <td>0.0</td>\n",
       "      <td>0.0</td>\n",
       "      <td>0.0</td>\n",
       "      <td>0.0</td>\n",
       "      <td>0.0</td>\n",
       "      <td>0.0</td>\n",
       "      <td>0.0</td>\n",
       "      <td>0.0</td>\n",
       "      <td>0.0</td>\n",
       "      <td>0.0</td>\n",
       "    </tr>\n",
       "    <tr>\n",
       "      <th>4</th>\n",
       "      <td>0.0</td>\n",
       "      <td>0.0</td>\n",
       "      <td>0.0</td>\n",
       "      <td>0.0</td>\n",
       "      <td>3.0</td>\n",
       "      <td>1.0</td>\n",
       "      <td>0.0</td>\n",
       "      <td>0.0</td>\n",
       "      <td>0.0</td>\n",
       "      <td>4.0</td>\n",
       "    </tr>\n",
       "  </tbody>\n",
       "</table>\n",
       "</div>"
      ],
      "text/plain": [
       "   DPQ010  DPQ020  DPQ030  DPQ040  DPQ050  DPQ060  DPQ070  DPQ080  DPQ090  \\\n",
       "0     NaN     NaN     NaN     NaN     NaN     NaN     NaN     NaN     NaN   \n",
       "1     0.0     0.0     0.0     0.0     0.0     0.0     0.0     0.0     0.0   \n",
       "2     0.0     0.0     0.0     0.0     0.0     0.0     0.0     0.0     0.0   \n",
       "3     0.0     0.0     0.0     0.0     0.0     0.0     0.0     0.0     0.0   \n",
       "4     0.0     0.0     0.0     0.0     3.0     1.0     0.0     0.0     0.0   \n",
       "\n",
       "   phq9  \n",
       "0   NaN  \n",
       "1   0.0  \n",
       "2   0.0  \n",
       "3   0.0  \n",
       "4   4.0  "
      ]
     },
     "execution_count": 101,
     "metadata": {},
     "output_type": "execute_result"
    }
   ],
   "source": [
    "#Criando a variável phq9 - escore Patient Health Questionnaire-9 como a soma das variáveis DPQ010 a DPQ090\n",
    "df_full2[\"phq9\"] = df_full2[[\"DPQ010\", \"DPQ020\", \"DPQ030\", \"DPQ040\", \"DPQ050\", \"DPQ060\", \"DPQ070\", \"DPQ080\", \"DPQ090\"]].sum(axis = \"columns\", skipna = False)\n",
    "df_full2[[\"DPQ010\", \"DPQ020\", \"DPQ030\", \"DPQ040\", \"DPQ050\", \"DPQ060\", \"DPQ070\", \"DPQ080\", \"DPQ090\", \"phq9\" ]].head()"
   ]
  },
  {
   "cell_type": "code",
   "execution_count": 102,
   "id": "11f08953",
   "metadata": {},
   "outputs": [],
   "source": [
    "#Crie a variável phq_grp - grupo de sintomas de depressão que assume \n",
    "#0 (“sem sintomas”) se phq9 < 5, \n",
    "#1 (“sintomas leves”) se 5 <= phq9 < 10, \n",
    "#2 (“sintomas moderados”) se 10 <= phq9 < 15, \n",
    "#3 (“sintomas moderadamente severos”) se 15 <= phq9 < 19 \n",
    "#4 (“sintomas severos”) se phq9 >= 20\n",
    "\n",
    "# Crianda a função para atender aos requisitos acima\n",
    "def grupo_sintomas(x):\n",
    "    if x < 5:\n",
    "        x = 0\n",
    "    if 5 <= x < 10:\n",
    "        x = 1\n",
    "    if 10 <= x < 15:\n",
    "        x = 2\n",
    "    if 15 <= x <= 19:\n",
    "        x = 3\n",
    "    if x >= 20:\n",
    "        x = 4\n",
    "    return x\n",
    "\n",
    "df_full2[\"phq_grp\"] = df_full2[\"phq9\"].apply(lambda x: grupo_sintomas(x))"
   ]
  },
  {
   "cell_type": "code",
   "execution_count": 103,
   "id": "abe9f4ef",
   "metadata": {},
   "outputs": [
    {
     "data": {
      "text/plain": [
       "phq_grp\n",
       "0.0        3796\n",
       "1.0         706\n",
       "2.0         201\n",
       "3.0          73\n",
       "4.0          23\n",
       "dtype: int64"
      ]
     },
     "execution_count": 103,
     "metadata": {},
     "output_type": "execute_result"
    }
   ],
   "source": [
    " df_full2[[\"phq_grp\"]].value_counts(sort = False)"
   ]
  },
  {
   "cell_type": "code",
   "execution_count": 104,
   "id": "c204a8b1",
   "metadata": {},
   "outputs": [],
   "source": [
    "# Como os níveis 3 e 4 tem uma pequena quantidade de valores em relação ao tamanho total do dataset,\n",
    "#optarei por reagrupar novamente em apenas 3 grupos, juntando os valores da categoria 3 com a 4:\n",
    "#0 = Sem sintomas\n",
    "#1 = Sintomas leves\n",
    "#2 = Sintomas moderados a severos\n",
    "\n",
    "# Crianda a função\n",
    "def grupo_sintomas2(x):\n",
    "    if x < 5:\n",
    "        x = 0\n",
    "    elif 5 <= x < 10:\n",
    "        x = 1\n",
    "    elif x >= 10:\n",
    "        x = 2\n",
    "    return x\n",
    "\n",
    "df_full2[\"phq_grp2\"] = df_full2[\"phq9\"].apply(lambda x: grupo_sintomas2(x)) "
   ]
  },
  {
   "cell_type": "code",
   "execution_count": 105,
   "id": "8b722df1",
   "metadata": {},
   "outputs": [
    {
     "data": {
      "text/plain": [
       "phq_grp2\n",
       "0.0         3796\n",
       "1.0          706\n",
       "2.0          297\n",
       "dtype: int64"
      ]
     },
     "execution_count": 105,
     "metadata": {},
     "output_type": "execute_result"
    }
   ],
   "source": [
    "df_full2[[\"phq_grp2\"]].value_counts(sort = False)"
   ]
  },
  {
   "cell_type": "code",
   "execution_count": 106,
   "id": "fee7426d",
   "metadata": {},
   "outputs": [
    {
     "data": {
      "text/html": [
       "<div>\n",
       "<style scoped>\n",
       "    .dataframe tbody tr th:only-of-type {\n",
       "        vertical-align: middle;\n",
       "    }\n",
       "\n",
       "    .dataframe tbody tr th {\n",
       "        vertical-align: top;\n",
       "    }\n",
       "\n",
       "    .dataframe thead th {\n",
       "        text-align: right;\n",
       "    }\n",
       "</style>\n",
       "<table border=\"1\" class=\"dataframe\">\n",
       "  <thead>\n",
       "    <tr style=\"text-align: right;\">\n",
       "      <th></th>\n",
       "      <th>RIDAGEYR</th>\n",
       "      <th>PAG_MINW</th>\n",
       "      <th>HEI2015C1_TOTALVEG</th>\n",
       "      <th>HEI2015C2_GREEN_AND_BEAN</th>\n",
       "      <th>HEI2015C3_TOTALFRUIT</th>\n",
       "      <th>HEI2015C4_WHOLEFRUIT</th>\n",
       "      <th>HEI2015C5_WHOLEGRAIN</th>\n",
       "      <th>HEI2015C6_TOTALDAIRY</th>\n",
       "      <th>HEI2015C7_TOTPROT</th>\n",
       "      <th>HEI2015C8_SEAPLANT_PROT</th>\n",
       "      <th>HEI2015C9_FATTYACID</th>\n",
       "      <th>HEI2015C10_SODIUM</th>\n",
       "      <th>HEI2015C11_REFINEDGRAIN</th>\n",
       "      <th>HEI2015C12_SFAT</th>\n",
       "      <th>HEI2015C13_ADDSUG</th>\n",
       "      <th>HEI2015_TOTAL_SCORE</th>\n",
       "      <th>phq9</th>\n",
       "    </tr>\n",
       "  </thead>\n",
       "  <tbody>\n",
       "    <tr>\n",
       "      <th>count</th>\n",
       "      <td>5334.00</td>\n",
       "      <td>5334.00</td>\n",
       "      <td>5060.00</td>\n",
       "      <td>5060.00</td>\n",
       "      <td>5060.00</td>\n",
       "      <td>5060.00</td>\n",
       "      <td>5060.00</td>\n",
       "      <td>5060.00</td>\n",
       "      <td>5060.00</td>\n",
       "      <td>5060.00</td>\n",
       "      <td>5060.00</td>\n",
       "      <td>5060.00</td>\n",
       "      <td>5060.00</td>\n",
       "      <td>5060.00</td>\n",
       "      <td>5060.00</td>\n",
       "      <td>5060.00</td>\n",
       "      <td>4799.00</td>\n",
       "    </tr>\n",
       "    <tr>\n",
       "      <th>mean</th>\n",
       "      <td>45.09</td>\n",
       "      <td>471.77</td>\n",
       "      <td>3.20</td>\n",
       "      <td>1.81</td>\n",
       "      <td>2.49</td>\n",
       "      <td>2.36</td>\n",
       "      <td>1.76</td>\n",
       "      <td>3.76</td>\n",
       "      <td>4.43</td>\n",
       "      <td>2.59</td>\n",
       "      <td>4.71</td>\n",
       "      <td>4.76</td>\n",
       "      <td>5.80</td>\n",
       "      <td>6.07</td>\n",
       "      <td>6.22</td>\n",
       "      <td>49.97</td>\n",
       "      <td>2.73</td>\n",
       "    </tr>\n",
       "    <tr>\n",
       "      <th>std</th>\n",
       "      <td>20.15</td>\n",
       "      <td>780.35</td>\n",
       "      <td>1.47</td>\n",
       "      <td>2.14</td>\n",
       "      <td>1.95</td>\n",
       "      <td>2.17</td>\n",
       "      <td>1.92</td>\n",
       "      <td>1.61</td>\n",
       "      <td>1.01</td>\n",
       "      <td>2.17</td>\n",
       "      <td>3.24</td>\n",
       "      <td>3.42</td>\n",
       "      <td>3.50</td>\n",
       "      <td>3.18</td>\n",
       "      <td>3.33</td>\n",
       "      <td>12.32</td>\n",
       "      <td>3.73</td>\n",
       "    </tr>\n",
       "    <tr>\n",
       "      <th>min</th>\n",
       "      <td>18.00</td>\n",
       "      <td>0.00</td>\n",
       "      <td>0.00</td>\n",
       "      <td>0.00</td>\n",
       "      <td>0.00</td>\n",
       "      <td>0.00</td>\n",
       "      <td>0.00</td>\n",
       "      <td>0.00</td>\n",
       "      <td>0.00</td>\n",
       "      <td>0.00</td>\n",
       "      <td>0.00</td>\n",
       "      <td>0.00</td>\n",
       "      <td>0.00</td>\n",
       "      <td>0.00</td>\n",
       "      <td>0.00</td>\n",
       "      <td>16.06</td>\n",
       "      <td>0.00</td>\n",
       "    </tr>\n",
       "    <tr>\n",
       "      <th>25%</th>\n",
       "      <td>27.00</td>\n",
       "      <td>35.00</td>\n",
       "      <td>2.06</td>\n",
       "      <td>0.00</td>\n",
       "      <td>0.45</td>\n",
       "      <td>0.00</td>\n",
       "      <td>0.00</td>\n",
       "      <td>2.59</td>\n",
       "      <td>4.17</td>\n",
       "      <td>0.00</td>\n",
       "      <td>2.02</td>\n",
       "      <td>1.59</td>\n",
       "      <td>2.93</td>\n",
       "      <td>3.70</td>\n",
       "      <td>3.72</td>\n",
       "      <td>41.03</td>\n",
       "      <td>0.00</td>\n",
       "    </tr>\n",
       "    <tr>\n",
       "      <th>50%</th>\n",
       "      <td>43.00</td>\n",
       "      <td>210.00</td>\n",
       "      <td>3.22</td>\n",
       "      <td>0.06</td>\n",
       "      <td>2.32</td>\n",
       "      <td>2.08</td>\n",
       "      <td>1.03</td>\n",
       "      <td>4.94</td>\n",
       "      <td>5.00</td>\n",
       "      <td>2.59</td>\n",
       "      <td>4.43</td>\n",
       "      <td>4.83</td>\n",
       "      <td>6.23</td>\n",
       "      <td>6.41</td>\n",
       "      <td>6.86</td>\n",
       "      <td>49.51</td>\n",
       "      <td>1.00</td>\n",
       "    </tr>\n",
       "    <tr>\n",
       "      <th>75%</th>\n",
       "      <td>62.00</td>\n",
       "      <td>568.93</td>\n",
       "      <td>4.83</td>\n",
       "      <td>4.50</td>\n",
       "      <td>4.94</td>\n",
       "      <td>5.00</td>\n",
       "      <td>3.41</td>\n",
       "      <td>5.00</td>\n",
       "      <td>5.00</td>\n",
       "      <td>5.00</td>\n",
       "      <td>7.27</td>\n",
       "      <td>7.65</td>\n",
       "      <td>9.25</td>\n",
       "      <td>9.00</td>\n",
       "      <td>9.45</td>\n",
       "      <td>58.17</td>\n",
       "      <td>4.00</td>\n",
       "    </tr>\n",
       "    <tr>\n",
       "      <th>95%</th>\n",
       "      <td>81.00</td>\n",
       "      <td>1863.05</td>\n",
       "      <td>5.00</td>\n",
       "      <td>5.00</td>\n",
       "      <td>5.00</td>\n",
       "      <td>5.00</td>\n",
       "      <td>5.00</td>\n",
       "      <td>5.00</td>\n",
       "      <td>5.00</td>\n",
       "      <td>5.00</td>\n",
       "      <td>10.00</td>\n",
       "      <td>10.00</td>\n",
       "      <td>10.00</td>\n",
       "      <td>10.00</td>\n",
       "      <td>10.00</td>\n",
       "      <td>71.19</td>\n",
       "      <td>10.00</td>\n",
       "    </tr>\n",
       "    <tr>\n",
       "      <th>99%</th>\n",
       "      <td>85.00</td>\n",
       "      <td>3672.06</td>\n",
       "      <td>5.00</td>\n",
       "      <td>5.00</td>\n",
       "      <td>5.00</td>\n",
       "      <td>5.00</td>\n",
       "      <td>5.00</td>\n",
       "      <td>5.00</td>\n",
       "      <td>5.00</td>\n",
       "      <td>5.00</td>\n",
       "      <td>10.00</td>\n",
       "      <td>10.00</td>\n",
       "      <td>10.00</td>\n",
       "      <td>10.00</td>\n",
       "      <td>10.00</td>\n",
       "      <td>79.86</td>\n",
       "      <td>17.00</td>\n",
       "    </tr>\n",
       "    <tr>\n",
       "      <th>max</th>\n",
       "      <td>85.00</td>\n",
       "      <td>10777.83</td>\n",
       "      <td>5.00</td>\n",
       "      <td>5.00</td>\n",
       "      <td>5.00</td>\n",
       "      <td>5.00</td>\n",
       "      <td>5.00</td>\n",
       "      <td>5.00</td>\n",
       "      <td>5.00</td>\n",
       "      <td>5.00</td>\n",
       "      <td>10.00</td>\n",
       "      <td>10.00</td>\n",
       "      <td>10.00</td>\n",
       "      <td>10.00</td>\n",
       "      <td>10.00</td>\n",
       "      <td>89.53</td>\n",
       "      <td>27.00</td>\n",
       "    </tr>\n",
       "  </tbody>\n",
       "</table>\n",
       "</div>"
      ],
      "text/plain": [
       "       RIDAGEYR  PAG_MINW  HEI2015C1_TOTALVEG  HEI2015C2_GREEN_AND_BEAN  \\\n",
       "count   5334.00   5334.00             5060.00                   5060.00   \n",
       "mean      45.09    471.77                3.20                      1.81   \n",
       "std       20.15    780.35                1.47                      2.14   \n",
       "min       18.00      0.00                0.00                      0.00   \n",
       "25%       27.00     35.00                2.06                      0.00   \n",
       "50%       43.00    210.00                3.22                      0.06   \n",
       "75%       62.00    568.93                4.83                      4.50   \n",
       "95%       81.00   1863.05                5.00                      5.00   \n",
       "99%       85.00   3672.06                5.00                      5.00   \n",
       "max       85.00  10777.83                5.00                      5.00   \n",
       "\n",
       "       HEI2015C3_TOTALFRUIT  HEI2015C4_WHOLEFRUIT  HEI2015C5_WHOLEGRAIN  \\\n",
       "count               5060.00               5060.00               5060.00   \n",
       "mean                   2.49                  2.36                  1.76   \n",
       "std                    1.95                  2.17                  1.92   \n",
       "min                    0.00                  0.00                  0.00   \n",
       "25%                    0.45                  0.00                  0.00   \n",
       "50%                    2.32                  2.08                  1.03   \n",
       "75%                    4.94                  5.00                  3.41   \n",
       "95%                    5.00                  5.00                  5.00   \n",
       "99%                    5.00                  5.00                  5.00   \n",
       "max                    5.00                  5.00                  5.00   \n",
       "\n",
       "       HEI2015C6_TOTALDAIRY  HEI2015C7_TOTPROT  HEI2015C8_SEAPLANT_PROT  \\\n",
       "count               5060.00            5060.00                  5060.00   \n",
       "mean                   3.76               4.43                     2.59   \n",
       "std                    1.61               1.01                     2.17   \n",
       "min                    0.00               0.00                     0.00   \n",
       "25%                    2.59               4.17                     0.00   \n",
       "50%                    4.94               5.00                     2.59   \n",
       "75%                    5.00               5.00                     5.00   \n",
       "95%                    5.00               5.00                     5.00   \n",
       "99%                    5.00               5.00                     5.00   \n",
       "max                    5.00               5.00                     5.00   \n",
       "\n",
       "       HEI2015C9_FATTYACID  HEI2015C10_SODIUM  HEI2015C11_REFINEDGRAIN  \\\n",
       "count              5060.00            5060.00                  5060.00   \n",
       "mean                  4.71               4.76                     5.80   \n",
       "std                   3.24               3.42                     3.50   \n",
       "min                   0.00               0.00                     0.00   \n",
       "25%                   2.02               1.59                     2.93   \n",
       "50%                   4.43               4.83                     6.23   \n",
       "75%                   7.27               7.65                     9.25   \n",
       "95%                  10.00              10.00                    10.00   \n",
       "99%                  10.00              10.00                    10.00   \n",
       "max                  10.00              10.00                    10.00   \n",
       "\n",
       "       HEI2015C12_SFAT  HEI2015C13_ADDSUG  HEI2015_TOTAL_SCORE     phq9  \n",
       "count          5060.00            5060.00              5060.00  4799.00  \n",
       "mean              6.07               6.22                49.97     2.73  \n",
       "std               3.18               3.33                12.32     3.73  \n",
       "min               0.00               0.00                16.06     0.00  \n",
       "25%               3.70               3.72                41.03     0.00  \n",
       "50%               6.41               6.86                49.51     1.00  \n",
       "75%               9.00               9.45                58.17     4.00  \n",
       "95%              10.00              10.00                71.19    10.00  \n",
       "99%              10.00              10.00                79.86    17.00  \n",
       "max              10.00              10.00                89.53    27.00  "
      ]
     },
     "execution_count": 106,
     "metadata": {},
     "output_type": "execute_result"
    }
   ],
   "source": [
    "# Resumo das medidas das variáveis quantitativas:\n",
    "df_full2[[\"RIDAGEYR\", \"PAG_MINW\", \"HEI2015C1_TOTALVEG\", \"HEI2015C2_GREEN_AND_BEAN\", \"HEI2015C3_TOTALFRUIT\",\n",
    "          \"HEI2015C4_WHOLEFRUIT\", \"HEI2015C5_WHOLEGRAIN\", \"HEI2015C6_TOTALDAIRY\", \"HEI2015C7_TOTPROT\", \"HEI2015C8_SEAPLANT_PROT\",\n",
    "          \"HEI2015C9_FATTYACID\", \"HEI2015C10_SODIUM\", \"HEI2015C11_REFINEDGRAIN\", \"HEI2015C12_SFAT\", \"HEI2015C13_ADDSUG\",\n",
    "          \"HEI2015_TOTAL_SCORE\", \"phq9\"]].describe(percentiles = [.25, .50, .75, .95, .99]).round(2)"
   ]
  },
  {
   "cell_type": "markdown",
   "id": "6c189279",
   "metadata": {},
   "source": [
    "Avaliando as medidas de resumo, é possivel observar uma discrepância na coluna PAG_MINW que corresponde ao tempo total semanal gasto com atividades físicas. O valor não parece correto, levando em consideração que uma semna possue no máximo 168 horas (10080 minutos). Nesse caso consideramos o valor máximo de 3600 minutos (60h semanais)."
   ]
  },
  {
   "cell_type": "code",
   "execution_count": 107,
   "id": "8ce3dd8a",
   "metadata": {},
   "outputs": [],
   "source": [
    "# Criando função para correção do problema acima.\n",
    "def valor_max(x):\n",
    "    if x > 3600:\n",
    "        x = 3600\n",
    "    return x\n",
    "\n",
    "df_full2[\"PAG_MINW\"] = df_full[\"PAG_MINW\"].apply(lambda x: valor_max(x))"
   ]
  },
  {
   "cell_type": "code",
   "execution_count": 108,
   "id": "b02722ed",
   "metadata": {},
   "outputs": [
    {
     "data": {
      "text/plain": [
       "count    5334.00\n",
       "mean      454.86\n",
       "std       663.05\n",
       "min         0.00\n",
       "25%        35.00\n",
       "50%       210.00\n",
       "75%       568.93\n",
       "95%      1863.05\n",
       "99%      3600.00\n",
       "max      3600.00\n",
       "Name: PAG_MINW, dtype: float64"
      ]
     },
     "execution_count": 108,
     "metadata": {},
     "output_type": "execute_result"
    }
   ],
   "source": [
    "# Verificando se está correto\n",
    "df_full2[\"PAG_MINW\"].describe(percentiles = [.25, .50, .75, .95, .99]).round(2)"
   ]
  },
  {
   "cell_type": "code",
   "execution_count": 109,
   "id": "faa5cf06",
   "metadata": {},
   "outputs": [],
   "source": [
    "# Criando um dict para as variáveis qualitativas/categóricas\n",
    "dict_quali = {\n",
    "  \"RIAGENDR\": {1: 'Masculino', 2: 'Feminino'},\n",
    "  \"RIDRETH1\": {1: 'Americano \\n Mexicano', 2: 'Branco \\n não hispânico', 3: 'Negro \\n não hispânico', 4: 'outros'},\n",
    "  \"DMDEDUC\": {1: '< 9 ano', 2: '9-12 ano', 3: 'Ensino \\n médio', 4: 'Superior \\n incompleto', 5: 'Superior \\n completo'},\n",
    "  \"ADHERENCE\": {1: 'Baixo', 2: 'Adequado', 3: 'Acima'},\n",
    "  \"phq_grp2\": {0: 'Sem \\n sintomas', 1: 'Sintomas \\n leves', 2: 'Sintomas \\n moderados \\n a severos'}  \n",
    "}"
   ]
  },
  {
   "cell_type": "markdown",
   "id": "a892c1f8",
   "metadata": {},
   "source": [
    "Tempo total semanal de atividade aeróbica moderada vigorosa em minutos, segundo o Physical Activity = PAG_MINW.\n",
    "Podemos transformar a variável PAG_MINW em horas:"
   ]
  },
  {
   "cell_type": "code",
   "execution_count": 110,
   "id": "898e7d91",
   "metadata": {},
   "outputs": [],
   "source": [
    "df_full2[\"PAG_HRW\"] = df_full2[\"PAG_MINW\"]/60"
   ]
  },
  {
   "cell_type": "code",
   "execution_count": 111,
   "id": "e5b51b2a",
   "metadata": {},
   "outputs": [
    {
     "data": {
      "image/png": "[encoded data removed]",
      "text/plain": [
       "<Figure size 360x360 with 1 Axes>"
      ]
     },
     "metadata": {
      "needs_background": "light"
     },
     "output_type": "display_data"
    },
    {
     "data": {
      "image/png": "[encoded data removed]",
      "text/plain": [
       "<Figure size 360x360 with 1 Axes>"
      ]
     },
     "metadata": {
      "needs_background": "light"
     },
     "output_type": "display_data"
    },
    {
     "data": {
      "image/png": "[encoded data removed]",
      "text/plain": [
       "<Figure size 360x360 with 1 Axes>"
      ]
     },
     "metadata": {
      "needs_background": "light"
     },
     "output_type": "display_data"
    },
    {
     "data": {
      "image/png": "[encoded data removed]",
      "text/plain": [
       "<Figure size 360x360 with 1 Axes>"
      ]
     },
     "metadata": {
      "needs_background": "light"
     },
     "output_type": "display_data"
    }
   ],
   "source": [
    "# Gráfico de barras para analisar as variáveis\n",
    "sns.displot(df_full2, x=\"RIDAGEYR\", kde=True)\n",
    "sns.displot(df_full2, x=\"INDFMINC\", kde=True)\n",
    "sns.displot(df_full2, x=\"PAG_MINW\", kde=True)\n",
    "sns.displot(df_full2, x=\"PAG_HRW\", kde=True)\n",
    "\n",
    "plt.show()"
   ]
  },
  {
   "cell_type": "markdown",
   "id": "f4992042",
   "metadata": {},
   "source": [
    "Como a variável PAG_HRW é bastante assimétrica, podemos também criar uma versão com o log:"
   ]
  },
  {
   "cell_type": "code",
   "execution_count": 112,
   "id": "61fa77f4",
   "metadata": {},
   "outputs": [
    {
     "data": {
      "image/png": "[encoded data removed]",
      "text/plain": [
       "<Figure size 360x360 with 1 Axes>"
      ]
     },
     "metadata": {
      "needs_background": "light"
     },
     "output_type": "display_data"
    }
   ],
   "source": [
    "df_full2[\"PAG_HRW_log\"] = np.log(df_full2[\"PAG_HRW\"] + 1)\n",
    "sns.displot(df_full2, x=\"PAG_HRW_log\", kde=True)\n",
    "plt.show()"
   ]
  },
  {
   "cell_type": "code",
   "execution_count": 113,
   "id": "16b37ab1",
   "metadata": {},
   "outputs": [],
   "source": [
    "# Função para construir gráfico de barras\n",
    "def grafico_barras_prop(data, variable):\n",
    "    (data[[variable]]\n",
    "     .value_counts(normalize=True, sort = False)\n",
    "     .rename(\"Proportion\")\n",
    "     .reset_index()\n",
    "     .pipe((sns.barplot, \"data\"), x=variable, y=\"Proportion\"))\n",
    "    plt.ylim(0,1)\n",
    "    plt.show()"
   ]
  },
  {
   "cell_type": "code",
   "execution_count": 114,
   "id": "dbd13ab1",
   "metadata": {},
   "outputs": [
    {
     "data": {
      "image/png": "[encoded data removed]",
      "text/plain": [
       "<Figure size 432x288 with 1 Axes>"
      ]
     },
     "metadata": {
      "needs_background": "light"
     },
     "output_type": "display_data"
    }
   ],
   "source": [
    "# #Idade em anos\n",
    "grafico_barras_prop(df_full2.replace(dict_quali), variable = \"RIAGENDR\")"
   ]
  },
  {
   "cell_type": "code",
   "execution_count": 115,
   "id": "6914dd7b",
   "metadata": {},
   "outputs": [
    {
     "data": {
      "image/png": "[encoded data removed]",
      "text/plain": [
       "<Figure size 432x288 with 1 Axes>"
      ]
     },
     "metadata": {
      "needs_background": "light"
     },
     "output_type": "display_data"
    }
   ],
   "source": [
    "#Raça/Etnia\n",
    "grafico_barras_prop(df_full2.replace(dict_quali), variable = \"RIDRETH1\")"
   ]
  },
  {
   "cell_type": "code",
   "execution_count": 116,
   "id": "2cce721e",
   "metadata": {},
   "outputs": [
    {
     "data": {
      "image/png": "[encoded data removed]",
      "text/plain": [
       "<Figure size 432x288 with 1 Axes>"
      ]
     },
     "metadata": {
      "needs_background": "light"
     },
     "output_type": "display_data"
    }
   ],
   "source": [
    "#Escolaridade\n",
    "grafico_barras_prop(df_full2.replace(dict_quali), variable = \"DMDEDUC\")"
   ]
  },
  {
   "cell_type": "code",
   "execution_count": 117,
   "id": "90a0b6b7",
   "metadata": {},
   "outputs": [
    {
     "data": {
      "image/png": "[encoded data removed]",
      "text/plain": [
       "<Figure size 432x288 with 1 Axes>"
      ]
     },
     "metadata": {
      "needs_background": "light"
     },
     "output_type": "display_data"
    }
   ],
   "source": [
    "#Grupo de aderência ao Physical Activity Guideline(PAG)\n",
    "grafico_barras_prop(df_full2.replace(dict_quali), variable = \"ADHERENCE\")"
   ]
  },
  {
   "cell_type": "code",
   "execution_count": 118,
   "id": "1b8d7582",
   "metadata": {},
   "outputs": [
    {
     "data": {
      "image/png": "[encoded data removed]",
      "text/plain": [
       "<Figure size 432x288 with 1 Axes>"
      ]
     },
     "metadata": {
      "needs_background": "light"
     },
     "output_type": "display_data"
    }
   ],
   "source": [
    "# Níveis de sintomas de depressão \n",
    "grafico_barras_prop(df_full2.replace(dict_quali), variable = \"phq_grp2\")"
   ]
  },
  {
   "cell_type": "markdown",
   "id": "7a998592",
   "metadata": {},
   "source": [
    "## EDA: Análise Bivariada + Teste de Hipóteses"
   ]
  },
  {
   "cell_type": "code",
   "execution_count": 119,
   "id": "e653759d",
   "metadata": {},
   "outputs": [],
   "source": [
    "# Função para construir boxplot\n",
    "def grafico_boxplot(dataset, var, nome):\n",
    "    \n",
    "    if nome == \"\": nome = var\n",
    "    sns.boxplot(x=\"phq_grp2\", y=var, data=dataset)\n",
    "    plt.ylabel(nome)\n",
    "    plt.show()"
   ]
  },
  {
   "cell_type": "markdown",
   "id": "2181e87c",
   "metadata": {},
   "source": [
    "### Perfil com maiores incidências de sintomas de depressão"
   ]
  },
  {
   "cell_type": "code",
   "execution_count": 120,
   "id": "22134aa4",
   "metadata": {},
   "outputs": [
    {
     "data": {
      "image/png": "[encoded data removed]",
      "text/plain": [
       "<Figure size 432x288 with 1 Axes>"
      ]
     },
     "metadata": {
      "needs_background": "light"
     },
     "output_type": "display_data"
    }
   ],
   "source": [
    "# Níveis de sintomas de depressão com relação a idade\n",
    "grafico_boxplot(df_full2.replace(dict_quali), \"RIDAGEYR\", \"Idade\")"
   ]
  },
  {
   "cell_type": "markdown",
   "id": "fd0fa5e8",
   "metadata": {},
   "source": [
    "Teste de hipóteses:\n",
    "\n",
    "Neste caso queremos comparar a média de idade para os três grupos de sintomas de depressão. Sendo assim, o teste F da ANOVA será utilizado. Neste teste, decidimos entre a hipótese nula: \"Não existe diferença entre os grupos de depressão com relação à média de idade\" e a hipótese alternativa: \"Existe pelo menos uma diferença na média de idade entre os grupos de sintomas de depressão\"."
   ]
  },
  {
   "cell_type": "code",
   "execution_count": 121,
   "id": "0fea9d14",
   "metadata": {},
   "outputs": [
    {
     "name": "stdout",
     "output_type": "stream",
     "text": [
      "stat=2.935, p=0.053\n"
     ]
    }
   ],
   "source": [
    "from scipy.stats import f_oneway\n",
    "\n",
    "df_aux = df_full2[[\"phq_grp2\", \"RIDAGEYR\"]].dropna()\n",
    "\n",
    "stat, p = f_oneway(df_aux[(df_aux.phq_grp2 == 0)][\"RIDAGEYR\"],\n",
    "                   df_aux[(df_aux.phq_grp2 == 1)][\"RIDAGEYR\"],\n",
    "                   df_aux[(df_aux.phq_grp2 == 2)][\"RIDAGEYR\"])\n",
    "\n",
    "print('stat=%.3f, p=%.3f' % (stat, p))"
   ]
  },
  {
   "cell_type": "markdown",
   "id": "c0bf2009",
   "metadata": {},
   "source": [
    "Neste caso, levando em consideração o valor p = 0.053, não temos indícios suficientes para rejeitar a hipótese nula, Sendo assim, não conseguimos detectar uma diferença estatisticamente significativa entre os grupos de depressão com relação à media de idade."
   ]
  },
  {
   "cell_type": "code",
   "execution_count": 122,
   "id": "9c4f95b5",
   "metadata": {},
   "outputs": [
    {
     "data": {
      "image/png": "[encoded data removed]",
      "text/plain": [
       "<Figure size 432x288 with 1 Axes>"
      ]
     },
     "metadata": {
      "needs_background": "light"
     },
     "output_type": "display_data"
    }
   ],
   "source": [
    "# Níveis de sintomas de depressão com relação a renda anual familiar em (US$)\n",
    "grafico_boxplot(df_full2.replace(dict_quali), \"INDFMINC\", \"Renda Anual Familiar (US$)\")"
   ]
  },
  {
   "cell_type": "markdown",
   "id": "f6c1aa7f",
   "metadata": {},
   "source": [
    "A partir de uma análise visual, é possível observar no gráfico acima que, quanto maior o grau de sintomas de depressão, menor é a mediana da renda anual familiar em (US$)."
   ]
  },
  {
   "cell_type": "code",
   "execution_count": 123,
   "id": "fe7ae408",
   "metadata": {},
   "outputs": [
    {
     "name": "stdout",
     "output_type": "stream",
     "text": [
      "stat=51.355, p=0.000\n"
     ]
    }
   ],
   "source": [
    "from scipy.stats import f_oneway\n",
    "\n",
    "df_aux = df_full2[[\"phq_grp2\", \"INDFMINC\"]].dropna()\n",
    "\n",
    "stat, p = f_oneway(df_aux[(df_aux.phq_grp2 == 0)][\"INDFMINC\"],\n",
    "                   df_aux[(df_aux.phq_grp2 == 1)][\"INDFMINC\"],\n",
    "                   df_aux[(df_aux.phq_grp2 == 2)][\"INDFMINC\"])\n",
    "\n",
    "print('stat=%.3f, p=%.3f' % (stat, p))"
   ]
  },
  {
   "cell_type": "markdown",
   "id": "2884ad23",
   "metadata": {},
   "source": [
    "Neste caso estamos testando se a hipótese nula \"Não existe diferença entre os grupos de depressão com relação à renda média\". Como o valor p= 0.000 está a baixo de 0.05. Temos indícios suficientes para rejeitar a hipótese nula. "
   ]
  },
  {
   "cell_type": "code",
   "execution_count": 124,
   "id": "385e463c",
   "metadata": {},
   "outputs": [
    {
     "name": "stdout",
     "output_type": "stream",
     "text": [
      "Multiple Comparison of Means - Tukey HSD, FWER=0.05\n",
      "===================================================\n",
      "group1 group2 meandiff p-adj  lower   upper  reject\n",
      "---------------------------------------------------\n",
      "   0.0    1.0  -0.5949 0.001 -0.8925 -0.2974   True\n",
      "   0.0    2.0  -1.7404 0.001  -2.173 -1.3077   True\n",
      "   1.0    2.0  -1.1454 0.001  -1.644 -0.6469   True\n",
      "---------------------------------------------------\n"
     ]
    }
   ],
   "source": [
    "from statsmodels.stats.multicomp import pairwise_tukeyhsd\n",
    "\n",
    "tukey = pairwise_tukeyhsd(df_aux[\"INDFMINC\"],\n",
    "                  df_aux[\"phq_grp2\"],\n",
    "                  alpha = 0.05)\n",
    "\n",
    "print(tukey)"
   ]
  },
  {
   "cell_type": "raw",
   "id": "47a6815e",
   "metadata": {},
   "source": [
    "Neste caso, rejeitamos todas as hipóteses nulas e temos indícios que as 3 rendas médias de grupos de sintomas de depressão são diferentes."
   ]
  },
  {
   "cell_type": "markdown",
   "id": "6048b9e4",
   "metadata": {},
   "source": [
    "Níveis de sintomas de depressão com relação ao Tempo total de Atividade Física (h/semana)"
   ]
  },
  {
   "cell_type": "code",
   "execution_count": 125,
   "id": "2f3a797d",
   "metadata": {},
   "outputs": [
    {
     "data": {
      "image/png": "[encoded data removed]",
      "text/plain": [
       "<Figure size 432x288 with 1 Axes>"
      ]
     },
     "metadata": {
      "needs_background": "light"
     },
     "output_type": "display_data"
    }
   ],
   "source": [
    "grafico_boxplot(df_full2.replace(dict_quali), \"PAG_HRW_log\", \"Log Atividade Física (h/semana)\")"
   ]
  },
  {
   "cell_type": "markdown",
   "id": "926bbec0",
   "metadata": {},
   "source": [
    "A partir de uma análise visual, é possível observar no gráfico acima que, quanto maior o grau de sintomas de depressão, menor é a mediana do Tempo total de Atividade Física (h/semana)."
   ]
  },
  {
   "cell_type": "code",
   "execution_count": 126,
   "id": "63069a4f",
   "metadata": {},
   "outputs": [
    {
     "name": "stdout",
     "output_type": "stream",
     "text": [
      "stat=31.768, p=0.000\n"
     ]
    }
   ],
   "source": [
    "from scipy.stats import f_oneway\n",
    "\n",
    "df_aux = df_full2[[\"phq_grp2\", \"PAG_HRW_log\"]].dropna()\n",
    "\n",
    "stat, p = f_oneway(df_aux[(df_aux.phq_grp2 == 0)][\"PAG_HRW_log\"],\n",
    "                   df_aux[(df_aux.phq_grp2 == 1)][\"PAG_HRW_log\"],\n",
    "                   df_aux[(df_aux.phq_grp2 == 2)][\"PAG_HRW_log\"])\n",
    "\n",
    "print('stat=%.3f, p=%.3f' % (stat, p))"
   ]
  },
  {
   "cell_type": "markdown",
   "id": "c501870e",
   "metadata": {},
   "source": [
    "Neste caso estamos testando se a hipótese nula \"Não existe diferença entre os grupos de depressão com relação ao Tempo médio total de Atividade Física (h/semana)\". Como o valor p= 0.000 está a baixo de 0.05. Temos indícios suficientes para rejeitar a hipótese nula. "
   ]
  },
  {
   "cell_type": "code",
   "execution_count": 127,
   "id": "72e5e747",
   "metadata": {},
   "outputs": [
    {
     "name": "stdout",
     "output_type": "stream",
     "text": [
      "Multiple Comparison of Means - Tukey HSD, FWER=0.05 \n",
      "====================================================\n",
      "group1 group2 meandiff p-adj   lower   upper  reject\n",
      "----------------------------------------------------\n",
      "   0.0    1.0  -0.1361 0.0085 -0.2436 -0.0286   True\n",
      "   0.0    2.0  -0.5172  0.001 -0.6752 -0.3591   True\n",
      "   1.0    2.0  -0.3811  0.001 -0.5625 -0.1997   True\n",
      "----------------------------------------------------\n"
     ]
    }
   ],
   "source": [
    "from statsmodels.stats.multicomp import pairwise_tukeyhsd\n",
    "\n",
    "tukey = pairwise_tukeyhsd(df_aux[\"PAG_HRW_log\"],\n",
    "                  df_aux[\"phq_grp2\"],\n",
    "                  alpha = 0.05)\n",
    "\n",
    "print(tukey)"
   ]
  },
  {
   "cell_type": "markdown",
   "id": "d5cf0571",
   "metadata": {},
   "source": [
    "Neste caso, também rejeitamos todas as hipóteses nulas e temos indícios que existe diferença entre as 3 médias dos grupos de depressão com relação ao Tempo médio total de Atividade Física (h/semana). "
   ]
  },
  {
   "cell_type": "markdown",
   "id": "56a1a0d3",
   "metadata": {},
   "source": [
    "Níveis de sintomas de depressão com relação ao score alimentar total"
   ]
  },
  {
   "cell_type": "code",
   "execution_count": 128,
   "id": "ec64459e",
   "metadata": {},
   "outputs": [
    {
     "data": {
      "image/png": "[encoded data removed]",
      "text/plain": [
       "<Figure size 432x288 with 1 Axes>"
      ]
     },
     "metadata": {
      "needs_background": "light"
     },
     "output_type": "display_data"
    }
   ],
   "source": [
    "grafico_boxplot(df_full2.replace(dict_quali), \"HEI2015_TOTAL_SCORE\", \"HEI - Escore total\")"
   ]
  },
  {
   "cell_type": "code",
   "execution_count": 129,
   "id": "1f6ce773",
   "metadata": {},
   "outputs": [
    {
     "name": "stdout",
     "output_type": "stream",
     "text": [
      "stat=8.537, p=0.000\n"
     ]
    }
   ],
   "source": [
    "from scipy.stats import f_oneway\n",
    "\n",
    "df_aux = df_full2[[\"phq_grp2\", \"HEI2015_TOTAL_SCORE\"]].dropna()\n",
    "\n",
    "stat, p = f_oneway(df_aux[(df_aux.phq_grp2 == 0)][\"HEI2015_TOTAL_SCORE\"],\n",
    "                   df_aux[(df_aux.phq_grp2 == 1)][\"HEI2015_TOTAL_SCORE\"],\n",
    "                   df_aux[(df_aux.phq_grp2 == 2)][\"HEI2015_TOTAL_SCORE\"])\n",
    "\n",
    "print('stat=%.3f, p=%.3f' % (stat, p))"
   ]
  },
  {
   "cell_type": "markdown",
   "id": "e01647b2",
   "metadata": {},
   "source": [
    "Neste caso estamos testando se a hipótese nula \"Não existe diferença entre os grupos de depressão com relação ao score alimentar total\". Como o valor p= 0.000 está a baixo de 0.05. Temos indícios suficientes para rejeitar a hipótese nula. "
   ]
  },
  {
   "cell_type": "code",
   "execution_count": 130,
   "id": "dc0fa21f",
   "metadata": {},
   "outputs": [
    {
     "name": "stdout",
     "output_type": "stream",
     "text": [
      "Multiple Comparison of Means - Tukey HSD, FWER=0.05 \n",
      "====================================================\n",
      "group1 group2 meandiff p-adj   lower   upper  reject\n",
      "----------------------------------------------------\n",
      "   0.0    1.0  -1.2778 0.0335 -2.4769 -0.0787   True\n",
      "   0.0    2.0  -2.6646 0.0012 -4.4309 -0.8982   True\n",
      "   1.0    2.0  -1.3868 0.2444 -3.4142  0.6406  False\n",
      "----------------------------------------------------\n"
     ]
    }
   ],
   "source": [
    "from statsmodels.stats.multicomp import pairwise_tukeyhsd\n",
    "\n",
    "tukey = pairwise_tukeyhsd(df_aux[\"HEI2015_TOTAL_SCORE\"],\n",
    "                  df_aux[\"phq_grp2\"],\n",
    "                  alpha = 0.05)\n",
    "\n",
    "print(tukey)"
   ]
  },
  {
   "cell_type": "markdown",
   "id": "725306ac",
   "metadata": {},
   "source": [
    "Neste caso, com as comparações multiplas, só não temos indícios para rejeitar a hipótese nula entre o Grupo1  x Grupo2. Nos demais, temos indícios para rejeitar as hipóteses nulas. \n",
    "Portanto, não há diferença significante em relação ao score alimentar total, somente entre o Grupo1  x Grupo2."
   ]
  },
  {
   "cell_type": "markdown",
   "id": "44488209",
   "metadata": {},
   "source": [
    "### Perfil de hábitos saudáveis"
   ]
  },
  {
   "cell_type": "markdown",
   "id": "759b9047",
   "metadata": {},
   "source": [
    "Alimentação saudável com relação a atividades físicas"
   ]
  },
  {
   "cell_type": "code",
   "execution_count": 131,
   "id": "30ae8ce6",
   "metadata": {},
   "outputs": [
    {
     "data": {
      "image/png": "[encoded data removed]",
      "text/plain": [
       "<Figure size 432x288 with 1 Axes>"
      ]
     },
     "metadata": {
      "needs_background": "light"
     },
     "output_type": "display_data"
    },
    {
     "data": {
      "image/png": "[encoded data removed]",
      "text/plain": [
       "<Figure size 1080x360 with 2 Axes>"
      ]
     },
     "metadata": {
      "needs_background": "light"
     },
     "output_type": "display_data"
    }
   ],
   "source": [
    "sns.boxplot(y=\"ADHERENCE\", \n",
    "            x=\"HEI2015_TOTAL_SCORE\", \n",
    "            orient=\"h\",\n",
    "            data=df_full2.replace(dict_quali))\n",
    "plt.show()\n",
    "\n",
    "fig, ax = plt.subplots(ncols=2, figsize=(15,5))\n",
    "\n",
    "sns.regplot(x = \"HEI2015_TOTAL_SCORE\", \n",
    "            y = \"PAG_HRW\", \n",
    "            lowess=True, \n",
    "            line_kws={\"color\": \"red\"},\n",
    "            data = df_full2,\n",
    "            ax = ax[0])\n",
    "\n",
    "sns.regplot(x = \"HEI2015_TOTAL_SCORE\", \n",
    "            y = \"PAG_HRW_log\", \n",
    "            lowess=True, \n",
    "            line_kws={\"color\": \"red\"},\n",
    "            data = df_full2,\n",
    "            ax = ax[1])\n",
    "plt.show()"
   ]
  },
  {
   "cell_type": "code",
   "execution_count": 132,
   "id": "399c01ee",
   "metadata": {},
   "outputs": [
    {
     "name": "stdout",
     "output_type": "stream",
     "text": [
      "stat=4.122, p=0.016\n"
     ]
    }
   ],
   "source": [
    "from scipy.stats import f_oneway\n",
    "\n",
    "df_aux = df_full2[[\"ADHERENCE\", \"HEI2015_TOTAL_SCORE\"]].dropna()\n",
    "\n",
    "stat, p = f_oneway(df_aux[(df_aux.ADHERENCE == 1)][\"HEI2015_TOTAL_SCORE\"],\n",
    "                   df_aux[(df_aux.ADHERENCE == 2)][\"HEI2015_TOTAL_SCORE\"],\n",
    "                   df_aux[(df_aux.ADHERENCE == 3)][\"HEI2015_TOTAL_SCORE\"])\n",
    "\n",
    "print('stat=%.3f, p=%.3f' % (stat, p))"
   ]
  },
  {
   "cell_type": "markdown",
   "id": "da82b802",
   "metadata": {},
   "source": [
    "Neste caso estamos testando se a hipótese nula \"Não existe diferença entre Alimentação saudável com relação a atividades físicas\". Como o valor p= 0.016 está a baixo de 0.05. Temos indícios suficientes para rejeitar a hipótese nula. "
   ]
  },
  {
   "cell_type": "code",
   "execution_count": 133,
   "id": "45abe989",
   "metadata": {},
   "outputs": [
    {
     "name": "stdout",
     "output_type": "stream",
     "text": [
      "Multiple Comparison of Means - Tukey HSD, FWER=0.05\n",
      "===================================================\n",
      "group1 group2 meandiff p-adj   lower  upper  reject\n",
      "---------------------------------------------------\n",
      "   1.0    2.0   0.3937 0.7031  -0.805 1.5924  False\n",
      "   1.0    3.0   1.0773  0.012  0.1931 1.9616   True\n",
      "   2.0    3.0   0.6837  0.378 -0.5186 1.8859  False\n",
      "---------------------------------------------------\n"
     ]
    }
   ],
   "source": [
    "from statsmodels.stats.multicomp import pairwise_tukeyhsd\n",
    "\n",
    "tukey = pairwise_tukeyhsd(df_aux[\"HEI2015_TOTAL_SCORE\"],\n",
    "                  df_aux[\"ADHERENCE\"],\n",
    "                  alpha = 0.05)\n",
    "\n",
    "print(tukey)"
   ]
  },
  {
   "cell_type": "markdown",
   "id": "371a5e95",
   "metadata": {},
   "source": [
    "Neste caso, com as comparações multiplas, só temos indícios para rejeitar a hipótese nula entre o Grupo1  x Grupo3. Nos demais, não temos indícios para rejeitar as hipóteses nulas. \n",
    "\n",
    "Podemos concluir que só existe diferença significante entre Alimentação saudável com relação a atividades físicas entre o Grupo1  x Grupo3. Nos demais não há diferença significante entre Alimentação saudável com relação a atividades físicas."
   ]
  },
  {
   "cell_type": "markdown",
   "id": "7fd862b3",
   "metadata": {},
   "source": [
    "Hábitos saudáveis com relação ao gênero (Atividades físicas e alimentação saudável)"
   ]
  },
  {
   "cell_type": "code",
   "execution_count": 134,
   "id": "401a324e",
   "metadata": {},
   "outputs": [
    {
     "data": {
      "image/png": "[encoded data removed]",
      "text/plain": [
       "<Figure size 504x360 with 1 Axes>"
      ]
     },
     "metadata": {
      "needs_background": "light"
     },
     "output_type": "display_data"
    },
    {
     "data": {
      "image/png": "[encoded data removed]",
      "text/plain": [
       "<Figure size 1080x360 with 2 Axes>"
      ]
     },
     "metadata": {
      "needs_background": "light"
     },
     "output_type": "display_data"
    }
   ],
   "source": [
    "plt.figure(figsize=(7,5))\n",
    "sns.boxplot(x=\"RIAGENDR\", \n",
    "            y=\"HEI2015_TOTAL_SCORE\", \n",
    "            data=df_full2.replace(dict_quali))\n",
    "plt.show()\n",
    "\n",
    "fig, ax = plt.subplots(ncols=2, figsize=(15,5))\n",
    "sns.boxplot(x=\"RIAGENDR\", \n",
    "            y=\"PAG_HRW\", \n",
    "            data=df_full2.replace(dict_quali),\n",
    "            ax = ax[0])\n",
    "\n",
    "sns.boxplot(x=\"RIAGENDR\", \n",
    "            y=\"PAG_HRW_log\", \n",
    "            data=df_full2.replace(dict_quali),\n",
    "            ax = ax[1])\n",
    "plt.show()"
   ]
  },
  {
   "cell_type": "code",
   "execution_count": 135,
   "id": "2b8679be",
   "metadata": {},
   "outputs": [
    {
     "name": "stdout",
     "output_type": "stream",
     "text": [
      "stat=27.216, p=0.000\n"
     ]
    }
   ],
   "source": [
    "from scipy.stats import f_oneway\n",
    "\n",
    "df_aux = df_full2[[\"RIAGENDR\", \"PAG_HRW\", \"PAG_HRW_log\", \"HEI2015_TOTAL_SCORE\"]].dropna()\n",
    "\n",
    "stat, p = f_oneway(df_aux[(df_aux.RIAGENDR == 1)][\"HEI2015_TOTAL_SCORE\"],\n",
    "                   df_aux[(df_aux.RIAGENDR == 2)][\"HEI2015_TOTAL_SCORE\"])\n",
    "\n",
    "print('stat=%.3f, p=%.3f' % (stat, p))"
   ]
  },
  {
   "cell_type": "code",
   "execution_count": 136,
   "id": "94c69be6",
   "metadata": {},
   "outputs": [
    {
     "name": "stdout",
     "output_type": "stream",
     "text": [
      "stat=50.329, p=0.000\n"
     ]
    }
   ],
   "source": [
    "from scipy.stats import f_oneway\n",
    "\n",
    "df_aux = df_full2[[\"RIAGENDR\", \"PAG_HRW\", \"PAG_HRW_log\", \"HEI2015_TOTAL_SCORE\"]].dropna()\n",
    "\n",
    "stat, p = f_oneway(df_aux[(df_aux.RIAGENDR == 1)][\"PAG_HRW_log\"],\n",
    "                   df_aux[(df_aux.RIAGENDR == 2)][\"PAG_HRW_log\"])\n",
    "\n",
    "print('stat=%.3f, p=%.3f' % (stat, p))"
   ]
  },
  {
   "cell_type": "markdown",
   "id": "74a77dba",
   "metadata": {},
   "source": [
    "Neste caso estamos testando se a hipótese nula \"Não existe diferença entre Hábitos saudáveis com relação ao gênero\". Como o valor p= 0.000 está a baixo de 0.05. Temos indícios suficientes para rejeitar a hipótese nula. "
   ]
  },
  {
   "cell_type": "markdown",
   "id": "865f2af4",
   "metadata": {},
   "source": [
    "Hábitos saudáveis com relação a raça"
   ]
  },
  {
   "cell_type": "code",
   "execution_count": 137,
   "id": "b1ecb849",
   "metadata": {},
   "outputs": [
    {
     "data": {
      "image/png": "[encoded data removed]",
      "text/plain": [
       "<Figure size 504x360 with 1 Axes>"
      ]
     },
     "metadata": {
      "needs_background": "light"
     },
     "output_type": "display_data"
    },
    {
     "data": {
      "image/png": "[encoded data removed]",
      "text/plain": [
       "<Figure size 1080x360 with 2 Axes>"
      ]
     },
     "metadata": {
      "needs_background": "light"
     },
     "output_type": "display_data"
    }
   ],
   "source": [
    "plt.figure(figsize=(7,5))\n",
    "sns.boxplot(x=\"RIDRETH1\", \n",
    "            y=\"HEI2015_TOTAL_SCORE\", \n",
    "            data=df_full2.replace(dict_quali))\n",
    "plt.show()\n",
    "\n",
    "fig, ax = plt.subplots(ncols=2, figsize=(15,5))\n",
    "sns.boxplot(x=\"RIDRETH1\", \n",
    "            y=\"PAG_HRW\", \n",
    "            data=df_full2.replace(dict_quali),\n",
    "            ax = ax[0])\n",
    "\n",
    "sns.boxplot(x=\"RIDRETH1\", \n",
    "            y=\"PAG_HRW_log\", \n",
    "            data=df_full2.replace(dict_quali),\n",
    "            ax = ax[1])\n",
    "plt.show()"
   ]
  },
  {
   "cell_type": "code",
   "execution_count": 138,
   "id": "1861acb6",
   "metadata": {},
   "outputs": [
    {
     "name": "stdout",
     "output_type": "stream",
     "text": [
      "stat=11.447, p=0.000\n"
     ]
    }
   ],
   "source": [
    "from scipy.stats import f_oneway\n",
    "\n",
    "df_aux = df_full2[[\"RIDRETH1\", \"PAG_HRW\", \"PAG_HRW_log\", \"HEI2015_TOTAL_SCORE\"]].dropna()\n",
    "\n",
    "stat, p = f_oneway(df_aux[(df_aux.RIDRETH1 == 1)][\"HEI2015_TOTAL_SCORE\"],\n",
    "                   df_aux[(df_aux.RIDRETH1 == 2)][\"HEI2015_TOTAL_SCORE\"],\n",
    "                   df_aux[(df_aux.RIDRETH1 == 3)][\"HEI2015_TOTAL_SCORE\"],\n",
    "                   df_aux[(df_aux.RIDRETH1 == 4)][\"HEI2015_TOTAL_SCORE\"])\n",
    "\n",
    "print('stat=%.3f, p=%.3f' % (stat, p))"
   ]
  },
  {
   "cell_type": "markdown",
   "id": "9be89491",
   "metadata": {},
   "source": [
    "Neste caso estamos testando se a hipótese nula \"Não existe diferença entre Hábitos saudáveis com relação a raça\". Como o valor p= 0.000 está a baixo de 0.05. Temos indícios suficientes para rejeitar a hipótese nula."
   ]
  },
  {
   "cell_type": "code",
   "execution_count": 139,
   "id": "7ad0526c",
   "metadata": {},
   "outputs": [
    {
     "name": "stdout",
     "output_type": "stream",
     "text": [
      "Multiple Comparison of Means - Tukey HSD, FWER=0.05 \n",
      "====================================================\n",
      "group1 group2 meandiff p-adj   lower   upper  reject\n",
      "----------------------------------------------------\n",
      "     1      2  -1.0955 0.0719 -2.2544  0.0634  False\n",
      "     1      3   -2.813  0.001 -4.0994 -1.5265   True\n",
      "     1      4  -0.5191    0.9 -2.9015  1.8633  False\n",
      "     2      3  -1.7175  0.001 -2.7858 -0.6491   True\n",
      "     2      4   0.5764    0.9 -1.6957  2.8484  False\n",
      "     3      4   2.2939 0.0571 -0.0458  4.6336  False\n",
      "----------------------------------------------------\n"
     ]
    }
   ],
   "source": [
    "from statsmodels.stats.multicomp import pairwise_tukeyhsd\n",
    "\n",
    "tukey = pairwise_tukeyhsd(df_aux[\"HEI2015_TOTAL_SCORE\"],\n",
    "                  df_aux[\"RIDRETH1\"],\n",
    "                  alpha = 0.05)\n",
    "\n",
    "print(tukey)"
   ]
  },
  {
   "cell_type": "markdown",
   "id": "a6df78b7",
   "metadata": {},
   "source": [
    "Neste caso, com as comparações multiplas, temos indícios para rejeitar a hipótese nula somente entre o Grupo1 x Grupo3 e Grupo2 x Grupo3. Nos demais, não temos indícios suficientes para rejeitar as hipóteses nulas.\n",
    "\n",
    "Podemos concluir que existe diferença significante entre Hábitos saudáveis(alimentação saudável) com relação a raça nos grupos citados acima. Nos demais não há diferença significante entre Hábitos saudáveis com relação a raça. "
   ]
  },
  {
   "cell_type": "code",
   "execution_count": 140,
   "id": "bc6d1758",
   "metadata": {},
   "outputs": [
    {
     "name": "stdout",
     "output_type": "stream",
     "text": [
      "stat=25.774, p=0.000\n"
     ]
    }
   ],
   "source": [
    "from scipy.stats import f_oneway\n",
    "\n",
    "stat, p = f_oneway(df_aux[(df_aux.RIDRETH1 == 1)][\"PAG_HRW_log\"],\n",
    "                   df_aux[(df_aux.RIDRETH1 == 2)][\"PAG_HRW_log\"],\n",
    "                   df_aux[(df_aux.RIDRETH1 == 3)][\"PAG_HRW_log\"],\n",
    "                   df_aux[(df_aux.RIDRETH1 == 4)][\"PAG_HRW_log\"])\n",
    "\n",
    "print('stat=%.3f, p=%.3f' % (stat, p))"
   ]
  },
  {
   "cell_type": "markdown",
   "id": "168d66b8",
   "metadata": {},
   "source": [
    "Neste caso estamos testando se a hipótese nula \"Não existe diferença entre Hábitos saudáveis com relação a raça\". Como o valor p= 0.000 está a baixo de 0.05. Temos indícios suficientes para rejeitar a hipótese nula."
   ]
  },
  {
   "cell_type": "code",
   "execution_count": 141,
   "id": "47c49442",
   "metadata": {},
   "outputs": [
    {
     "name": "stdout",
     "output_type": "stream",
     "text": [
      "Multiple Comparison of Means - Tukey HSD, FWER=0.05 \n",
      "====================================================\n",
      "group1 group2 meandiff p-adj   lower   upper  reject\n",
      "----------------------------------------------------\n",
      "     1      2   0.3502  0.001  0.2444   0.456   True\n",
      "     1      3   0.2394  0.001  0.1219  0.3569   True\n",
      "     1      4   0.4181  0.001  0.2005  0.6356   True\n",
      "     2      3  -0.1108 0.0185 -0.2083 -0.0132   True\n",
      "     2      4   0.0679  0.813 -0.1396  0.2754  False\n",
      "     3      4   0.1787 0.1377 -0.0349  0.3924  False\n",
      "----------------------------------------------------\n"
     ]
    }
   ],
   "source": [
    "from statsmodels.stats.multicomp import pairwise_tukeyhsd\n",
    "\n",
    "tukey = pairwise_tukeyhsd(df_aux[\"PAG_HRW_log\"],\n",
    "                  df_aux[\"RIDRETH1\"],\n",
    "                  alpha = 0.05)\n",
    "\n",
    "print(tukey)"
   ]
  },
  {
   "cell_type": "markdown",
   "id": "aa4c0dbc",
   "metadata": {},
   "source": [
    "Neste caso, com as comparações multiplas, só não temos indícios para rejeitar a hipótese nula entre o Grupo2 x Grupo4, Grupo3 x Grupo4. Nos demais, temos indícios suficientes para rejeitar as hipóteses nulas.\n",
    "\n",
    "Podemos concluir que existe diferença significante entre Hábitos saudáveis(atividades físicas) com relação a raça entre o Grupo1 x Grupo2, Grupo1 x Grupo3, Grupo1 x Grupo4, Grupo2 x Grupo3. Nos demais não há diferença significante entre Hábitos saudáveis(atividades físicas) com relação a raça."
   ]
  }
 ],
 "metadata": {
  "kernelspec": {
   "display_name": "Python 3 (ipykernel)",
   "language": "python",
   "name": "python3"
  },
  "language_info": {
   "codemirror_mode": {
    "name": "ipython",
    "version": 3
   },
   "file_extension": ".py",
   "mimetype": "text/x-python",
   "name": "python",
   "nbconvert_exporter": "python",
   "pygments_lexer": "ipython3",
   "version": "3.9.7"
  }
 },
 "nbformat": 4,
 "nbformat_minor": 5
}
