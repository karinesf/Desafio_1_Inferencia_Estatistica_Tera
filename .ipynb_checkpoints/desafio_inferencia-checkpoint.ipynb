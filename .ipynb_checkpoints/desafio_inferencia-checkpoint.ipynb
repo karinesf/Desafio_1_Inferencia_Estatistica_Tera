{
 "cells": [
  {
   "cell_type": "markdown",
   "id": "db595177",
   "metadata": {},
   "source": [
    "# Desafio 1 - inferência estatística"
   ]
  },
  {
   "cell_type": "code",
   "execution_count": 60,
   "id": "f61a900c",
   "metadata": {},
   "outputs": [],
   "source": [
    "## Importando as bibliotecas necessárias\n",
    "\n",
    "import pandas as pd\n",
    "import numpy as np\n",
    "import matplotlib.pyplot as plt\n",
    "import seaborn as sns"
   ]
  },
  {
   "cell_type": "markdown",
   "id": "877f4c6d",
   "metadata": {},
   "source": [
    "## Tratamento dos dados"
   ]
  },
  {
   "cell_type": "code",
   "execution_count": 61,
   "id": "4018532e",
   "metadata": {},
   "outputs": [],
   "source": [
    "## lendo os datasets\n",
    "\n",
    "df_demo = pd.read_csv('DEMO_PHQ.csv', encoding=\"UTF-8\", sep=\",\")\n",
    "df_pag = pd.read_csv('PAG_HEI.csv', encoding=\"UTF-8\", sep=\",\")"
   ]
  },
  {
   "cell_type": "code",
   "execution_count": 62,
   "id": "e2696415",
   "metadata": {},
   "outputs": [
    {
     "data": {
      "text/html": [
       "<div>\n",
       "<style scoped>\n",
       "    .dataframe tbody tr th:only-of-type {\n",
       "        vertical-align: middle;\n",
       "    }\n",
       "\n",
       "    .dataframe tbody tr th {\n",
       "        vertical-align: top;\n",
       "    }\n",
       "\n",
       "    .dataframe thead th {\n",
       "        text-align: right;\n",
       "    }\n",
       "</style>\n",
       "<table border=\"1\" class=\"dataframe\">\n",
       "  <thead>\n",
       "    <tr style=\"text-align: right;\">\n",
       "      <th></th>\n",
       "      <th>SEQN</th>\n",
       "      <th>DPQ010</th>\n",
       "      <th>DPQ020</th>\n",
       "      <th>DPQ030</th>\n",
       "      <th>DPQ040</th>\n",
       "      <th>DPQ050</th>\n",
       "      <th>DPQ060</th>\n",
       "      <th>DPQ070</th>\n",
       "      <th>DPQ080</th>\n",
       "      <th>DPQ090</th>\n",
       "      <th>RIAGENDR</th>\n",
       "      <th>RIDAGEYR</th>\n",
       "      <th>RIDRETH1</th>\n",
       "      <th>DMDEDUC</th>\n",
       "      <th>INDFMINC</th>\n",
       "    </tr>\n",
       "  </thead>\n",
       "  <tbody>\n",
       "    <tr>\n",
       "      <th>0</th>\n",
       "      <td>31130</td>\n",
       "      <td>NaN</td>\n",
       "      <td>NaN</td>\n",
       "      <td>NaN</td>\n",
       "      <td>NaN</td>\n",
       "      <td>NaN</td>\n",
       "      <td>NaN</td>\n",
       "      <td>NaN</td>\n",
       "      <td>NaN</td>\n",
       "      <td>NaN</td>\n",
       "      <td>2</td>\n",
       "      <td>85</td>\n",
       "      <td>3</td>\n",
       "      <td>4</td>\n",
       "      <td>4.0</td>\n",
       "    </tr>\n",
       "    <tr>\n",
       "      <th>1</th>\n",
       "      <td>31131</td>\n",
       "      <td>0.0</td>\n",
       "      <td>0.0</td>\n",
       "      <td>0.0</td>\n",
       "      <td>0.0</td>\n",
       "      <td>0.0</td>\n",
       "      <td>0.0</td>\n",
       "      <td>0.0</td>\n",
       "      <td>0.0</td>\n",
       "      <td>0.0</td>\n",
       "      <td>2</td>\n",
       "      <td>44</td>\n",
       "      <td>4</td>\n",
       "      <td>4</td>\n",
       "      <td>11.0</td>\n",
       "    </tr>\n",
       "    <tr>\n",
       "      <th>2</th>\n",
       "      <td>31132</td>\n",
       "      <td>0.0</td>\n",
       "      <td>0.0</td>\n",
       "      <td>0.0</td>\n",
       "      <td>0.0</td>\n",
       "      <td>0.0</td>\n",
       "      <td>0.0</td>\n",
       "      <td>0.0</td>\n",
       "      <td>0.0</td>\n",
       "      <td>0.0</td>\n",
       "      <td>1</td>\n",
       "      <td>70</td>\n",
       "      <td>3</td>\n",
       "      <td>5</td>\n",
       "      <td>11.0</td>\n",
       "    </tr>\n",
       "    <tr>\n",
       "      <th>3</th>\n",
       "      <td>31134</td>\n",
       "      <td>0.0</td>\n",
       "      <td>0.0</td>\n",
       "      <td>0.0</td>\n",
       "      <td>0.0</td>\n",
       "      <td>0.0</td>\n",
       "      <td>0.0</td>\n",
       "      <td>0.0</td>\n",
       "      <td>0.0</td>\n",
       "      <td>0.0</td>\n",
       "      <td>1</td>\n",
       "      <td>73</td>\n",
       "      <td>3</td>\n",
       "      <td>3</td>\n",
       "      <td>12.0</td>\n",
       "    </tr>\n",
       "    <tr>\n",
       "      <th>4</th>\n",
       "      <td>31139</td>\n",
       "      <td>0.0</td>\n",
       "      <td>0.0</td>\n",
       "      <td>0.0</td>\n",
       "      <td>0.0</td>\n",
       "      <td>3.0</td>\n",
       "      <td>1.0</td>\n",
       "      <td>0.0</td>\n",
       "      <td>0.0</td>\n",
       "      <td>0.0</td>\n",
       "      <td>2</td>\n",
       "      <td>18</td>\n",
       "      <td>2</td>\n",
       "      <td>3</td>\n",
       "      <td>11.0</td>\n",
       "    </tr>\n",
       "  </tbody>\n",
       "</table>\n",
       "</div>"
      ],
      "text/plain": [
       "    SEQN  DPQ010  DPQ020  DPQ030  DPQ040  DPQ050  DPQ060  DPQ070  DPQ080  \\\n",
       "0  31130     NaN     NaN     NaN     NaN     NaN     NaN     NaN     NaN   \n",
       "1  31131     0.0     0.0     0.0     0.0     0.0     0.0     0.0     0.0   \n",
       "2  31132     0.0     0.0     0.0     0.0     0.0     0.0     0.0     0.0   \n",
       "3  31134     0.0     0.0     0.0     0.0     0.0     0.0     0.0     0.0   \n",
       "4  31139     0.0     0.0     0.0     0.0     3.0     1.0     0.0     0.0   \n",
       "\n",
       "   DPQ090  RIAGENDR  RIDAGEYR  RIDRETH1  DMDEDUC  INDFMINC  \n",
       "0     NaN         2        85         3        4       4.0  \n",
       "1     0.0         2        44         4        4      11.0  \n",
       "2     0.0         1        70         3        5      11.0  \n",
       "3     0.0         1        73         3        3      12.0  \n",
       "4     0.0         2        18         2        3      11.0  "
      ]
     },
     "execution_count": 62,
     "metadata": {},
     "output_type": "execute_result"
    }
   ],
   "source": [
    "df_demo.head()"
   ]
  },
  {
   "cell_type": "code",
   "execution_count": 63,
   "id": "574988b7",
   "metadata": {},
   "outputs": [
    {
     "data": {
      "text/plain": [
       "(5334, 15)"
      ]
     },
     "execution_count": 63,
     "metadata": {},
     "output_type": "execute_result"
    }
   ],
   "source": [
    "df_demo.shape"
   ]
  },
  {
   "cell_type": "code",
   "execution_count": 40,
   "id": "02cb9f7f",
   "metadata": {},
   "outputs": [
    {
     "name": "stdout",
     "output_type": "stream",
     "text": [
      "<class 'pandas.core.frame.DataFrame'>\n",
      "RangeIndex: 5334 entries, 0 to 5333\n",
      "Data columns (total 15 columns):\n",
      " #   Column    Non-Null Count  Dtype  \n",
      "---  ------    --------------  -----  \n",
      " 0   SEQN      5334 non-null   int64  \n",
      " 1   DPQ010    4836 non-null   float64\n",
      " 2   DPQ020    4836 non-null   float64\n",
      " 3   DPQ030    4836 non-null   float64\n",
      " 4   DPQ040    4836 non-null   float64\n",
      " 5   DPQ050    4836 non-null   float64\n",
      " 6   DPQ060    4836 non-null   float64\n",
      " 7   DPQ070    4836 non-null   float64\n",
      " 8   DPQ080    4836 non-null   float64\n",
      " 9   DPQ090    4836 non-null   float64\n",
      " 10  RIAGENDR  5334 non-null   int64  \n",
      " 11  RIDAGEYR  5334 non-null   int64  \n",
      " 12  RIDRETH1  5334 non-null   int64  \n",
      " 13  DMDEDUC   5334 non-null   int64  \n",
      " 14  INDFMINC  5287 non-null   float64\n",
      "dtypes: float64(10), int64(5)\n",
      "memory usage: 625.2 KB\n"
     ]
    }
   ],
   "source": [
    "df_demo.info()"
   ]
  },
  {
   "cell_type": "code",
   "execution_count": 65,
   "id": "2ccbbaf1",
   "metadata": {},
   "outputs": [
    {
     "data": {
      "text/plain": [
       "SEQN          0\n",
       "DPQ010      498\n",
       "DPQ020      498\n",
       "DPQ030      498\n",
       "DPQ040      498\n",
       "DPQ050      498\n",
       "DPQ060      498\n",
       "DPQ070      498\n",
       "DPQ080      498\n",
       "DPQ090      498\n",
       "RIAGENDR      0\n",
       "RIDAGEYR      0\n",
       "RIDRETH1      0\n",
       "DMDEDUC       0\n",
       "INDFMINC     47\n",
       "dtype: int64"
      ]
     },
     "execution_count": 65,
     "metadata": {},
     "output_type": "execute_result"
    }
   ],
   "source": [
    "df_demo.isnull().sum()"
   ]
  },
  {
   "cell_type": "code",
   "execution_count": 66,
   "id": "c72d8bac",
   "metadata": {},
   "outputs": [
    {
     "data": {
      "text/html": [
       "<div>\n",
       "<style scoped>\n",
       "    .dataframe tbody tr th:only-of-type {\n",
       "        vertical-align: middle;\n",
       "    }\n",
       "\n",
       "    .dataframe tbody tr th {\n",
       "        vertical-align: top;\n",
       "    }\n",
       "\n",
       "    .dataframe thead th {\n",
       "        text-align: right;\n",
       "    }\n",
       "</style>\n",
       "<table border=\"1\" class=\"dataframe\">\n",
       "  <thead>\n",
       "    <tr style=\"text-align: right;\">\n",
       "      <th></th>\n",
       "      <th>SEQN</th>\n",
       "      <th>PAG_MINW</th>\n",
       "      <th>ADHERENCE</th>\n",
       "      <th>HEI2015C1_TOTALVEG</th>\n",
       "      <th>HEI2015C2_GREEN_AND_BEAN</th>\n",
       "      <th>HEI2015C3_TOTALFRUIT</th>\n",
       "      <th>HEI2015C4_WHOLEFRUIT</th>\n",
       "      <th>HEI2015C5_WHOLEGRAIN</th>\n",
       "      <th>HEI2015C6_TOTALDAIRY</th>\n",
       "      <th>HEI2015C7_TOTPROT</th>\n",
       "      <th>HEI2015C8_SEAPLANT_PROT</th>\n",
       "      <th>HEI2015C9_FATTYACID</th>\n",
       "      <th>HEI2015C10_SODIUM</th>\n",
       "      <th>HEI2015C11_REFINEDGRAIN</th>\n",
       "      <th>HEI2015C12_SFAT</th>\n",
       "      <th>HEI2015C13_ADDSUG</th>\n",
       "      <th>HEI2015_TOTAL_SCORE</th>\n",
       "    </tr>\n",
       "  </thead>\n",
       "  <tbody>\n",
       "    <tr>\n",
       "      <th>0</th>\n",
       "      <td>31128</td>\n",
       "      <td>NaN</td>\n",
       "      <td>NaN</td>\n",
       "      <td>3.083350</td>\n",
       "      <td>0.0</td>\n",
       "      <td>3.927008</td>\n",
       "      <td>5.000000</td>\n",
       "      <td>0.000000</td>\n",
       "      <td>5.000000</td>\n",
       "      <td>4.251329</td>\n",
       "      <td>0.000000</td>\n",
       "      <td>2.487572</td>\n",
       "      <td>6.911882</td>\n",
       "      <td>10.000000</td>\n",
       "      <td>0.818029</td>\n",
       "      <td>6.408092</td>\n",
       "      <td>47.887262</td>\n",
       "    </tr>\n",
       "    <tr>\n",
       "      <th>1</th>\n",
       "      <td>31129</td>\n",
       "      <td>285.450346</td>\n",
       "      <td>2.0</td>\n",
       "      <td>1.697761</td>\n",
       "      <td>0.0</td>\n",
       "      <td>3.731602</td>\n",
       "      <td>4.929186</td>\n",
       "      <td>0.527631</td>\n",
       "      <td>3.887809</td>\n",
       "      <td>4.693141</td>\n",
       "      <td>0.928562</td>\n",
       "      <td>3.740758</td>\n",
       "      <td>6.146441</td>\n",
       "      <td>7.274979</td>\n",
       "      <td>8.006457</td>\n",
       "      <td>0.000000</td>\n",
       "      <td>45.564326</td>\n",
       "    </tr>\n",
       "    <tr>\n",
       "      <th>2</th>\n",
       "      <td>31130</td>\n",
       "      <td>0.000000</td>\n",
       "      <td>1.0</td>\n",
       "      <td>NaN</td>\n",
       "      <td>NaN</td>\n",
       "      <td>NaN</td>\n",
       "      <td>NaN</td>\n",
       "      <td>NaN</td>\n",
       "      <td>NaN</td>\n",
       "      <td>NaN</td>\n",
       "      <td>NaN</td>\n",
       "      <td>NaN</td>\n",
       "      <td>NaN</td>\n",
       "      <td>NaN</td>\n",
       "      <td>NaN</td>\n",
       "      <td>NaN</td>\n",
       "      <td>NaN</td>\n",
       "    </tr>\n",
       "    <tr>\n",
       "      <th>3</th>\n",
       "      <td>31131</td>\n",
       "      <td>264.711316</td>\n",
       "      <td>2.0</td>\n",
       "      <td>3.115103</td>\n",
       "      <td>0.0</td>\n",
       "      <td>5.000000</td>\n",
       "      <td>1.320674</td>\n",
       "      <td>0.000000</td>\n",
       "      <td>3.141062</td>\n",
       "      <td>4.071959</td>\n",
       "      <td>2.052399</td>\n",
       "      <td>0.684985</td>\n",
       "      <td>2.297100</td>\n",
       "      <td>9.512964</td>\n",
       "      <td>0.438428</td>\n",
       "      <td>3.919226</td>\n",
       "      <td>35.553899</td>\n",
       "    </tr>\n",
       "    <tr>\n",
       "      <th>4</th>\n",
       "      <td>31132</td>\n",
       "      <td>1353.348730</td>\n",
       "      <td>3.0</td>\n",
       "      <td>3.509081</td>\n",
       "      <td>0.0</td>\n",
       "      <td>5.000000</td>\n",
       "      <td>5.000000</td>\n",
       "      <td>5.000000</td>\n",
       "      <td>4.448512</td>\n",
       "      <td>5.000000</td>\n",
       "      <td>0.000000</td>\n",
       "      <td>2.050769</td>\n",
       "      <td>7.369489</td>\n",
       "      <td>8.887880</td>\n",
       "      <td>8.186877</td>\n",
       "      <td>9.099088</td>\n",
       "      <td>63.551696</td>\n",
       "    </tr>\n",
       "  </tbody>\n",
       "</table>\n",
       "</div>"
      ],
      "text/plain": [
       "    SEQN     PAG_MINW  ADHERENCE  HEI2015C1_TOTALVEG  \\\n",
       "0  31128          NaN        NaN            3.083350   \n",
       "1  31129   285.450346        2.0            1.697761   \n",
       "2  31130     0.000000        1.0                 NaN   \n",
       "3  31131   264.711316        2.0            3.115103   \n",
       "4  31132  1353.348730        3.0            3.509081   \n",
       "\n",
       "   HEI2015C2_GREEN_AND_BEAN  HEI2015C3_TOTALFRUIT  HEI2015C4_WHOLEFRUIT  \\\n",
       "0                       0.0              3.927008              5.000000   \n",
       "1                       0.0              3.731602              4.929186   \n",
       "2                       NaN                   NaN                   NaN   \n",
       "3                       0.0              5.000000              1.320674   \n",
       "4                       0.0              5.000000              5.000000   \n",
       "\n",
       "   HEI2015C5_WHOLEGRAIN  HEI2015C6_TOTALDAIRY  HEI2015C7_TOTPROT  \\\n",
       "0              0.000000              5.000000           4.251329   \n",
       "1              0.527631              3.887809           4.693141   \n",
       "2                   NaN                   NaN                NaN   \n",
       "3              0.000000              3.141062           4.071959   \n",
       "4              5.000000              4.448512           5.000000   \n",
       "\n",
       "   HEI2015C8_SEAPLANT_PROT  HEI2015C9_FATTYACID  HEI2015C10_SODIUM  \\\n",
       "0                 0.000000             2.487572           6.911882   \n",
       "1                 0.928562             3.740758           6.146441   \n",
       "2                      NaN                  NaN                NaN   \n",
       "3                 2.052399             0.684985           2.297100   \n",
       "4                 0.000000             2.050769           7.369489   \n",
       "\n",
       "   HEI2015C11_REFINEDGRAIN  HEI2015C12_SFAT  HEI2015C13_ADDSUG  \\\n",
       "0                10.000000         0.818029           6.408092   \n",
       "1                 7.274979         8.006457           0.000000   \n",
       "2                      NaN              NaN                NaN   \n",
       "3                 9.512964         0.438428           3.919226   \n",
       "4                 8.887880         8.186877           9.099088   \n",
       "\n",
       "   HEI2015_TOTAL_SCORE  \n",
       "0            47.887262  \n",
       "1            45.564326  \n",
       "2                  NaN  \n",
       "3            35.553899  \n",
       "4            63.551696  "
      ]
     },
     "execution_count": 66,
     "metadata": {},
     "output_type": "execute_result"
    }
   ],
   "source": [
    "df_pag.head()"
   ]
  },
  {
   "cell_type": "code",
   "execution_count": 67,
   "id": "879d0dbc",
   "metadata": {},
   "outputs": [
    {
     "data": {
      "text/plain": [
       "(9424, 17)"
      ]
     },
     "execution_count": 67,
     "metadata": {},
     "output_type": "execute_result"
    }
   ],
   "source": [
    "df_pag.shape"
   ]
  },
  {
   "cell_type": "code",
   "execution_count": 68,
   "id": "0540e100",
   "metadata": {},
   "outputs": [
    {
     "name": "stdout",
     "output_type": "stream",
     "text": [
      "<class 'pandas.core.frame.DataFrame'>\n",
      "RangeIndex: 9424 entries, 0 to 9423\n",
      "Data columns (total 17 columns):\n",
      " #   Column                    Non-Null Count  Dtype  \n",
      "---  ------                    --------------  -----  \n",
      " 0   SEQN                      9424 non-null   int64  \n",
      " 1   PAG_MINW                  7150 non-null   float64\n",
      " 2   ADHERENCE                 7150 non-null   float64\n",
      " 3   HEI2015C1_TOTALVEG        8549 non-null   float64\n",
      " 4   HEI2015C2_GREEN_AND_BEAN  8549 non-null   float64\n",
      " 5   HEI2015C3_TOTALFRUIT      8549 non-null   float64\n",
      " 6   HEI2015C4_WHOLEFRUIT      8549 non-null   float64\n",
      " 7   HEI2015C5_WHOLEGRAIN      8549 non-null   float64\n",
      " 8   HEI2015C6_TOTALDAIRY      8549 non-null   float64\n",
      " 9   HEI2015C7_TOTPROT         8549 non-null   float64\n",
      " 10  HEI2015C8_SEAPLANT_PROT   8549 non-null   float64\n",
      " 11  HEI2015C9_FATTYACID       8549 non-null   float64\n",
      " 12  HEI2015C10_SODIUM         8549 non-null   float64\n",
      " 13  HEI2015C11_REFINEDGRAIN   8549 non-null   float64\n",
      " 14  HEI2015C12_SFAT           8549 non-null   float64\n",
      " 15  HEI2015C13_ADDSUG         8549 non-null   float64\n",
      " 16  HEI2015_TOTAL_SCORE       8549 non-null   float64\n",
      "dtypes: float64(16), int64(1)\n",
      "memory usage: 1.2 MB\n"
     ]
    }
   ],
   "source": [
    "df_pag.info()"
   ]
  },
  {
   "cell_type": "code",
   "execution_count": 69,
   "id": "f828aaf9",
   "metadata": {},
   "outputs": [
    {
     "data": {
      "text/plain": [
       "SEQN                           0\n",
       "PAG_MINW                    2274\n",
       "ADHERENCE                   2274\n",
       "HEI2015C1_TOTALVEG           875\n",
       "HEI2015C2_GREEN_AND_BEAN     875\n",
       "HEI2015C3_TOTALFRUIT         875\n",
       "HEI2015C4_WHOLEFRUIT         875\n",
       "HEI2015C5_WHOLEGRAIN         875\n",
       "HEI2015C6_TOTALDAIRY         875\n",
       "HEI2015C7_TOTPROT            875\n",
       "HEI2015C8_SEAPLANT_PROT      875\n",
       "HEI2015C9_FATTYACID          875\n",
       "HEI2015C10_SODIUM            875\n",
       "HEI2015C11_REFINEDGRAIN      875\n",
       "HEI2015C12_SFAT              875\n",
       "HEI2015C13_ADDSUG            875\n",
       "HEI2015_TOTAL_SCORE          875\n",
       "dtype: int64"
      ]
     },
     "execution_count": 69,
     "metadata": {},
     "output_type": "execute_result"
    }
   ],
   "source": [
    "df_pag.isnull().sum()"
   ]
  },
  {
   "cell_type": "code",
   "execution_count": 70,
   "id": "c33cfd1d",
   "metadata": {},
   "outputs": [],
   "source": [
    "# Juntando os dois datasets por meio da coluna SEQN\n",
    "df_full = pd.merge(df_demo, df_pag, how = 'inner', on = 'SEQN')"
   ]
  },
  {
   "cell_type": "code",
   "execution_count": 71,
   "id": "835f1573",
   "metadata": {},
   "outputs": [
    {
     "data": {
      "text/html": [
       "<div>\n",
       "<style scoped>\n",
       "    .dataframe tbody tr th:only-of-type {\n",
       "        vertical-align: middle;\n",
       "    }\n",
       "\n",
       "    .dataframe tbody tr th {\n",
       "        vertical-align: top;\n",
       "    }\n",
       "\n",
       "    .dataframe thead th {\n",
       "        text-align: right;\n",
       "    }\n",
       "</style>\n",
       "<table border=\"1\" class=\"dataframe\">\n",
       "  <thead>\n",
       "    <tr style=\"text-align: right;\">\n",
       "      <th></th>\n",
       "      <th>SEQN</th>\n",
       "      <th>DPQ010</th>\n",
       "      <th>DPQ020</th>\n",
       "      <th>DPQ030</th>\n",
       "      <th>DPQ040</th>\n",
       "      <th>DPQ050</th>\n",
       "      <th>DPQ060</th>\n",
       "      <th>DPQ070</th>\n",
       "      <th>DPQ080</th>\n",
       "      <th>DPQ090</th>\n",
       "      <th>...</th>\n",
       "      <th>HEI2015C5_WHOLEGRAIN</th>\n",
       "      <th>HEI2015C6_TOTALDAIRY</th>\n",
       "      <th>HEI2015C7_TOTPROT</th>\n",
       "      <th>HEI2015C8_SEAPLANT_PROT</th>\n",
       "      <th>HEI2015C9_FATTYACID</th>\n",
       "      <th>HEI2015C10_SODIUM</th>\n",
       "      <th>HEI2015C11_REFINEDGRAIN</th>\n",
       "      <th>HEI2015C12_SFAT</th>\n",
       "      <th>HEI2015C13_ADDSUG</th>\n",
       "      <th>HEI2015_TOTAL_SCORE</th>\n",
       "    </tr>\n",
       "  </thead>\n",
       "  <tbody>\n",
       "    <tr>\n",
       "      <th>0</th>\n",
       "      <td>31130</td>\n",
       "      <td>NaN</td>\n",
       "      <td>NaN</td>\n",
       "      <td>NaN</td>\n",
       "      <td>NaN</td>\n",
       "      <td>NaN</td>\n",
       "      <td>NaN</td>\n",
       "      <td>NaN</td>\n",
       "      <td>NaN</td>\n",
       "      <td>NaN</td>\n",
       "      <td>...</td>\n",
       "      <td>NaN</td>\n",
       "      <td>NaN</td>\n",
       "      <td>NaN</td>\n",
       "      <td>NaN</td>\n",
       "      <td>NaN</td>\n",
       "      <td>NaN</td>\n",
       "      <td>NaN</td>\n",
       "      <td>NaN</td>\n",
       "      <td>NaN</td>\n",
       "      <td>NaN</td>\n",
       "    </tr>\n",
       "    <tr>\n",
       "      <th>1</th>\n",
       "      <td>31131</td>\n",
       "      <td>0.0</td>\n",
       "      <td>0.0</td>\n",
       "      <td>0.0</td>\n",
       "      <td>0.0</td>\n",
       "      <td>0.0</td>\n",
       "      <td>0.0</td>\n",
       "      <td>0.0</td>\n",
       "      <td>0.0</td>\n",
       "      <td>0.0</td>\n",
       "      <td>...</td>\n",
       "      <td>0.000000</td>\n",
       "      <td>3.141062</td>\n",
       "      <td>4.071959</td>\n",
       "      <td>2.052399</td>\n",
       "      <td>0.684985</td>\n",
       "      <td>2.297100</td>\n",
       "      <td>9.512964</td>\n",
       "      <td>0.438428</td>\n",
       "      <td>3.919226</td>\n",
       "      <td>35.553899</td>\n",
       "    </tr>\n",
       "    <tr>\n",
       "      <th>2</th>\n",
       "      <td>31132</td>\n",
       "      <td>0.0</td>\n",
       "      <td>0.0</td>\n",
       "      <td>0.0</td>\n",
       "      <td>0.0</td>\n",
       "      <td>0.0</td>\n",
       "      <td>0.0</td>\n",
       "      <td>0.0</td>\n",
       "      <td>0.0</td>\n",
       "      <td>0.0</td>\n",
       "      <td>...</td>\n",
       "      <td>5.000000</td>\n",
       "      <td>4.448512</td>\n",
       "      <td>5.000000</td>\n",
       "      <td>0.000000</td>\n",
       "      <td>2.050769</td>\n",
       "      <td>7.369489</td>\n",
       "      <td>8.887880</td>\n",
       "      <td>8.186877</td>\n",
       "      <td>9.099088</td>\n",
       "      <td>63.551696</td>\n",
       "    </tr>\n",
       "    <tr>\n",
       "      <th>3</th>\n",
       "      <td>31134</td>\n",
       "      <td>0.0</td>\n",
       "      <td>0.0</td>\n",
       "      <td>0.0</td>\n",
       "      <td>0.0</td>\n",
       "      <td>0.0</td>\n",
       "      <td>0.0</td>\n",
       "      <td>0.0</td>\n",
       "      <td>0.0</td>\n",
       "      <td>0.0</td>\n",
       "      <td>...</td>\n",
       "      <td>2.217331</td>\n",
       "      <td>2.313900</td>\n",
       "      <td>5.000000</td>\n",
       "      <td>1.268648</td>\n",
       "      <td>2.958985</td>\n",
       "      <td>0.000000</td>\n",
       "      <td>5.627488</td>\n",
       "      <td>5.863078</td>\n",
       "      <td>5.878686</td>\n",
       "      <td>42.886826</td>\n",
       "    </tr>\n",
       "    <tr>\n",
       "      <th>4</th>\n",
       "      <td>31139</td>\n",
       "      <td>0.0</td>\n",
       "      <td>0.0</td>\n",
       "      <td>0.0</td>\n",
       "      <td>0.0</td>\n",
       "      <td>3.0</td>\n",
       "      <td>1.0</td>\n",
       "      <td>0.0</td>\n",
       "      <td>0.0</td>\n",
       "      <td>0.0</td>\n",
       "      <td>...</td>\n",
       "      <td>0.211544</td>\n",
       "      <td>0.000000</td>\n",
       "      <td>4.088849</td>\n",
       "      <td>4.221442</td>\n",
       "      <td>10.000000</td>\n",
       "      <td>2.845774</td>\n",
       "      <td>0.000000</td>\n",
       "      <td>10.000000</td>\n",
       "      <td>9.658507</td>\n",
       "      <td>47.074393</td>\n",
       "    </tr>\n",
       "  </tbody>\n",
       "</table>\n",
       "<p>5 rows × 31 columns</p>\n",
       "</div>"
      ],
      "text/plain": [
       "    SEQN  DPQ010  DPQ020  DPQ030  DPQ040  DPQ050  DPQ060  DPQ070  DPQ080  \\\n",
       "0  31130     NaN     NaN     NaN     NaN     NaN     NaN     NaN     NaN   \n",
       "1  31131     0.0     0.0     0.0     0.0     0.0     0.0     0.0     0.0   \n",
       "2  31132     0.0     0.0     0.0     0.0     0.0     0.0     0.0     0.0   \n",
       "3  31134     0.0     0.0     0.0     0.0     0.0     0.0     0.0     0.0   \n",
       "4  31139     0.0     0.0     0.0     0.0     3.0     1.0     0.0     0.0   \n",
       "\n",
       "   DPQ090  ...  HEI2015C5_WHOLEGRAIN  HEI2015C6_TOTALDAIRY  HEI2015C7_TOTPROT  \\\n",
       "0     NaN  ...                   NaN                   NaN                NaN   \n",
       "1     0.0  ...              0.000000              3.141062           4.071959   \n",
       "2     0.0  ...              5.000000              4.448512           5.000000   \n",
       "3     0.0  ...              2.217331              2.313900           5.000000   \n",
       "4     0.0  ...              0.211544              0.000000           4.088849   \n",
       "\n",
       "   HEI2015C8_SEAPLANT_PROT  HEI2015C9_FATTYACID  HEI2015C10_SODIUM  \\\n",
       "0                      NaN                  NaN                NaN   \n",
       "1                 2.052399             0.684985           2.297100   \n",
       "2                 0.000000             2.050769           7.369489   \n",
       "3                 1.268648             2.958985           0.000000   \n",
       "4                 4.221442            10.000000           2.845774   \n",
       "\n",
       "   HEI2015C11_REFINEDGRAIN  HEI2015C12_SFAT  HEI2015C13_ADDSUG  \\\n",
       "0                      NaN              NaN                NaN   \n",
       "1                 9.512964         0.438428           3.919226   \n",
       "2                 8.887880         8.186877           9.099088   \n",
       "3                 5.627488         5.863078           5.878686   \n",
       "4                 0.000000        10.000000           9.658507   \n",
       "\n",
       "   HEI2015_TOTAL_SCORE  \n",
       "0                  NaN  \n",
       "1            35.553899  \n",
       "2            63.551696  \n",
       "3            42.886826  \n",
       "4            47.074393  \n",
       "\n",
       "[5 rows x 31 columns]"
      ]
     },
     "execution_count": 71,
     "metadata": {},
     "output_type": "execute_result"
    }
   ],
   "source": [
    "df_full.head()"
   ]
  },
  {
   "cell_type": "code",
   "execution_count": 72,
   "id": "2fa57a0a",
   "metadata": {},
   "outputs": [
    {
     "data": {
      "text/plain": [
       "(5334, 31)"
      ]
     },
     "execution_count": 72,
     "metadata": {},
     "output_type": "execute_result"
    }
   ],
   "source": [
    "df_full.shape"
   ]
  },
  {
   "cell_type": "code",
   "execution_count": 50,
   "id": "da190f1c",
   "metadata": {},
   "outputs": [
    {
     "name": "stdout",
     "output_type": "stream",
     "text": [
      "<class 'pandas.core.frame.DataFrame'>\n",
      "Int64Index: 5334 entries, 0 to 5333\n",
      "Data columns (total 31 columns):\n",
      " #   Column                    Non-Null Count  Dtype  \n",
      "---  ------                    --------------  -----  \n",
      " 0   SEQN                      5334 non-null   int64  \n",
      " 1   DPQ010                    4836 non-null   float64\n",
      " 2   DPQ020                    4836 non-null   float64\n",
      " 3   DPQ030                    4836 non-null   float64\n",
      " 4   DPQ040                    4836 non-null   float64\n",
      " 5   DPQ050                    4836 non-null   float64\n",
      " 6   DPQ060                    4836 non-null   float64\n",
      " 7   DPQ070                    4836 non-null   float64\n",
      " 8   DPQ080                    4836 non-null   float64\n",
      " 9   DPQ090                    4836 non-null   float64\n",
      " 10  RIAGENDR                  5334 non-null   int64  \n",
      " 11  RIDAGEYR                  5334 non-null   int64  \n",
      " 12  RIDRETH1                  5334 non-null   int64  \n",
      " 13  DMDEDUC                   5334 non-null   int64  \n",
      " 14  INDFMINC                  5287 non-null   float64\n",
      " 15  PAG_MINW                  5334 non-null   float64\n",
      " 16  ADHERENCE                 5334 non-null   float64\n",
      " 17  HEI2015C1_TOTALVEG        5060 non-null   float64\n",
      " 18  HEI2015C2_GREEN_AND_BEAN  5060 non-null   float64\n",
      " 19  HEI2015C3_TOTALFRUIT      5060 non-null   float64\n",
      " 20  HEI2015C4_WHOLEFRUIT      5060 non-null   float64\n",
      " 21  HEI2015C5_WHOLEGRAIN      5060 non-null   float64\n",
      " 22  HEI2015C6_TOTALDAIRY      5060 non-null   float64\n",
      " 23  HEI2015C7_TOTPROT         5060 non-null   float64\n",
      " 24  HEI2015C8_SEAPLANT_PROT   5060 non-null   float64\n",
      " 25  HEI2015C9_FATTYACID       5060 non-null   float64\n",
      " 26  HEI2015C10_SODIUM         5060 non-null   float64\n",
      " 27  HEI2015C11_REFINEDGRAIN   5060 non-null   float64\n",
      " 28  HEI2015C12_SFAT           5060 non-null   float64\n",
      " 29  HEI2015C13_ADDSUG         5060 non-null   float64\n",
      " 30  HEI2015_TOTAL_SCORE       5060 non-null   float64\n",
      "dtypes: float64(26), int64(5)\n",
      "memory usage: 1.3 MB\n"
     ]
    }
   ],
   "source": [
    "df_full.info()"
   ]
  },
  {
   "cell_type": "code",
   "execution_count": 73,
   "id": "5b9e0b02",
   "metadata": {},
   "outputs": [
    {
     "data": {
      "text/plain": [
       "SEQN                          0\n",
       "DPQ010                      498\n",
       "DPQ020                      498\n",
       "DPQ030                      498\n",
       "DPQ040                      498\n",
       "DPQ050                      498\n",
       "DPQ060                      498\n",
       "DPQ070                      498\n",
       "DPQ080                      498\n",
       "DPQ090                      498\n",
       "RIAGENDR                      0\n",
       "RIDAGEYR                      0\n",
       "RIDRETH1                      0\n",
       "DMDEDUC                       0\n",
       "INDFMINC                     47\n",
       "PAG_MINW                      0\n",
       "ADHERENCE                     0\n",
       "HEI2015C1_TOTALVEG          274\n",
       "HEI2015C2_GREEN_AND_BEAN    274\n",
       "HEI2015C3_TOTALFRUIT        274\n",
       "HEI2015C4_WHOLEFRUIT        274\n",
       "HEI2015C5_WHOLEGRAIN        274\n",
       "HEI2015C6_TOTALDAIRY        274\n",
       "HEI2015C7_TOTPROT           274\n",
       "HEI2015C8_SEAPLANT_PROT     274\n",
       "HEI2015C9_FATTYACID         274\n",
       "HEI2015C10_SODIUM           274\n",
       "HEI2015C11_REFINEDGRAIN     274\n",
       "HEI2015C12_SFAT             274\n",
       "HEI2015C13_ADDSUG           274\n",
       "HEI2015_TOTAL_SCORE         274\n",
       "dtype: int64"
      ]
     },
     "execution_count": 73,
     "metadata": {},
     "output_type": "execute_result"
    }
   ],
   "source": [
    "df_full.isnull().sum()"
   ]
  },
  {
   "cell_type": "code",
   "execution_count": 74,
   "id": "9f405c87",
   "metadata": {},
   "outputs": [
    {
     "data": {
      "text/html": [
       "<div>\n",
       "<style scoped>\n",
       "    .dataframe tbody tr th:only-of-type {\n",
       "        vertical-align: middle;\n",
       "    }\n",
       "\n",
       "    .dataframe tbody tr th {\n",
       "        vertical-align: top;\n",
       "    }\n",
       "\n",
       "    .dataframe thead th {\n",
       "        text-align: right;\n",
       "    }\n",
       "</style>\n",
       "<table border=\"1\" class=\"dataframe\">\n",
       "  <thead>\n",
       "    <tr style=\"text-align: right;\">\n",
       "      <th></th>\n",
       "      <th>SEQN</th>\n",
       "      <th>DPQ010</th>\n",
       "      <th>DPQ020</th>\n",
       "      <th>DPQ030</th>\n",
       "      <th>DPQ040</th>\n",
       "      <th>DPQ050</th>\n",
       "      <th>DPQ060</th>\n",
       "      <th>DPQ070</th>\n",
       "      <th>DPQ080</th>\n",
       "      <th>DPQ090</th>\n",
       "      <th>...</th>\n",
       "      <th>HEI2015C5_WHOLEGRAIN</th>\n",
       "      <th>HEI2015C6_TOTALDAIRY</th>\n",
       "      <th>HEI2015C7_TOTPROT</th>\n",
       "      <th>HEI2015C8_SEAPLANT_PROT</th>\n",
       "      <th>HEI2015C9_FATTYACID</th>\n",
       "      <th>HEI2015C10_SODIUM</th>\n",
       "      <th>HEI2015C11_REFINEDGRAIN</th>\n",
       "      <th>HEI2015C12_SFAT</th>\n",
       "      <th>HEI2015C13_ADDSUG</th>\n",
       "      <th>HEI2015_TOTAL_SCORE</th>\n",
       "    </tr>\n",
       "  </thead>\n",
       "  <tbody>\n",
       "    <tr>\n",
       "      <th>0</th>\n",
       "      <td>31130</td>\n",
       "      <td>NaN</td>\n",
       "      <td>NaN</td>\n",
       "      <td>NaN</td>\n",
       "      <td>NaN</td>\n",
       "      <td>NaN</td>\n",
       "      <td>NaN</td>\n",
       "      <td>NaN</td>\n",
       "      <td>NaN</td>\n",
       "      <td>NaN</td>\n",
       "      <td>...</td>\n",
       "      <td>NaN</td>\n",
       "      <td>NaN</td>\n",
       "      <td>NaN</td>\n",
       "      <td>NaN</td>\n",
       "      <td>NaN</td>\n",
       "      <td>NaN</td>\n",
       "      <td>NaN</td>\n",
       "      <td>NaN</td>\n",
       "      <td>NaN</td>\n",
       "      <td>NaN</td>\n",
       "    </tr>\n",
       "    <tr>\n",
       "      <th>1</th>\n",
       "      <td>31131</td>\n",
       "      <td>0.0</td>\n",
       "      <td>0.0</td>\n",
       "      <td>0.0</td>\n",
       "      <td>0.0</td>\n",
       "      <td>0.0</td>\n",
       "      <td>0.0</td>\n",
       "      <td>0.0</td>\n",
       "      <td>0.0</td>\n",
       "      <td>0.0</td>\n",
       "      <td>...</td>\n",
       "      <td>0.000000</td>\n",
       "      <td>3.141062</td>\n",
       "      <td>4.071959</td>\n",
       "      <td>2.052399</td>\n",
       "      <td>0.684985</td>\n",
       "      <td>2.297100</td>\n",
       "      <td>9.512964</td>\n",
       "      <td>0.438428</td>\n",
       "      <td>3.919226</td>\n",
       "      <td>35.553899</td>\n",
       "    </tr>\n",
       "    <tr>\n",
       "      <th>2</th>\n",
       "      <td>31132</td>\n",
       "      <td>0.0</td>\n",
       "      <td>0.0</td>\n",
       "      <td>0.0</td>\n",
       "      <td>0.0</td>\n",
       "      <td>0.0</td>\n",
       "      <td>0.0</td>\n",
       "      <td>0.0</td>\n",
       "      <td>0.0</td>\n",
       "      <td>0.0</td>\n",
       "      <td>...</td>\n",
       "      <td>5.000000</td>\n",
       "      <td>4.448512</td>\n",
       "      <td>5.000000</td>\n",
       "      <td>0.000000</td>\n",
       "      <td>2.050769</td>\n",
       "      <td>7.369489</td>\n",
       "      <td>8.887880</td>\n",
       "      <td>8.186877</td>\n",
       "      <td>9.099088</td>\n",
       "      <td>63.551696</td>\n",
       "    </tr>\n",
       "    <tr>\n",
       "      <th>3</th>\n",
       "      <td>31134</td>\n",
       "      <td>0.0</td>\n",
       "      <td>0.0</td>\n",
       "      <td>0.0</td>\n",
       "      <td>0.0</td>\n",
       "      <td>0.0</td>\n",
       "      <td>0.0</td>\n",
       "      <td>0.0</td>\n",
       "      <td>0.0</td>\n",
       "      <td>0.0</td>\n",
       "      <td>...</td>\n",
       "      <td>2.217331</td>\n",
       "      <td>2.313900</td>\n",
       "      <td>5.000000</td>\n",
       "      <td>1.268648</td>\n",
       "      <td>2.958985</td>\n",
       "      <td>0.000000</td>\n",
       "      <td>5.627488</td>\n",
       "      <td>5.863078</td>\n",
       "      <td>5.878686</td>\n",
       "      <td>42.886826</td>\n",
       "    </tr>\n",
       "    <tr>\n",
       "      <th>4</th>\n",
       "      <td>31139</td>\n",
       "      <td>0.0</td>\n",
       "      <td>0.0</td>\n",
       "      <td>0.0</td>\n",
       "      <td>0.0</td>\n",
       "      <td>3.0</td>\n",
       "      <td>1.0</td>\n",
       "      <td>0.0</td>\n",
       "      <td>0.0</td>\n",
       "      <td>0.0</td>\n",
       "      <td>...</td>\n",
       "      <td>0.211544</td>\n",
       "      <td>0.000000</td>\n",
       "      <td>4.088849</td>\n",
       "      <td>4.221442</td>\n",
       "      <td>10.000000</td>\n",
       "      <td>2.845774</td>\n",
       "      <td>0.000000</td>\n",
       "      <td>10.000000</td>\n",
       "      <td>9.658507</td>\n",
       "      <td>47.074393</td>\n",
       "    </tr>\n",
       "  </tbody>\n",
       "</table>\n",
       "<p>5 rows × 31 columns</p>\n",
       "</div>"
      ],
      "text/plain": [
       "    SEQN  DPQ010  DPQ020  DPQ030  DPQ040  DPQ050  DPQ060  DPQ070  DPQ080  \\\n",
       "0  31130     NaN     NaN     NaN     NaN     NaN     NaN     NaN     NaN   \n",
       "1  31131     0.0     0.0     0.0     0.0     0.0     0.0     0.0     0.0   \n",
       "2  31132     0.0     0.0     0.0     0.0     0.0     0.0     0.0     0.0   \n",
       "3  31134     0.0     0.0     0.0     0.0     0.0     0.0     0.0     0.0   \n",
       "4  31139     0.0     0.0     0.0     0.0     3.0     1.0     0.0     0.0   \n",
       "\n",
       "   DPQ090  ...  HEI2015C5_WHOLEGRAIN  HEI2015C6_TOTALDAIRY  HEI2015C7_TOTPROT  \\\n",
       "0     NaN  ...                   NaN                   NaN                NaN   \n",
       "1     0.0  ...              0.000000              3.141062           4.071959   \n",
       "2     0.0  ...              5.000000              4.448512           5.000000   \n",
       "3     0.0  ...              2.217331              2.313900           5.000000   \n",
       "4     0.0  ...              0.211544              0.000000           4.088849   \n",
       "\n",
       "   HEI2015C8_SEAPLANT_PROT  HEI2015C9_FATTYACID  HEI2015C10_SODIUM  \\\n",
       "0                      NaN                  NaN                NaN   \n",
       "1                 2.052399             0.684985           2.297100   \n",
       "2                 0.000000             2.050769           7.369489   \n",
       "3                 1.268648             2.958985           0.000000   \n",
       "4                 4.221442            10.000000           2.845774   \n",
       "\n",
       "   HEI2015C11_REFINEDGRAIN  HEI2015C12_SFAT  HEI2015C13_ADDSUG  \\\n",
       "0                      NaN              NaN                NaN   \n",
       "1                 9.512964         0.438428           3.919226   \n",
       "2                 8.887880         8.186877           9.099088   \n",
       "3                 5.627488         5.863078           5.878686   \n",
       "4                 0.000000        10.000000           9.658507   \n",
       "\n",
       "   HEI2015_TOTAL_SCORE  \n",
       "0                  NaN  \n",
       "1            35.553899  \n",
       "2            63.551696  \n",
       "3            42.886826  \n",
       "4            47.074393  \n",
       "\n",
       "[5 rows x 31 columns]"
      ]
     },
     "execution_count": 74,
     "metadata": {},
     "output_type": "execute_result"
    }
   ],
   "source": [
    "df_full_dropado = df_full\n",
    "df_full_dropado.head()"
   ]
  },
  {
   "cell_type": "code",
   "execution_count": 75,
   "id": "a027ca64",
   "metadata": {},
   "outputs": [
    {
     "name": "stdout",
     "output_type": "stream",
     "text": [
      "<class 'pandas.core.frame.DataFrame'>\n",
      "Int64Index: 5334 entries, 0 to 5333\n",
      "Data columns (total 31 columns):\n",
      " #   Column                    Non-Null Count  Dtype  \n",
      "---  ------                    --------------  -----  \n",
      " 0   SEQN                      5334 non-null   int64  \n",
      " 1   DPQ010                    4836 non-null   float64\n",
      " 2   DPQ020                    4836 non-null   float64\n",
      " 3   DPQ030                    4836 non-null   float64\n",
      " 4   DPQ040                    4836 non-null   float64\n",
      " 5   DPQ050                    4836 non-null   float64\n",
      " 6   DPQ060                    4836 non-null   float64\n",
      " 7   DPQ070                    4836 non-null   float64\n",
      " 8   DPQ080                    4836 non-null   float64\n",
      " 9   DPQ090                    4836 non-null   float64\n",
      " 10  RIAGENDR                  5334 non-null   int64  \n",
      " 11  RIDAGEYR                  5334 non-null   int64  \n",
      " 12  RIDRETH1                  5334 non-null   int64  \n",
      " 13  DMDEDUC                   5334 non-null   int64  \n",
      " 14  INDFMINC                  5287 non-null   float64\n",
      " 15  PAG_MINW                  5334 non-null   float64\n",
      " 16  ADHERENCE                 5334 non-null   float64\n",
      " 17  HEI2015C1_TOTALVEG        5060 non-null   float64\n",
      " 18  HEI2015C2_GREEN_AND_BEAN  5060 non-null   float64\n",
      " 19  HEI2015C3_TOTALFRUIT      5060 non-null   float64\n",
      " 20  HEI2015C4_WHOLEFRUIT      5060 non-null   float64\n",
      " 21  HEI2015C5_WHOLEGRAIN      5060 non-null   float64\n",
      " 22  HEI2015C6_TOTALDAIRY      5060 non-null   float64\n",
      " 23  HEI2015C7_TOTPROT         5060 non-null   float64\n",
      " 24  HEI2015C8_SEAPLANT_PROT   5060 non-null   float64\n",
      " 25  HEI2015C9_FATTYACID       5060 non-null   float64\n",
      " 26  HEI2015C10_SODIUM         5060 non-null   float64\n",
      " 27  HEI2015C11_REFINEDGRAIN   5060 non-null   float64\n",
      " 28  HEI2015C12_SFAT           5060 non-null   float64\n",
      " 29  HEI2015C13_ADDSUG         5060 non-null   float64\n",
      " 30  HEI2015_TOTAL_SCORE       5060 non-null   float64\n",
      "dtypes: float64(26), int64(5)\n",
      "memory usage: 1.3 MB\n"
     ]
    }
   ],
   "source": [
    "df_full_dropado.info()"
   ]
  },
  {
   "cell_type": "code",
   "execution_count": 55,
   "id": "c0e47502",
   "metadata": {},
   "outputs": [],
   "source": [
    "#df_full_dropado.drop([\"Avery Bradley\", \"John Holland\", \"R.J. Hunter\", \"R.J. Hunter\"], inplace=True)\n",
    "\n",
    "#df_full_dropado[\"DPQ010\"] = ( df_full_dropado[\"DPQ010\"] != 7 || df_full_dropado[\"DPQ010\"] != 9)\n",
    "\n",
    "#df_full_dropado.drop([\"DPQ010\"] == 7 || [\"DPQ010\"] == 9, inplace=True)\n",
    "#df_full_dropado.drop( 7, 9, 77, 99, inplace=True)\n",
    "#df_full_dropado.info()"
   ]
  },
  {
   "cell_type": "code",
   "execution_count": 77,
   "id": "d696d812",
   "metadata": {},
   "outputs": [],
   "source": [
    "\n",
    "df_full_dropado.loc[((df_full_dropado.DPQ010 == 7) | (df_full_dropado.DPQ010 == 9)), ['DPQ010']] = np.nan\n",
    "df_full_dropado.loc[((df_full_dropado.DPQ020 == 7) | (df_full_dropado.DPQ020 == 9)), ['DPQ020']] = np.nan\n",
    "df_full_dropado.loc[((df_full_dropado.DPQ030 == 7) | (df_full_dropado.DPQ030 == 9)), ['DPQ030']] = np.nan\n",
    "df_full_dropado.loc[((df_full_dropado.DPQ040 == 7) | (df_full_dropado.DPQ040 == 9)), ['DPQ040']] = np.nan\n",
    "df_full_dropado.loc[((df_full_dropado.DPQ050 == 7) | (df_full_dropado.DPQ050 == 9)), ['DPQ050']] = np.nan\n",
    "df_full_dropado.loc[((df_full_dropado.DPQ060 == 7) | (df_full_dropado.DPQ060 == 9)), ['DPQ060']] = np.nan\n",
    "df_full_dropado.loc[((df_full_dropado.DPQ070 == 7) | (df_full_dropado.DPQ070 == 9)), ['DPQ070']] = np.nan\n",
    "df_full_dropado.loc[((df_full_dropado.DPQ080 == 7) | (df_full_dropado.DPQ080 == 9)), ['DPQ080']] = np.nan\n",
    "df_full_dropado.loc[((df_full_dropado.DPQ090 == 7) | (df_full_dropado.DPQ090 == 9)), ['DPQ090']] = np.nan\n",
    "df_full_dropado.loc[((df_full_dropado.DMDEDUC == 7) | (df_full_dropado.DMDEDUC == 9)), ['DMDEDUC']] = np.nan\n",
    "df_full_dropado.loc[((df_full_dropado.INDFMINC== 77) | (df_full_dropado.INDFMINC == 99)), ['INDFMINC']] = np.nan"
   ]
  },
  {
   "cell_type": "code",
   "execution_count": 78,
   "id": "c849d6c7",
   "metadata": {},
   "outputs": [
    {
     "data": {
      "text/plain": [
       "SEQN                          0\n",
       "DPQ010                      507\n",
       "DPQ020                      503\n",
       "DPQ030                      505\n",
       "DPQ040                      503\n",
       "DPQ050                      502\n",
       "DPQ060                      503\n",
       "DPQ070                      502\n",
       "DPQ080                      507\n",
       "DPQ090                      500\n",
       "RIAGENDR                      0\n",
       "RIDAGEYR                      0\n",
       "RIDRETH1                      0\n",
       "DMDEDUC                       8\n",
       "INDFMINC                    160\n",
       "PAG_MINW                      0\n",
       "ADHERENCE                     0\n",
       "HEI2015C1_TOTALVEG          274\n",
       "HEI2015C2_GREEN_AND_BEAN    274\n",
       "HEI2015C3_TOTALFRUIT        274\n",
       "HEI2015C4_WHOLEFRUIT        274\n",
       "HEI2015C5_WHOLEGRAIN        274\n",
       "HEI2015C6_TOTALDAIRY        274\n",
       "HEI2015C7_TOTPROT           274\n",
       "HEI2015C8_SEAPLANT_PROT     274\n",
       "HEI2015C9_FATTYACID         274\n",
       "HEI2015C10_SODIUM           274\n",
       "HEI2015C11_REFINEDGRAIN     274\n",
       "HEI2015C12_SFAT             274\n",
       "HEI2015C13_ADDSUG           274\n",
       "HEI2015_TOTAL_SCORE         274\n",
       "dtype: int64"
      ]
     },
     "execution_count": 78,
     "metadata": {},
     "output_type": "execute_result"
    }
   ],
   "source": [
    "df_full_dropado.isnull().sum()"
   ]
  },
  {
   "cell_type": "code",
   "execution_count": 80,
   "id": "530d3ea9",
   "metadata": {},
   "outputs": [],
   "source": [
    "df_full_dropado = df_full_dropado.dropna()"
   ]
  },
  {
   "cell_type": "code",
   "execution_count": 81,
   "id": "3e154750",
   "metadata": {},
   "outputs": [
    {
     "name": "stdout",
     "output_type": "stream",
     "text": [
      "<class 'pandas.core.frame.DataFrame'>\n",
      "Int64Index: 4592 entries, 1 to 5333\n",
      "Data columns (total 31 columns):\n",
      " #   Column                    Non-Null Count  Dtype  \n",
      "---  ------                    --------------  -----  \n",
      " 0   SEQN                      4592 non-null   int64  \n",
      " 1   DPQ010                    4592 non-null   float64\n",
      " 2   DPQ020                    4592 non-null   float64\n",
      " 3   DPQ030                    4592 non-null   float64\n",
      " 4   DPQ040                    4592 non-null   float64\n",
      " 5   DPQ050                    4592 non-null   float64\n",
      " 6   DPQ060                    4592 non-null   float64\n",
      " 7   DPQ070                    4592 non-null   float64\n",
      " 8   DPQ080                    4592 non-null   float64\n",
      " 9   DPQ090                    4592 non-null   float64\n",
      " 10  RIAGENDR                  4592 non-null   int64  \n",
      " 11  RIDAGEYR                  4592 non-null   int64  \n",
      " 12  RIDRETH1                  4592 non-null   int64  \n",
      " 13  DMDEDUC                   4592 non-null   float64\n",
      " 14  INDFMINC                  4592 non-null   float64\n",
      " 15  PAG_MINW                  4592 non-null   float64\n",
      " 16  ADHERENCE                 4592 non-null   float64\n",
      " 17  HEI2015C1_TOTALVEG        4592 non-null   float64\n",
      " 18  HEI2015C2_GREEN_AND_BEAN  4592 non-null   float64\n",
      " 19  HEI2015C3_TOTALFRUIT      4592 non-null   float64\n",
      " 20  HEI2015C4_WHOLEFRUIT      4592 non-null   float64\n",
      " 21  HEI2015C5_WHOLEGRAIN      4592 non-null   float64\n",
      " 22  HEI2015C6_TOTALDAIRY      4592 non-null   float64\n",
      " 23  HEI2015C7_TOTPROT         4592 non-null   float64\n",
      " 24  HEI2015C8_SEAPLANT_PROT   4592 non-null   float64\n",
      " 25  HEI2015C9_FATTYACID       4592 non-null   float64\n",
      " 26  HEI2015C10_SODIUM         4592 non-null   float64\n",
      " 27  HEI2015C11_REFINEDGRAIN   4592 non-null   float64\n",
      " 28  HEI2015C12_SFAT           4592 non-null   float64\n",
      " 29  HEI2015C13_ADDSUG         4592 non-null   float64\n",
      " 30  HEI2015_TOTAL_SCORE       4592 non-null   float64\n",
      "dtypes: float64(27), int64(4)\n",
      "memory usage: 1.1 MB\n"
     ]
    }
   ],
   "source": [
    "df_full_dropado.info()"
   ]
  },
  {
   "cell_type": "code",
   "execution_count": 82,
   "id": "c88f2d0a",
   "metadata": {},
   "outputs": [
    {
     "data": {
      "text/plain": [
       "SEQN                        0\n",
       "DPQ010                      0\n",
       "DPQ020                      0\n",
       "DPQ030                      0\n",
       "DPQ040                      0\n",
       "DPQ050                      0\n",
       "DPQ060                      0\n",
       "DPQ070                      0\n",
       "DPQ080                      0\n",
       "DPQ090                      0\n",
       "RIAGENDR                    0\n",
       "RIDAGEYR                    0\n",
       "RIDRETH1                    0\n",
       "DMDEDUC                     0\n",
       "INDFMINC                    0\n",
       "PAG_MINW                    0\n",
       "ADHERENCE                   0\n",
       "HEI2015C1_TOTALVEG          0\n",
       "HEI2015C2_GREEN_AND_BEAN    0\n",
       "HEI2015C3_TOTALFRUIT        0\n",
       "HEI2015C4_WHOLEFRUIT        0\n",
       "HEI2015C5_WHOLEGRAIN        0\n",
       "HEI2015C6_TOTALDAIRY        0\n",
       "HEI2015C7_TOTPROT           0\n",
       "HEI2015C8_SEAPLANT_PROT     0\n",
       "HEI2015C9_FATTYACID         0\n",
       "HEI2015C10_SODIUM           0\n",
       "HEI2015C11_REFINEDGRAIN     0\n",
       "HEI2015C12_SFAT             0\n",
       "HEI2015C13_ADDSUG           0\n",
       "HEI2015_TOTAL_SCORE         0\n",
       "dtype: int64"
      ]
     },
     "execution_count": 82,
     "metadata": {},
     "output_type": "execute_result"
    }
   ],
   "source": [
    "df_full_dropado.isnull().sum()"
   ]
  },
  {
   "cell_type": "code",
   "execution_count": 20,
   "id": "9f1053cc",
   "metadata": {},
   "outputs": [
    {
     "data": {
      "text/plain": [
       "SEQN                        0.00\n",
       "DPQ010                      9.34\n",
       "DPQ020                      9.34\n",
       "DPQ030                      9.34\n",
       "DPQ040                      9.34\n",
       "DPQ050                      9.34\n",
       "DPQ060                      9.34\n",
       "DPQ070                      9.34\n",
       "DPQ080                      9.34\n",
       "DPQ090                      9.34\n",
       "RIAGENDR                    0.00\n",
       "RIDAGEYR                    0.00\n",
       "RIDRETH1                    0.00\n",
       "DMDEDUC                     0.00\n",
       "INDFMINC                    0.88\n",
       "PAG_MINW                    0.00\n",
       "ADHERENCE                   0.00\n",
       "HEI2015C1_TOTALVEG          5.14\n",
       "HEI2015C2_GREEN_AND_BEAN    5.14\n",
       "HEI2015C3_TOTALFRUIT        5.14\n",
       "HEI2015C4_WHOLEFRUIT        5.14\n",
       "HEI2015C5_WHOLEGRAIN        5.14\n",
       "HEI2015C6_TOTALDAIRY        5.14\n",
       "HEI2015C7_TOTPROT           5.14\n",
       "HEI2015C8_SEAPLANT_PROT     5.14\n",
       "HEI2015C9_FATTYACID         5.14\n",
       "HEI2015C10_SODIUM           5.14\n",
       "HEI2015C11_REFINEDGRAIN     5.14\n",
       "HEI2015C12_SFAT             5.14\n",
       "HEI2015C13_ADDSUG           5.14\n",
       "HEI2015_TOTAL_SCORE         5.14\n",
       "dtype: float64"
      ]
     },
     "execution_count": 20,
     "metadata": {},
     "output_type": "execute_result"
    }
   ],
   "source": [
    "#Avaliando o percentual de casos faltantes (missing):\n",
    "#df_full.isnull().mean().round(4)*100"
   ]
  },
  {
   "cell_type": "markdown",
   "id": "f922903e",
   "metadata": {},
   "source": [
    "## EDA: Análise univariada"
   ]
  },
  {
   "cell_type": "code",
   "execution_count": 264,
   "id": "f8153628",
   "metadata": {},
   "outputs": [
    {
     "data": {
      "text/plain": [
       "RIAGENDR\n",
       "1           2561\n",
       "2           2773\n",
       "dtype: int64"
      ]
     },
     "execution_count": 264,
     "metadata": {},
     "output_type": "execute_result"
    }
   ],
   "source": [
    "#Gênero\n",
    "# 1 = Masculino\n",
    "# 2 = Feminino\n",
    "\n",
    "df_full[[\"RIAGENDR\"]].value_counts(sort = False)"
   ]
  },
  {
   "cell_type": "code",
   "execution_count": 265,
   "id": "33927143",
   "metadata": {},
   "outputs": [
    {
     "data": {
      "text/plain": [
       "RIDAGEYR\n",
       "18          301\n",
       "19          260\n",
       "20           95\n",
       "21           99\n",
       "22          105\n",
       "           ... \n",
       "81           55\n",
       "82           41\n",
       "83           39\n",
       "84           33\n",
       "85          148\n",
       "Length: 68, dtype: int64"
      ]
     },
     "execution_count": 265,
     "metadata": {},
     "output_type": "execute_result"
    }
   ],
   "source": [
    "#Idade em anos\n",
    "df_full[[\"RIDAGEYR\"]].value_counts(sort = False)"
   ]
  },
  {
   "cell_type": "code",
   "execution_count": 266,
   "id": "0b799eef",
   "metadata": {},
   "outputs": [
    {
     "data": {
      "text/plain": [
       "RIDRETH1\n",
       "1           1133\n",
       "2            164\n",
       "3           2516\n",
       "4           1300\n",
       "5            221\n",
       "dtype: int64"
      ]
     },
     "execution_count": 266,
     "metadata": {},
     "output_type": "execute_result"
    }
   ],
   "source": [
    "#Raça/Etnia\n",
    "# RIDRETH1 com códigos errados no desafio\n",
    "# 1\tMexican American\t\n",
    "# 2\tOther Hispanic\n",
    "# 3\tNon-Hispanic White\t\n",
    "# 4\tNon-Hispanic Black\t\n",
    "# 5\tOther Race - Including Multi-Racial\n",
    "\n",
    "df_full[[\"RIDRETH1\"]].value_counts(sort = False)"
   ]
  },
  {
   "cell_type": "code",
   "execution_count": 267,
   "id": "6646320f",
   "metadata": {},
   "outputs": [
    {
     "data": {
      "text/plain": [
       "DMDEDUC\n",
       "1           618\n",
       "2           936\n",
       "3          1335\n",
       "4          1498\n",
       "5           939\n",
       "7             4\n",
       "9             4\n",
       "dtype: int64"
      ]
     },
     "execution_count": 267,
     "metadata": {},
     "output_type": "execute_result"
    }
   ],
   "source": [
    "#Escolaridade\n",
    "# 1 = Menor que 9o ano\n",
    "# 2 = 9-12o ano\n",
    "# 3 = Ensino médio\n",
    "# 4 = Ensino superior incompleto\n",
    "# 5 = Superior completo ou maior\n",
    "# 7 = Se recusou a responder\n",
    "# 9 = Não sabe\n",
    "\n",
    "df_full[[\"DMDEDUC\"]].value_counts(sort = False)"
   ]
  },
  {
   "cell_type": "code",
   "execution_count": 268,
   "id": "14f855d0",
   "metadata": {},
   "outputs": [
    {
     "data": {
      "text/plain": [
       "INDFMINC\n",
       "1.0          190\n",
       "2.0          281\n",
       "3.0          440\n",
       "4.0          412\n",
       "5.0          426\n",
       "6.0          678\n",
       "7.0          535\n",
       "8.0          485\n",
       "9.0          297\n",
       "10.0         278\n",
       "11.0        1044\n",
       "12.0          78\n",
       "13.0          30\n",
       "77.0          36\n",
       "99.0          77\n",
       "dtype: int64"
      ]
     },
     "execution_count": 268,
     "metadata": {},
     "output_type": "execute_result"
    }
   ],
   "source": [
    "#Renda anual familiar (US$)\n",
    "# 1 = 0-4999\n",
    "# 2 - 5000-9999\n",
    "# 3 = 10000-14999\n",
    "# 4 = 15000-19999\n",
    "# 5 = 20000-24999\n",
    "# 6 = 25000-34999\n",
    "# 7 = 35000-44999\n",
    "# 8 = 45000-54999\n",
    "# 9 = 55000-64999\n",
    "# 10 = 65000-74999\n",
    "# 11 = Maior ou igual a 75000\n",
    "# 12 = Maior que 20000\n",
    "# 13 = Menor que 20000\n",
    "# 77 = Se recusou a responder\n",
    "# 99 = Não sabe\n",
    "\n",
    "df_full[['INDFMINC']].value_counts(sort = False)"
   ]
  },
  {
   "cell_type": "code",
   "execution_count": 269,
   "id": "4d2da452",
   "metadata": {},
   "outputs": [
    {
     "data": {
      "text/plain": [
       "ADHERENCE\n",
       "1.0          2304\n",
       "2.0           834\n",
       "3.0          2196\n",
       "dtype: int64"
      ]
     },
     "execution_count": 269,
     "metadata": {},
     "output_type": "execute_result"
    }
   ],
   "source": [
    "#Grupo de aderência ao Physical Activity Guideline(PAG)\n",
    "# 1 = Baixo (< 150 min/semana)\n",
    "# 2 = Adequado (150-300 min/semana)\n",
    "# 3 = Acima (> 300 min/semana)\n",
    "\n",
    "df_full[[\"ADHERENCE\"]].value_counts(sort = False)"
   ]
  },
  {
   "cell_type": "code",
   "execution_count": 270,
   "id": "9ffcf5b9",
   "metadata": {},
   "outputs": [
    {
     "data": {
      "text/plain": [
       "HEI2015_TOTAL_SCORE\n",
       "16.059212              1\n",
       "16.491305              1\n",
       "17.005719              1\n",
       "18.495379              1\n",
       "18.808762              1\n",
       "                      ..\n",
       "85.848198              1\n",
       "86.109332              1\n",
       "86.299717              1\n",
       "87.169137              1\n",
       "89.529383              1\n",
       "Length: 5058, dtype: int64"
      ]
     },
     "execution_count": 270,
     "metadata": {},
     "output_type": "execute_result"
    }
   ],
   "source": [
    "#Healthy Eating Index - Escore total\n",
    "#VALORES DE 0 - 100\n",
    "\n",
    "df_full[[\"HEI2015_TOTAL_SCORE\"]].value_counts(sort = False)"
   ]
  },
  {
   "cell_type": "code",
   "execution_count": 271,
   "id": "f4c5f821",
   "metadata": {},
   "outputs": [],
   "source": [
    "# Criando um novo df para fazer as manipulação a partir de agora.\n",
    "\n",
    "df_full2 = df_full"
   ]
  },
  {
   "cell_type": "code",
   "execution_count": 272,
   "id": "49b33073",
   "metadata": {},
   "outputs": [
    {
     "data": {
      "text/plain": [
       "SEQN                          int64\n",
       "DPQ010                      float64\n",
       "DPQ020                      float64\n",
       "DPQ030                      float64\n",
       "DPQ040                      float64\n",
       "DPQ050                      float64\n",
       "DPQ060                      float64\n",
       "DPQ070                      float64\n",
       "DPQ080                      float64\n",
       "DPQ090                      float64\n",
       "RIAGENDR                      int64\n",
       "RIDAGEYR                      int64\n",
       "RIDRETH1                      int64\n",
       "DMDEDUC                     float64\n",
       "INDFMINC                    float64\n",
       "PAG_MINW                    float64\n",
       "ADHERENCE                   float64\n",
       "HEI2015C1_TOTALVEG          float64\n",
       "HEI2015C2_GREEN_AND_BEAN    float64\n",
       "HEI2015C3_TOTALFRUIT        float64\n",
       "HEI2015C4_WHOLEFRUIT        float64\n",
       "HEI2015C5_WHOLEGRAIN        float64\n",
       "HEI2015C6_TOTALDAIRY        float64\n",
       "HEI2015C7_TOTPROT           float64\n",
       "HEI2015C8_SEAPLANT_PROT     float64\n",
       "HEI2015C9_FATTYACID         float64\n",
       "HEI2015C10_SODIUM           float64\n",
       "HEI2015C11_REFINEDGRAIN     float64\n",
       "HEI2015C12_SFAT             float64\n",
       "HEI2015C13_ADDSUG           float64\n",
       "HEI2015_TOTAL_SCORE         float64\n",
       "dtype: object"
      ]
     },
     "execution_count": 272,
     "metadata": {},
     "output_type": "execute_result"
    }
   ],
   "source": [
    "#Transformando valores das colunas desejadas em NAN\n",
    "\n",
    "df_full2.loc[((df_full2.DPQ010 == 7) | (df_full2.DPQ010 == 9)), ['DPQ010']] = np.nan\n",
    "df_full2.loc[((df_full2.DPQ020 == 7) | (df_full2.DPQ020 == 9)), ['DPQ020']] = np.nan\n",
    "df_full2.loc[((df_full2.DPQ030 == 7) | (df_full2.DPQ030 == 9)), ['DPQ030']] = np.nan\n",
    "df_full2.loc[((df_full2.DPQ040 == 7) | (df_full2.DPQ040 == 9)), ['DPQ040']] = np.nan\n",
    "df_full2.loc[((df_full2.DPQ050 == 7) | (df_full2.DPQ050 == 9)), ['DPQ050']] = np.nan\n",
    "df_full2.loc[((df_full2.DPQ060 == 7) | (df_full2.DPQ060 == 9)), ['DPQ060']] = np.nan\n",
    "df_full2.loc[((df_full2.DPQ070 == 7) | (df_full2.DPQ070 == 9)), ['DPQ070']] = np.nan\n",
    "df_full2.loc[((df_full2.DPQ080 == 7) | (df_full2.DPQ080 == 9)), ['DPQ080']] = np.nan\n",
    "df_full2.loc[((df_full2.DPQ090 == 7) | (df_full2.DPQ090 == 9)), ['DPQ090']] = np.nan\n",
    "df_full2.loc[((df_full2.DMDEDUC == 7) | (df_full2.DMDEDUC == 9)), ['DMDEDUC']] = np.nan\n",
    "df_full2.loc[((df_full2.INDFMINC== 77) | (df_full2.INDFMINC == 99)), ['INDFMINC']] = np.nan\n",
    "\n",
    "df_full2.dtypes"
   ]
  },
  {
   "cell_type": "code",
   "execution_count": 273,
   "id": "3f62c1df",
   "metadata": {},
   "outputs": [],
   "source": [
    "#Renda anual familiar (US$)\n",
    "# Opitarei por realocar os valores das categorias 12 e 13, visto que os valores já estão contidos em outras categorias,\n",
    "# tornando as duas redundantes. Considero que dá forma que está apresentado, ficou um pouco confuso.\n",
    "\n",
    "# Reagrupando Renda anual familiar (US$):\n",
    "# 1 = 0-4999 \n",
    "# 2 = 5000-9999\n",
    "# 3 = 10000-14999\n",
    "# 4 = 15000-19999 + 13 = Menor que 20000\n",
    "# 5 = 20000-24999 + 12 = Maior que 20000\n",
    "# 6 = 25000-34999\n",
    "# 7 = 35000-44999\n",
    "# 8 = 45000-54999\n",
    "# 9 = 55000-64999\n",
    "# 10 = 65000-74999\n",
    "# 11 = Maior ou igual a 75000\n",
    "# 77 = Se recusou a responder\n",
    "# 99 = Não sabe\n",
    "\n",
    "def grupo_renda(x):     \n",
    "    \n",
    "    if x == 1:\n",
    "        x = 1\n",
    "    if x == 2:\n",
    "        x = 2\n",
    "    if x == 3:\n",
    "        x = 3\n",
    "    if x == 4:\n",
    "        x = 4\n",
    "    if x == 5:\n",
    "        x = 5\n",
    "    if x == 6:\n",
    "        x = 6\n",
    "    if x == 7:\n",
    "        x = 7\n",
    "    if x == 8:\n",
    "        x = 8\n",
    "    if x == 9:\n",
    "        x = 9\n",
    "    if x == 10:\n",
    "        x = 10\n",
    "    if x == 12:\n",
    "        x = 5\n",
    "    if x == 13:\n",
    "        x = 4\n",
    "    return x\n",
    "        \n",
    "df_full2['INDFMINC'] = df_full2['INDFMINC'].apply(lambda x: grupo_renda(x)) "
   ]
  },
  {
   "cell_type": "code",
   "execution_count": 274,
   "id": "9a078910",
   "metadata": {},
   "outputs": [
    {
     "data": {
      "text/plain": [
       "INDFMINC\n",
       "1.0          190\n",
       "2.0          281\n",
       "3.0          440\n",
       "4.0          442\n",
       "5.0          504\n",
       "6.0          678\n",
       "7.0          535\n",
       "8.0          485\n",
       "9.0          297\n",
       "10.0         278\n",
       "11.0        1044\n",
       "dtype: int64"
      ]
     },
     "execution_count": 274,
     "metadata": {},
     "output_type": "execute_result"
    }
   ],
   "source": [
    "#Renda reagrupada\n",
    "df_full2[['INDFMINC']].value_counts(sort = False)"
   ]
  },
  {
   "cell_type": "code",
   "execution_count": 275,
   "id": "308e02cf",
   "metadata": {},
   "outputs": [
    {
     "data": {
      "text/html": [
       "<div>\n",
       "<style scoped>\n",
       "    .dataframe tbody tr th:only-of-type {\n",
       "        vertical-align: middle;\n",
       "    }\n",
       "\n",
       "    .dataframe tbody tr th {\n",
       "        vertical-align: top;\n",
       "    }\n",
       "\n",
       "    .dataframe thead th {\n",
       "        text-align: right;\n",
       "    }\n",
       "</style>\n",
       "<table border=\"1\" class=\"dataframe\">\n",
       "  <thead>\n",
       "    <tr style=\"text-align: right;\">\n",
       "      <th></th>\n",
       "      <th>DPQ010</th>\n",
       "      <th>DPQ020</th>\n",
       "      <th>DPQ030</th>\n",
       "      <th>DPQ040</th>\n",
       "      <th>DPQ050</th>\n",
       "      <th>DPQ060</th>\n",
       "      <th>DPQ070</th>\n",
       "      <th>DPQ080</th>\n",
       "      <th>DPQ090</th>\n",
       "      <th>phq9</th>\n",
       "    </tr>\n",
       "  </thead>\n",
       "  <tbody>\n",
       "    <tr>\n",
       "      <th>0</th>\n",
       "      <td>NaN</td>\n",
       "      <td>NaN</td>\n",
       "      <td>NaN</td>\n",
       "      <td>NaN</td>\n",
       "      <td>NaN</td>\n",
       "      <td>NaN</td>\n",
       "      <td>NaN</td>\n",
       "      <td>NaN</td>\n",
       "      <td>NaN</td>\n",
       "      <td>NaN</td>\n",
       "    </tr>\n",
       "    <tr>\n",
       "      <th>1</th>\n",
       "      <td>0.0</td>\n",
       "      <td>0.0</td>\n",
       "      <td>0.0</td>\n",
       "      <td>0.0</td>\n",
       "      <td>0.0</td>\n",
       "      <td>0.0</td>\n",
       "      <td>0.0</td>\n",
       "      <td>0.0</td>\n",
       "      <td>0.0</td>\n",
       "      <td>0.0</td>\n",
       "    </tr>\n",
       "    <tr>\n",
       "      <th>2</th>\n",
       "      <td>0.0</td>\n",
       "      <td>0.0</td>\n",
       "      <td>0.0</td>\n",
       "      <td>0.0</td>\n",
       "      <td>0.0</td>\n",
       "      <td>0.0</td>\n",
       "      <td>0.0</td>\n",
       "      <td>0.0</td>\n",
       "      <td>0.0</td>\n",
       "      <td>0.0</td>\n",
       "    </tr>\n",
       "    <tr>\n",
       "      <th>3</th>\n",
       "      <td>0.0</td>\n",
       "      <td>0.0</td>\n",
       "      <td>0.0</td>\n",
       "      <td>0.0</td>\n",
       "      <td>0.0</td>\n",
       "      <td>0.0</td>\n",
       "      <td>0.0</td>\n",
       "      <td>0.0</td>\n",
       "      <td>0.0</td>\n",
       "      <td>0.0</td>\n",
       "    </tr>\n",
       "    <tr>\n",
       "      <th>4</th>\n",
       "      <td>0.0</td>\n",
       "      <td>0.0</td>\n",
       "      <td>0.0</td>\n",
       "      <td>0.0</td>\n",
       "      <td>3.0</td>\n",
       "      <td>1.0</td>\n",
       "      <td>0.0</td>\n",
       "      <td>0.0</td>\n",
       "      <td>0.0</td>\n",
       "      <td>4.0</td>\n",
       "    </tr>\n",
       "  </tbody>\n",
       "</table>\n",
       "</div>"
      ],
      "text/plain": [
       "   DPQ010  DPQ020  DPQ030  DPQ040  DPQ050  DPQ060  DPQ070  DPQ080  DPQ090  \\\n",
       "0     NaN     NaN     NaN     NaN     NaN     NaN     NaN     NaN     NaN   \n",
       "1     0.0     0.0     0.0     0.0     0.0     0.0     0.0     0.0     0.0   \n",
       "2     0.0     0.0     0.0     0.0     0.0     0.0     0.0     0.0     0.0   \n",
       "3     0.0     0.0     0.0     0.0     0.0     0.0     0.0     0.0     0.0   \n",
       "4     0.0     0.0     0.0     0.0     3.0     1.0     0.0     0.0     0.0   \n",
       "\n",
       "   phq9  \n",
       "0   NaN  \n",
       "1   0.0  \n",
       "2   0.0  \n",
       "3   0.0  \n",
       "4   4.0  "
      ]
     },
     "execution_count": 275,
     "metadata": {},
     "output_type": "execute_result"
    }
   ],
   "source": [
    "#Criando a variável phq9 - escore Patient Health Questionnaire-9 como a soma das variáveis DPQ010 a DPQ090\n",
    "\n",
    "df_full2[\"phq9\"] = df_full2[[\"DPQ010\", \"DPQ020\", \"DPQ030\", \"DPQ040\", \"DPQ050\", \"DPQ060\", \"DPQ070\", \"DPQ080\", \"DPQ090\"]].sum(axis = 'columns', skipna = False)\n",
    "df_full2[[\"DPQ010\", \"DPQ020\", \"DPQ030\", \"DPQ040\", \"DPQ050\", \"DPQ060\", \"DPQ070\", \"DPQ080\", \"DPQ090\", \"phq9\" ]].head()"
   ]
  },
  {
   "cell_type": "markdown",
   "id": "2f1fc86c",
   "metadata": {},
   "source": [
    "Crie a variável phq_grp - grupo de sintomas de depressão que assume \n",
    "0 (“sem sintomas”) se phq9 < 5, \n",
    "1 (“sintomas leves”) se 5 <= phq9 < 10, \n",
    "2 (“sintomas moderados”) se 10 <= phq9 < 15, \n",
    "3 (“sintomas moderadamente severos”) se 15 <= phq9 < 19 \n",
    "4 (“sintomas severos”) se phq9 >= 20"
   ]
  },
  {
   "cell_type": "code",
   "execution_count": 276,
   "id": "11f08953",
   "metadata": {},
   "outputs": [],
   "source": [
    "# Crianda a função\n",
    "def grupo_sintomas(x):\n",
    "    if x < 5:\n",
    "        x = 0\n",
    "    if 5 <= x < 10:\n",
    "        x = 1\n",
    "    if 10 <= x < 15:\n",
    "        x = 2\n",
    "    if 15 <= x < 19:\n",
    "        x = 3\n",
    "    if x >= 20:\n",
    "        x = 4\n",
    "    return x\n",
    "        "
   ]
  },
  {
   "cell_type": "code",
   "execution_count": 277,
   "id": "abe9f4ef",
   "metadata": {},
   "outputs": [
    {
     "data": {
      "text/plain": [
       "phq_grp\n",
       "0.0        3796\n",
       "1.0         706\n",
       "2.0         201\n",
       "3.0          62\n",
       "4.0          23\n",
       "19.0         11\n",
       "dtype: int64"
      ]
     },
     "execution_count": 277,
     "metadata": {},
     "output_type": "execute_result"
    }
   ],
   "source": [
    "df_full2['phq_grp'] = df_full2['phq9'].apply(lambda x: grupo_sintomas(x)) \n",
    "df_full2[['phq_grp']].value_counts(sort = False)"
   ]
  },
  {
   "cell_type": "code",
   "execution_count": 278,
   "id": "c204a8b1",
   "metadata": {},
   "outputs": [],
   "source": [
    "# Como os níveis 3 e 4 tem uma pequena quantidade de valores em relação ao tamanho total do dataset,\n",
    "#optarei por reagrupar novamente em apenas 3 grupos:\n",
    "#0 = Sem sintomas\n",
    "#1 = Sintomas leves\n",
    "#2 = Sintomas moderados a severos\n",
    "\n",
    "# Crianda a função\n",
    "def grupo_sintomas2(x):\n",
    "    if x < 5:\n",
    "        x = 0\n",
    "    elif 5 <= x < 10:\n",
    "        x = 1\n",
    "    elif x >= 10:\n",
    "        x = 2\n",
    "    return x\n"
   ]
  },
  {
   "cell_type": "code",
   "execution_count": 279,
   "id": "8b722df1",
   "metadata": {},
   "outputs": [
    {
     "data": {
      "text/plain": [
       "phq_grp2\n",
       "0.0         3796\n",
       "1.0          706\n",
       "2.0          297\n",
       "dtype: int64"
      ]
     },
     "execution_count": 279,
     "metadata": {},
     "output_type": "execute_result"
    }
   ],
   "source": [
    "df_full2['phq_grp2'] = df_full2['phq9'].apply(lambda x: grupo_sintomas2(x)) \n",
    "df_full2[['phq_grp2']].value_counts(sort = False)"
   ]
  },
  {
   "cell_type": "code",
   "execution_count": 280,
   "id": "fee7426d",
   "metadata": {},
   "outputs": [
    {
     "data": {
      "text/html": [
       "<div>\n",
       "<style scoped>\n",
       "    .dataframe tbody tr th:only-of-type {\n",
       "        vertical-align: middle;\n",
       "    }\n",
       "\n",
       "    .dataframe tbody tr th {\n",
       "        vertical-align: top;\n",
       "    }\n",
       "\n",
       "    .dataframe thead th {\n",
       "        text-align: right;\n",
       "    }\n",
       "</style>\n",
       "<table border=\"1\" class=\"dataframe\">\n",
       "  <thead>\n",
       "    <tr style=\"text-align: right;\">\n",
       "      <th></th>\n",
       "      <th>RIDAGEYR</th>\n",
       "      <th>PAG_MINW</th>\n",
       "      <th>HEI2015C1_TOTALVEG</th>\n",
       "      <th>HEI2015C2_GREEN_AND_BEAN</th>\n",
       "      <th>HEI2015C3_TOTALFRUIT</th>\n",
       "      <th>HEI2015C4_WHOLEFRUIT</th>\n",
       "      <th>HEI2015C5_WHOLEGRAIN</th>\n",
       "      <th>HEI2015C6_TOTALDAIRY</th>\n",
       "      <th>HEI2015C7_TOTPROT</th>\n",
       "      <th>HEI2015C8_SEAPLANT_PROT</th>\n",
       "      <th>HEI2015C9_FATTYACID</th>\n",
       "      <th>HEI2015C10_SODIUM</th>\n",
       "      <th>HEI2015C11_REFINEDGRAIN</th>\n",
       "      <th>HEI2015C12_SFAT</th>\n",
       "      <th>HEI2015C13_ADDSUG</th>\n",
       "      <th>HEI2015_TOTAL_SCORE</th>\n",
       "      <th>phq9</th>\n",
       "    </tr>\n",
       "  </thead>\n",
       "  <tbody>\n",
       "    <tr>\n",
       "      <th>count</th>\n",
       "      <td>5334.00</td>\n",
       "      <td>5334.00</td>\n",
       "      <td>5060.00</td>\n",
       "      <td>5060.00</td>\n",
       "      <td>5060.00</td>\n",
       "      <td>5060.00</td>\n",
       "      <td>5060.00</td>\n",
       "      <td>5060.00</td>\n",
       "      <td>5060.00</td>\n",
       "      <td>5060.00</td>\n",
       "      <td>5060.00</td>\n",
       "      <td>5060.00</td>\n",
       "      <td>5060.00</td>\n",
       "      <td>5060.00</td>\n",
       "      <td>5060.00</td>\n",
       "      <td>5060.00</td>\n",
       "      <td>4799.00</td>\n",
       "    </tr>\n",
       "    <tr>\n",
       "      <th>mean</th>\n",
       "      <td>45.09</td>\n",
       "      <td>471.77</td>\n",
       "      <td>3.20</td>\n",
       "      <td>1.81</td>\n",
       "      <td>2.49</td>\n",
       "      <td>2.36</td>\n",
       "      <td>1.76</td>\n",
       "      <td>3.76</td>\n",
       "      <td>4.43</td>\n",
       "      <td>2.59</td>\n",
       "      <td>4.71</td>\n",
       "      <td>4.76</td>\n",
       "      <td>5.80</td>\n",
       "      <td>6.07</td>\n",
       "      <td>6.22</td>\n",
       "      <td>49.97</td>\n",
       "      <td>2.73</td>\n",
       "    </tr>\n",
       "    <tr>\n",
       "      <th>std</th>\n",
       "      <td>20.15</td>\n",
       "      <td>780.35</td>\n",
       "      <td>1.47</td>\n",
       "      <td>2.14</td>\n",
       "      <td>1.95</td>\n",
       "      <td>2.17</td>\n",
       "      <td>1.92</td>\n",
       "      <td>1.61</td>\n",
       "      <td>1.01</td>\n",
       "      <td>2.17</td>\n",
       "      <td>3.24</td>\n",
       "      <td>3.42</td>\n",
       "      <td>3.50</td>\n",
       "      <td>3.18</td>\n",
       "      <td>3.33</td>\n",
       "      <td>12.32</td>\n",
       "      <td>3.73</td>\n",
       "    </tr>\n",
       "    <tr>\n",
       "      <th>min</th>\n",
       "      <td>18.00</td>\n",
       "      <td>0.00</td>\n",
       "      <td>0.00</td>\n",
       "      <td>0.00</td>\n",
       "      <td>0.00</td>\n",
       "      <td>0.00</td>\n",
       "      <td>0.00</td>\n",
       "      <td>0.00</td>\n",
       "      <td>0.00</td>\n",
       "      <td>0.00</td>\n",
       "      <td>0.00</td>\n",
       "      <td>0.00</td>\n",
       "      <td>0.00</td>\n",
       "      <td>0.00</td>\n",
       "      <td>0.00</td>\n",
       "      <td>16.06</td>\n",
       "      <td>0.00</td>\n",
       "    </tr>\n",
       "    <tr>\n",
       "      <th>25%</th>\n",
       "      <td>27.00</td>\n",
       "      <td>35.00</td>\n",
       "      <td>2.06</td>\n",
       "      <td>0.00</td>\n",
       "      <td>0.45</td>\n",
       "      <td>0.00</td>\n",
       "      <td>0.00</td>\n",
       "      <td>2.59</td>\n",
       "      <td>4.17</td>\n",
       "      <td>0.00</td>\n",
       "      <td>2.02</td>\n",
       "      <td>1.59</td>\n",
       "      <td>2.93</td>\n",
       "      <td>3.70</td>\n",
       "      <td>3.72</td>\n",
       "      <td>41.03</td>\n",
       "      <td>0.00</td>\n",
       "    </tr>\n",
       "    <tr>\n",
       "      <th>50%</th>\n",
       "      <td>43.00</td>\n",
       "      <td>210.00</td>\n",
       "      <td>3.22</td>\n",
       "      <td>0.06</td>\n",
       "      <td>2.32</td>\n",
       "      <td>2.08</td>\n",
       "      <td>1.03</td>\n",
       "      <td>4.94</td>\n",
       "      <td>5.00</td>\n",
       "      <td>2.59</td>\n",
       "      <td>4.43</td>\n",
       "      <td>4.83</td>\n",
       "      <td>6.23</td>\n",
       "      <td>6.41</td>\n",
       "      <td>6.86</td>\n",
       "      <td>49.51</td>\n",
       "      <td>1.00</td>\n",
       "    </tr>\n",
       "    <tr>\n",
       "      <th>75%</th>\n",
       "      <td>62.00</td>\n",
       "      <td>568.93</td>\n",
       "      <td>4.83</td>\n",
       "      <td>4.50</td>\n",
       "      <td>4.94</td>\n",
       "      <td>5.00</td>\n",
       "      <td>3.41</td>\n",
       "      <td>5.00</td>\n",
       "      <td>5.00</td>\n",
       "      <td>5.00</td>\n",
       "      <td>7.27</td>\n",
       "      <td>7.65</td>\n",
       "      <td>9.25</td>\n",
       "      <td>9.00</td>\n",
       "      <td>9.45</td>\n",
       "      <td>58.17</td>\n",
       "      <td>4.00</td>\n",
       "    </tr>\n",
       "    <tr>\n",
       "      <th>95%</th>\n",
       "      <td>81.00</td>\n",
       "      <td>1863.05</td>\n",
       "      <td>5.00</td>\n",
       "      <td>5.00</td>\n",
       "      <td>5.00</td>\n",
       "      <td>5.00</td>\n",
       "      <td>5.00</td>\n",
       "      <td>5.00</td>\n",
       "      <td>5.00</td>\n",
       "      <td>5.00</td>\n",
       "      <td>10.00</td>\n",
       "      <td>10.00</td>\n",
       "      <td>10.00</td>\n",
       "      <td>10.00</td>\n",
       "      <td>10.00</td>\n",
       "      <td>71.19</td>\n",
       "      <td>10.00</td>\n",
       "    </tr>\n",
       "    <tr>\n",
       "      <th>99%</th>\n",
       "      <td>85.00</td>\n",
       "      <td>3672.06</td>\n",
       "      <td>5.00</td>\n",
       "      <td>5.00</td>\n",
       "      <td>5.00</td>\n",
       "      <td>5.00</td>\n",
       "      <td>5.00</td>\n",
       "      <td>5.00</td>\n",
       "      <td>5.00</td>\n",
       "      <td>5.00</td>\n",
       "      <td>10.00</td>\n",
       "      <td>10.00</td>\n",
       "      <td>10.00</td>\n",
       "      <td>10.00</td>\n",
       "      <td>10.00</td>\n",
       "      <td>79.86</td>\n",
       "      <td>17.00</td>\n",
       "    </tr>\n",
       "    <tr>\n",
       "      <th>max</th>\n",
       "      <td>85.00</td>\n",
       "      <td>10777.83</td>\n",
       "      <td>5.00</td>\n",
       "      <td>5.00</td>\n",
       "      <td>5.00</td>\n",
       "      <td>5.00</td>\n",
       "      <td>5.00</td>\n",
       "      <td>5.00</td>\n",
       "      <td>5.00</td>\n",
       "      <td>5.00</td>\n",
       "      <td>10.00</td>\n",
       "      <td>10.00</td>\n",
       "      <td>10.00</td>\n",
       "      <td>10.00</td>\n",
       "      <td>10.00</td>\n",
       "      <td>89.53</td>\n",
       "      <td>27.00</td>\n",
       "    </tr>\n",
       "  </tbody>\n",
       "</table>\n",
       "</div>"
      ],
      "text/plain": [
       "       RIDAGEYR  PAG_MINW  HEI2015C1_TOTALVEG  HEI2015C2_GREEN_AND_BEAN  \\\n",
       "count   5334.00   5334.00             5060.00                   5060.00   \n",
       "mean      45.09    471.77                3.20                      1.81   \n",
       "std       20.15    780.35                1.47                      2.14   \n",
       "min       18.00      0.00                0.00                      0.00   \n",
       "25%       27.00     35.00                2.06                      0.00   \n",
       "50%       43.00    210.00                3.22                      0.06   \n",
       "75%       62.00    568.93                4.83                      4.50   \n",
       "95%       81.00   1863.05                5.00                      5.00   \n",
       "99%       85.00   3672.06                5.00                      5.00   \n",
       "max       85.00  10777.83                5.00                      5.00   \n",
       "\n",
       "       HEI2015C3_TOTALFRUIT  HEI2015C4_WHOLEFRUIT  HEI2015C5_WHOLEGRAIN  \\\n",
       "count               5060.00               5060.00               5060.00   \n",
       "mean                   2.49                  2.36                  1.76   \n",
       "std                    1.95                  2.17                  1.92   \n",
       "min                    0.00                  0.00                  0.00   \n",
       "25%                    0.45                  0.00                  0.00   \n",
       "50%                    2.32                  2.08                  1.03   \n",
       "75%                    4.94                  5.00                  3.41   \n",
       "95%                    5.00                  5.00                  5.00   \n",
       "99%                    5.00                  5.00                  5.00   \n",
       "max                    5.00                  5.00                  5.00   \n",
       "\n",
       "       HEI2015C6_TOTALDAIRY  HEI2015C7_TOTPROT  HEI2015C8_SEAPLANT_PROT  \\\n",
       "count               5060.00            5060.00                  5060.00   \n",
       "mean                   3.76               4.43                     2.59   \n",
       "std                    1.61               1.01                     2.17   \n",
       "min                    0.00               0.00                     0.00   \n",
       "25%                    2.59               4.17                     0.00   \n",
       "50%                    4.94               5.00                     2.59   \n",
       "75%                    5.00               5.00                     5.00   \n",
       "95%                    5.00               5.00                     5.00   \n",
       "99%                    5.00               5.00                     5.00   \n",
       "max                    5.00               5.00                     5.00   \n",
       "\n",
       "       HEI2015C9_FATTYACID  HEI2015C10_SODIUM  HEI2015C11_REFINEDGRAIN  \\\n",
       "count              5060.00            5060.00                  5060.00   \n",
       "mean                  4.71               4.76                     5.80   \n",
       "std                   3.24               3.42                     3.50   \n",
       "min                   0.00               0.00                     0.00   \n",
       "25%                   2.02               1.59                     2.93   \n",
       "50%                   4.43               4.83                     6.23   \n",
       "75%                   7.27               7.65                     9.25   \n",
       "95%                  10.00              10.00                    10.00   \n",
       "99%                  10.00              10.00                    10.00   \n",
       "max                  10.00              10.00                    10.00   \n",
       "\n",
       "       HEI2015C12_SFAT  HEI2015C13_ADDSUG  HEI2015_TOTAL_SCORE     phq9  \n",
       "count          5060.00            5060.00              5060.00  4799.00  \n",
       "mean              6.07               6.22                49.97     2.73  \n",
       "std               3.18               3.33                12.32     3.73  \n",
       "min               0.00               0.00                16.06     0.00  \n",
       "25%               3.70               3.72                41.03     0.00  \n",
       "50%               6.41               6.86                49.51     1.00  \n",
       "75%               9.00               9.45                58.17     4.00  \n",
       "95%              10.00              10.00                71.19    10.00  \n",
       "99%              10.00              10.00                79.86    17.00  \n",
       "max              10.00              10.00                89.53    27.00  "
      ]
     },
     "execution_count": 280,
     "metadata": {},
     "output_type": "execute_result"
    }
   ],
   "source": [
    "# Resumo das medidas das variáveis quantitativas:\n",
    "\n",
    "df_full2[[\"RIDAGEYR\", \"PAG_MINW\", \"HEI2015C1_TOTALVEG\", \"HEI2015C2_GREEN_AND_BEAN\", \"HEI2015C3_TOTALFRUIT\",\n",
    "          \"HEI2015C4_WHOLEFRUIT\", \"HEI2015C5_WHOLEGRAIN\", \"HEI2015C6_TOTALDAIRY\", \"HEI2015C7_TOTPROT\", \"HEI2015C8_SEAPLANT_PROT\",\n",
    "          \"HEI2015C9_FATTYACID\", \"HEI2015C10_SODIUM\", \"HEI2015C11_REFINEDGRAIN\", \"HEI2015C12_SFAT\", \"HEI2015C13_ADDSUG\",\n",
    "          \"HEI2015_TOTAL_SCORE\", \"phq9\"]].describe(percentiles = [.25, .50, .75, .95, .99]).round(2)"
   ]
  },
  {
   "cell_type": "markdown",
   "id": "6c189279",
   "metadata": {},
   "source": [
    "Avaliando as medidas de resumo, é possivel observar uma discrepância na coluna PAG_MINW que corresponde ao tempo total semanal gasto com atividades físicas. O valor não parece correto, levando em consideração que uma semna possue no máximo 168 horas (10080 minutos). Nesse caso consideramos o valor máximo de 3600 minutos (60h semanais)."
   ]
  },
  {
   "cell_type": "code",
   "execution_count": 281,
   "id": "8ce3dd8a",
   "metadata": {},
   "outputs": [],
   "source": [
    "# Criando função para correção do problema acima.\n",
    "\n",
    "def valor_max(x):\n",
    "    if x > 3600:\n",
    "        x = 3600\n",
    "    return x\n",
    "\n",
    "df_full2['PAG_MINW'] = df_full['PAG_MINW'].apply(lambda x: valor_max(x))"
   ]
  },
  {
   "cell_type": "code",
   "execution_count": 282,
   "id": "b02722ed",
   "metadata": {},
   "outputs": [
    {
     "data": {
      "text/plain": [
       "count    5334.00\n",
       "mean      454.86\n",
       "std       663.05\n",
       "min         0.00\n",
       "25%        35.00\n",
       "50%       210.00\n",
       "75%       568.93\n",
       "95%      1863.05\n",
       "99%      3600.00\n",
       "max      3600.00\n",
       "Name: PAG_MINW, dtype: float64"
      ]
     },
     "execution_count": 282,
     "metadata": {},
     "output_type": "execute_result"
    }
   ],
   "source": [
    "# Verificando se está correto\n",
    "\n",
    "df_full2['PAG_MINW'].describe(percentiles = [.25, .50, .75, .95, .99]).round(2)"
   ]
  },
  {
   "cell_type": "code",
   "execution_count": 283,
   "id": "faa5cf06",
   "metadata": {},
   "outputs": [],
   "source": [
    "# Criando um dict para as variáveis qualitativas/categóricas\n",
    "\n",
    "dict_quali = {\n",
    "  \"RIAGENDR\": {1: 'Masculino', 2: 'Feminino'},\n",
    "  \"RIDRETH1\": {1: 'Americano \\n Mexicano', 2: 'Outro', 3: 'Branco \\n não hispânico', 4: 'Negro \\n não hispânico', 5: 'outros \\n hispânico'},\n",
    "  \"DMDEDUC\": {1: '< 9 ano', 2: '9-12 ano', 3: 'Ensino \\n médio', 4: 'Superior \\n incompleto', 5: 'Superior \\n completo'},\n",
    "  \"ADHERENCE\": {1: 'Baixo', 2: 'Adequado', 3: 'Acima'},\n",
    "  \"phq_grp2\": {0: 'Sem \\n sintomas', 1: 'Sintomas \\n leves', 2: 'Sintomas \\n moderados \\n a severos'},\n",
    "  \"INDFMINC\": {1: '0-4999', 2: '5000-9999', 3: '10000-14999', 4: '15000-19999', 5: '20000-24999', 6: '25000-34999', 7: '35000-44999', 8: '45000-54999', 9: '55000-64999', 10: '65000-74999', 11: 'Maior ou igual a 75000'}\n",
    "}"
   ]
  },
  {
   "cell_type": "markdown",
   "id": "a892c1f8",
   "metadata": {},
   "source": [
    "Tempo total semanal de atividade aeróbica moderada vigorosa em minutos segundo o Physical Activity = PAG_MINW\n",
    "Podemos transformar a variável PAG_MINW em horas:"
   ]
  },
  {
   "cell_type": "code",
   "execution_count": 284,
   "id": "898e7d91",
   "metadata": {},
   "outputs": [],
   "source": [
    "df_full2[\"PAG_HRW\"] = df_full2[\"PAG_MINW\"]/60"
   ]
  },
  {
   "cell_type": "code",
   "execution_count": 285,
   "id": "e5b51b2a",
   "metadata": {},
   "outputs": [
    {
     "data": {
      "image/png": "[encoded data removed]",
      "text/plain": [
       "<Figure size 360x360 with 1 Axes>"
      ]
     },
     "metadata": {
      "needs_background": "light"
     },
     "output_type": "display_data"
    },
    {
     "data": {
      "image/png": "[encoded data removed]",
      "text/plain": [
       "<Figure size 360x360 with 1 Axes>"
      ]
     },
     "metadata": {
      "needs_background": "light"
     },
     "output_type": "display_data"
    },
    {
     "data": {
      "image/png": "[encoded data removed]",
      "text/plain": [
       "<Figure size 360x360 with 1 Axes>"
      ]
     },
     "metadata": {
      "needs_background": "light"
     },
     "output_type": "display_data"
    },
    {
     "data": {
      "image/png": "[encoded data removed]",
      "text/plain": [
       "<Figure size 360x360 with 1 Axes>"
      ]
     },
     "metadata": {
      "needs_background": "light"
     },
     "output_type": "display_data"
    }
   ],
   "source": [
    "sns.displot(df_full2, x=\"RIDAGEYR\", kde=True)\n",
    "sns.displot(df_full2, x=\"INDFMINC\", kde=True)\n",
    "sns.displot(df_full2, x=\"PAG_MINW\", kde=True)\n",
    "sns.displot(df_full2, x=\"PAG_HRW\", kde=True)\n",
    "\n",
    "plt.show()"
   ]
  },
  {
   "cell_type": "markdown",
   "id": "f4992042",
   "metadata": {},
   "source": [
    "Como a variável PAG_HRW é bastante assimétrica, podemos também criar uma versão com o log:"
   ]
  },
  {
   "cell_type": "code",
   "execution_count": 286,
   "id": "61fa77f4",
   "metadata": {},
   "outputs": [
    {
     "data": {
      "image/png": "[encoded data removed]",
      "text/plain": [
       "<Figure size 360x360 with 1 Axes>"
      ]
     },
     "metadata": {
      "needs_background": "light"
     },
     "output_type": "display_data"
    }
   ],
   "source": [
    "df_full2[\"PAG_HRW_log\"] = np.log(df_full2[\"PAG_HRW\"] + 1)\n",
    "sns.displot(df_full2, x=\"PAG_HRW_log\", kde=True)\n",
    "plt.show()"
   ]
  },
  {
   "cell_type": "code",
   "execution_count": 287,
   "id": "16b37ab1",
   "metadata": {},
   "outputs": [],
   "source": [
    "# Função para construir gráfico de barras\n",
    "\n",
    "def grafico_barras_prop(data, variable):\n",
    "    (data[[variable]]\n",
    "     .value_counts(normalize=True, sort = False)\n",
    "     .rename(\"Proportion\")\n",
    "     .reset_index()\n",
    "     .pipe((sns.barplot, \"data\"), x=variable, y=\"Proportion\"))\n",
    "    plt.ylim(0,1)\n",
    "    plt.show()"
   ]
  },
  {
   "cell_type": "code",
   "execution_count": 288,
   "id": "dbd13ab1",
   "metadata": {},
   "outputs": [
    {
     "data": {
      "image/png": "[encoded data removed]",
      "text/plain": [
       "<Figure size 432x288 with 1 Axes>"
      ]
     },
     "metadata": {
      "needs_background": "light"
     },
     "output_type": "display_data"
    }
   ],
   "source": [
    "grafico_barras_prop(df_full2.replace(dict_quali), variable = \"RIAGENDR\")"
   ]
  },
  {
   "cell_type": "code",
   "execution_count": 289,
   "id": "6914dd7b",
   "metadata": {},
   "outputs": [
    {
     "data": {
      "image/png": "[encoded data removed]",
      "text/plain": [
       "<Figure size 432x288 with 1 Axes>"
      ]
     },
     "metadata": {
      "needs_background": "light"
     },
     "output_type": "display_data"
    }
   ],
   "source": [
    "grafico_barras_prop(df_full2.replace(dict_quali), variable = \"RIDRETH1\")"
   ]
  },
  {
   "cell_type": "code",
   "execution_count": 290,
   "id": "2cce721e",
   "metadata": {},
   "outputs": [
    {
     "data": {
      "image/png": "[encoded data removed]",
      "text/plain": [
       "<Figure size 432x288 with 1 Axes>"
      ]
     },
     "metadata": {
      "needs_background": "light"
     },
     "output_type": "display_data"
    }
   ],
   "source": [
    "grafico_barras_prop(df_full2.replace(dict_quali), variable = \"DMDEDUC\")"
   ]
  },
  {
   "cell_type": "code",
   "execution_count": 291,
   "id": "90a0b6b7",
   "metadata": {},
   "outputs": [
    {
     "data": {
      "image/png": "[encoded data removed]",
      "text/plain": [
       "<Figure size 432x288 with 1 Axes>"
      ]
     },
     "metadata": {
      "needs_background": "light"
     },
     "output_type": "display_data"
    }
   ],
   "source": [
    "grafico_barras_prop(df_full2.replace(dict_quali), variable = \"ADHERENCE\")"
   ]
  },
  {
   "cell_type": "code",
   "execution_count": 292,
   "id": "1b8d7582",
   "metadata": {},
   "outputs": [
    {
     "data": {
      "image/png": "[encoded data removed]",
      "text/plain": [
       "<Figure size 432x288 with 1 Axes>"
      ]
     },
     "metadata": {
      "needs_background": "light"
     },
     "output_type": "display_data"
    }
   ],
   "source": [
    "grafico_barras_prop(df_full2.replace(dict_quali), variable = \"phq_grp2\")"
   ]
  },
  {
   "cell_type": "markdown",
   "id": "7a998592",
   "metadata": {},
   "source": [
    "## EDA: Análise Bivariada + Teste de Hipóteses"
   ]
  },
  {
   "cell_type": "code",
   "execution_count": 296,
   "id": "e653759d",
   "metadata": {},
   "outputs": [],
   "source": [
    "# Função para construir boxplot\n",
    "\n",
    "def grafico_boxplot(dataset, var, nome):\n",
    "    \n",
    "    if nome == \"\": nome = var\n",
    "    sns.boxplot(x=\"phq_grp2\", y=var, data=dataset)\n",
    "    plt.ylabel(nome)\n",
    "    plt.show()\n",
    "    \n",
    "   "
   ]
  },
  {
   "cell_type": "markdown",
   "id": "2181e87c",
   "metadata": {},
   "source": [
    "### Perfil com maiores incidências de sintomas de depressão"
   ]
  },
  {
   "cell_type": "code",
   "execution_count": 297,
   "id": "22134aa4",
   "metadata": {},
   "outputs": [
    {
     "data": {
      "image/png": "[encoded data removed]",
      "text/plain": [
       "<Figure size 432x288 with 1 Axes>"
      ]
     },
     "metadata": {
      "needs_background": "light"
     },
     "output_type": "display_data"
    }
   ],
   "source": [
    "grafico_boxplot(df_full2.replace(dict_quali), \"RIDAGEYR\", \"Idade\")"
   ]
  },
  {
   "cell_type": "markdown",
   "id": "fd0fa5e8",
   "metadata": {},
   "source": [
    "Teste de hipóteses:\n",
    "\n",
    "Neste caso queremos comparar a média de idade para os três grupos de sintomas de depressão. Sendo assim, o teste F da ANOVA será utilizado. Neste teste, decidimos entre a hipótese nula: \"Não existe diferença entre os grupos de depressão com relação à média de idade\" e a hipótese alternativa: \"Existe pelo menos uma diferença na média de idade entre os grupos de sintomas de depressão\"."
   ]
  },
  {
   "cell_type": "code",
   "execution_count": 298,
   "id": "0fea9d14",
   "metadata": {},
   "outputs": [
    {
     "name": "stdout",
     "output_type": "stream",
     "text": [
      "stat=2.935, p=0.053\n"
     ]
    }
   ],
   "source": [
    "from scipy.stats import f_oneway\n",
    "\n",
    "df_aux = df_full2[[\"phq_grp2\", \"RIDAGEYR\"]].dropna()\n",
    "\n",
    "stat, p = f_oneway(df_aux[(df_aux.phq_grp2 == 0)][\"RIDAGEYR\"],\n",
    "                   df_aux[(df_aux.phq_grp2 == 1)][\"RIDAGEYR\"],\n",
    "                   df_aux[(df_aux.phq_grp2 == 2)][\"RIDAGEYR\"])\n",
    "\n",
    "print('stat=%.3f, p=%.3f' % (stat, p))"
   ]
  },
  {
   "cell_type": "code",
   "execution_count": null,
   "id": "ffe35edf",
   "metadata": {},
   "outputs": [],
   "source": [
    "#comentário sobre o teste acima"
   ]
  },
  {
   "cell_type": "code",
   "execution_count": 304,
   "id": "8360afcf",
   "metadata": {},
   "outputs": [
    {
     "name": "stdout",
     "output_type": "stream",
     "text": [
      "<class 'pandas.core.frame.DataFrame'>\n",
      "Int64Index: 5334 entries, 0 to 5333\n",
      "Data columns (total 36 columns):\n",
      " #   Column                    Non-Null Count  Dtype  \n",
      "---  ------                    --------------  -----  \n",
      " 0   SEQN                      5334 non-null   int64  \n",
      " 1   DPQ010                    4827 non-null   float64\n",
      " 2   DPQ020                    4831 non-null   float64\n",
      " 3   DPQ030                    4829 non-null   float64\n",
      " 4   DPQ040                    4831 non-null   float64\n",
      " 5   DPQ050                    4832 non-null   float64\n",
      " 6   DPQ060                    4831 non-null   float64\n",
      " 7   DPQ070                    4832 non-null   float64\n",
      " 8   DPQ080                    4827 non-null   float64\n",
      " 9   DPQ090                    4834 non-null   float64\n",
      " 10  RIAGENDR                  5334 non-null   object \n",
      " 11  RIDAGEYR                  5334 non-null   int64  \n",
      " 12  RIDRETH1                  5334 non-null   object \n",
      " 13  DMDEDUC                   5326 non-null   object \n",
      " 14  INDFMINC                  5174 non-null   object \n",
      " 15  PAG_MINW                  5334 non-null   float64\n",
      " 16  ADHERENCE                 5334 non-null   object \n",
      " 17  HEI2015C1_TOTALVEG        5060 non-null   float64\n",
      " 18  HEI2015C2_GREEN_AND_BEAN  5060 non-null   float64\n",
      " 19  HEI2015C3_TOTALFRUIT      5060 non-null   float64\n",
      " 20  HEI2015C4_WHOLEFRUIT      5060 non-null   float64\n",
      " 21  HEI2015C5_WHOLEGRAIN      5060 non-null   float64\n",
      " 22  HEI2015C6_TOTALDAIRY      5060 non-null   float64\n",
      " 23  HEI2015C7_TOTPROT         5060 non-null   float64\n",
      " 24  HEI2015C8_SEAPLANT_PROT   5060 non-null   float64\n",
      " 25  HEI2015C9_FATTYACID       5060 non-null   float64\n",
      " 26  HEI2015C10_SODIUM         5060 non-null   float64\n",
      " 27  HEI2015C11_REFINEDGRAIN   5060 non-null   float64\n",
      " 28  HEI2015C12_SFAT           5060 non-null   float64\n",
      " 29  HEI2015C13_ADDSUG         5060 non-null   float64\n",
      " 30  HEI2015_TOTAL_SCORE       5060 non-null   float64\n",
      " 31  phq9                      4799 non-null   float64\n",
      " 32  phq_grp                   4799 non-null   float64\n",
      " 33  phq_grp2                  4799 non-null   object \n",
      " 34  PAG_HRW                   5334 non-null   float64\n",
      " 35  PAG_HRW_log               5334 non-null   float64\n",
      "dtypes: float64(28), int64(2), object(6)\n",
      "memory usage: 1.6+ MB\n"
     ]
    }
   ],
   "source": [
    "df_full2.replace(dict_quali).info()"
   ]
  },
  {
   "cell_type": "code",
   "execution_count": 302,
   "id": "9c4f95b5",
   "metadata": {},
   "outputs": [
    {
     "ename": "ValueError",
     "evalue": "Could not interpret input 'phq_grp2'",
     "output_type": "error",
     "traceback": [
      "\u001b[1;31m---------------------------------------------------------------------------\u001b[0m",
      "\u001b[1;31mValueError\u001b[0m                                Traceback (most recent call last)",
      "\u001b[1;32m~\\AppData\\Local\\Temp/ipykernel_4624/712524022.py\u001b[0m in \u001b[0;36m<module>\u001b[1;34m\u001b[0m\n\u001b[1;32m----> 1\u001b[1;33m \u001b[0mgrafico_boxplot\u001b[0m\u001b[1;33m(\u001b[0m\u001b[0mdf_full2\u001b[0m\u001b[1;33m[\u001b[0m\u001b[1;34m\"INDFMINC\"\u001b[0m\u001b[1;33m]\u001b[0m\u001b[1;33m,\u001b[0m \u001b[1;34m\"INDFMINC\"\u001b[0m\u001b[1;33m,\u001b[0m \u001b[1;34m\"Renda Anual Familiar (US$)\"\u001b[0m\u001b[1;33m)\u001b[0m\u001b[1;33m\u001b[0m\u001b[1;33m\u001b[0m\u001b[0m\n\u001b[0m",
      "\u001b[1;32m~\\AppData\\Local\\Temp/ipykernel_4624/3110875050.py\u001b[0m in \u001b[0;36mgrafico_boxplot\u001b[1;34m(dataset, var, nome)\u001b[0m\n\u001b[0;32m      4\u001b[0m \u001b[1;33m\u001b[0m\u001b[0m\n\u001b[0;32m      5\u001b[0m     \u001b[1;32mif\u001b[0m \u001b[0mnome\u001b[0m \u001b[1;33m==\u001b[0m \u001b[1;34m\"\"\u001b[0m\u001b[1;33m:\u001b[0m \u001b[0mnome\u001b[0m \u001b[1;33m=\u001b[0m \u001b[0mvar\u001b[0m\u001b[1;33m\u001b[0m\u001b[1;33m\u001b[0m\u001b[0m\n\u001b[1;32m----> 6\u001b[1;33m     \u001b[0msns\u001b[0m\u001b[1;33m.\u001b[0m\u001b[0mboxplot\u001b[0m\u001b[1;33m(\u001b[0m\u001b[0mx\u001b[0m\u001b[1;33m=\u001b[0m\u001b[1;34m\"phq_grp2\"\u001b[0m\u001b[1;33m,\u001b[0m \u001b[0my\u001b[0m\u001b[1;33m=\u001b[0m\u001b[0mvar\u001b[0m\u001b[1;33m,\u001b[0m \u001b[0mdata\u001b[0m\u001b[1;33m=\u001b[0m\u001b[0mdataset\u001b[0m\u001b[1;33m)\u001b[0m\u001b[1;33m\u001b[0m\u001b[1;33m\u001b[0m\u001b[0m\n\u001b[0m\u001b[0;32m      7\u001b[0m     \u001b[0mplt\u001b[0m\u001b[1;33m.\u001b[0m\u001b[0mylabel\u001b[0m\u001b[1;33m(\u001b[0m\u001b[0mnome\u001b[0m\u001b[1;33m)\u001b[0m\u001b[1;33m\u001b[0m\u001b[1;33m\u001b[0m\u001b[0m\n\u001b[0;32m      8\u001b[0m     \u001b[0mplt\u001b[0m\u001b[1;33m.\u001b[0m\u001b[0mshow\u001b[0m\u001b[1;33m(\u001b[0m\u001b[1;33m)\u001b[0m\u001b[1;33m\u001b[0m\u001b[1;33m\u001b[0m\u001b[0m\n",
      "\u001b[1;32m~\\anaconda3\\lib\\site-packages\\seaborn\\_decorators.py\u001b[0m in \u001b[0;36minner_f\u001b[1;34m(*args, **kwargs)\u001b[0m\n\u001b[0;32m     44\u001b[0m             )\n\u001b[0;32m     45\u001b[0m         \u001b[0mkwargs\u001b[0m\u001b[1;33m.\u001b[0m\u001b[0mupdate\u001b[0m\u001b[1;33m(\u001b[0m\u001b[1;33m{\u001b[0m\u001b[0mk\u001b[0m\u001b[1;33m:\u001b[0m \u001b[0marg\u001b[0m \u001b[1;32mfor\u001b[0m \u001b[0mk\u001b[0m\u001b[1;33m,\u001b[0m \u001b[0marg\u001b[0m \u001b[1;32min\u001b[0m \u001b[0mzip\u001b[0m\u001b[1;33m(\u001b[0m\u001b[0msig\u001b[0m\u001b[1;33m.\u001b[0m\u001b[0mparameters\u001b[0m\u001b[1;33m,\u001b[0m \u001b[0margs\u001b[0m\u001b[1;33m)\u001b[0m\u001b[1;33m}\u001b[0m\u001b[1;33m)\u001b[0m\u001b[1;33m\u001b[0m\u001b[1;33m\u001b[0m\u001b[0m\n\u001b[1;32m---> 46\u001b[1;33m         \u001b[1;32mreturn\u001b[0m \u001b[0mf\u001b[0m\u001b[1;33m(\u001b[0m\u001b[1;33m**\u001b[0m\u001b[0mkwargs\u001b[0m\u001b[1;33m)\u001b[0m\u001b[1;33m\u001b[0m\u001b[1;33m\u001b[0m\u001b[0m\n\u001b[0m\u001b[0;32m     47\u001b[0m     \u001b[1;32mreturn\u001b[0m \u001b[0minner_f\u001b[0m\u001b[1;33m\u001b[0m\u001b[1;33m\u001b[0m\u001b[0m\n\u001b[0;32m     48\u001b[0m \u001b[1;33m\u001b[0m\u001b[0m\n",
      "\u001b[1;32m~\\anaconda3\\lib\\site-packages\\seaborn\\categorical.py\u001b[0m in \u001b[0;36mboxplot\u001b[1;34m(x, y, hue, data, order, hue_order, orient, color, palette, saturation, width, dodge, fliersize, linewidth, whis, ax, **kwargs)\u001b[0m\n\u001b[0;32m   2241\u001b[0m ):\n\u001b[0;32m   2242\u001b[0m \u001b[1;33m\u001b[0m\u001b[0m\n\u001b[1;32m-> 2243\u001b[1;33m     plotter = _BoxPlotter(x, y, hue, data, order, hue_order,\n\u001b[0m\u001b[0;32m   2244\u001b[0m                           \u001b[0morient\u001b[0m\u001b[1;33m,\u001b[0m \u001b[0mcolor\u001b[0m\u001b[1;33m,\u001b[0m \u001b[0mpalette\u001b[0m\u001b[1;33m,\u001b[0m \u001b[0msaturation\u001b[0m\u001b[1;33m,\u001b[0m\u001b[1;33m\u001b[0m\u001b[1;33m\u001b[0m\u001b[0m\n\u001b[0;32m   2245\u001b[0m                           width, dodge, fliersize, linewidth)\n",
      "\u001b[1;32m~\\anaconda3\\lib\\site-packages\\seaborn\\categorical.py\u001b[0m in \u001b[0;36m__init__\u001b[1;34m(self, x, y, hue, data, order, hue_order, orient, color, palette, saturation, width, dodge, fliersize, linewidth)\u001b[0m\n\u001b[0;32m    404\u001b[0m                  width, dodge, fliersize, linewidth):\n\u001b[0;32m    405\u001b[0m \u001b[1;33m\u001b[0m\u001b[0m\n\u001b[1;32m--> 406\u001b[1;33m         \u001b[0mself\u001b[0m\u001b[1;33m.\u001b[0m\u001b[0mestablish_variables\u001b[0m\u001b[1;33m(\u001b[0m\u001b[0mx\u001b[0m\u001b[1;33m,\u001b[0m \u001b[0my\u001b[0m\u001b[1;33m,\u001b[0m \u001b[0mhue\u001b[0m\u001b[1;33m,\u001b[0m \u001b[0mdata\u001b[0m\u001b[1;33m,\u001b[0m \u001b[0morient\u001b[0m\u001b[1;33m,\u001b[0m \u001b[0morder\u001b[0m\u001b[1;33m,\u001b[0m \u001b[0mhue_order\u001b[0m\u001b[1;33m)\u001b[0m\u001b[1;33m\u001b[0m\u001b[1;33m\u001b[0m\u001b[0m\n\u001b[0m\u001b[0;32m    407\u001b[0m         \u001b[0mself\u001b[0m\u001b[1;33m.\u001b[0m\u001b[0mestablish_colors\u001b[0m\u001b[1;33m(\u001b[0m\u001b[0mcolor\u001b[0m\u001b[1;33m,\u001b[0m \u001b[0mpalette\u001b[0m\u001b[1;33m,\u001b[0m \u001b[0msaturation\u001b[0m\u001b[1;33m)\u001b[0m\u001b[1;33m\u001b[0m\u001b[1;33m\u001b[0m\u001b[0m\n\u001b[0;32m    408\u001b[0m \u001b[1;33m\u001b[0m\u001b[0m\n",
      "\u001b[1;32m~\\anaconda3\\lib\\site-packages\\seaborn\\categorical.py\u001b[0m in \u001b[0;36mestablish_variables\u001b[1;34m(self, x, y, hue, data, orient, order, hue_order, units)\u001b[0m\n\u001b[0;32m    151\u001b[0m                 \u001b[1;32mif\u001b[0m \u001b[0misinstance\u001b[0m\u001b[1;33m(\u001b[0m\u001b[0mvar\u001b[0m\u001b[1;33m,\u001b[0m \u001b[0mstr\u001b[0m\u001b[1;33m)\u001b[0m\u001b[1;33m:\u001b[0m\u001b[1;33m\u001b[0m\u001b[1;33m\u001b[0m\u001b[0m\n\u001b[0;32m    152\u001b[0m                     \u001b[0merr\u001b[0m \u001b[1;33m=\u001b[0m \u001b[1;34m\"Could not interpret input '{}'\"\u001b[0m\u001b[1;33m.\u001b[0m\u001b[0mformat\u001b[0m\u001b[1;33m(\u001b[0m\u001b[0mvar\u001b[0m\u001b[1;33m)\u001b[0m\u001b[1;33m\u001b[0m\u001b[1;33m\u001b[0m\u001b[0m\n\u001b[1;32m--> 153\u001b[1;33m                     \u001b[1;32mraise\u001b[0m \u001b[0mValueError\u001b[0m\u001b[1;33m(\u001b[0m\u001b[0merr\u001b[0m\u001b[1;33m)\u001b[0m\u001b[1;33m\u001b[0m\u001b[1;33m\u001b[0m\u001b[0m\n\u001b[0m\u001b[0;32m    154\u001b[0m \u001b[1;33m\u001b[0m\u001b[0m\n\u001b[0;32m    155\u001b[0m             \u001b[1;31m# Figure out the plotting orientation\u001b[0m\u001b[1;33m\u001b[0m\u001b[1;33m\u001b[0m\u001b[0m\n",
      "\u001b[1;31mValueError\u001b[0m: Could not interpret input 'phq_grp2'"
     ]
    }
   ],
   "source": [
    "grafico_boxplot(df_full2[\"INDFMINC\"], \"INDFMINC\", \"Renda Anual Familiar (US$)\")"
   ]
  },
  {
   "cell_type": "code",
   "execution_count": null,
   "id": "fe7ae408",
   "metadata": {},
   "outputs": [],
   "source": []
  }
 ],
 "metadata": {
  "kernelspec": {
   "display_name": "Python 3 (ipykernel)",
   "language": "python",
   "name": "python3"
  },
  "language_info": {
   "codemirror_mode": {
    "name": "ipython",
    "version": 3
   },
   "file_extension": ".py",
   "mimetype": "text/x-python",
   "name": "python",
   "nbconvert_exporter": "python",
   "pygments_lexer": "ipython3",
   "version": "3.9.7"
  }
 },
 "nbformat": 4,
 "nbformat_minor": 5
}
